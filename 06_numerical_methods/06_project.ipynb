{
 "cells": [
  {
   "cell_type": "markdown",
   "metadata": {},
   "source": [
    "# Определение стоимости автомобилей"
   ]
  },
  {
   "cell_type": "markdown",
   "metadata": {},
   "source": [
    "Сервис по продаже автомобилей с пробегом «Не бит, не крашен» разрабатывает приложение для привлечения новых клиентов. В нём можно быстро узнать рыночную стоимость своего автомобиля. В вашем распоряжении исторические данные: технические характеристики, комплектации и цены автомобилей. Вам нужно построить модель для определения стоимости. \n",
    "\n",
    "**Цель исследования** - построить лучшую модель, учитывая 3 параметра: скорость обучения, скорость предсказания, точность предсказания.\n",
    "\n",
    "**Ход исследования**\n",
    "\n",
    "Данные об автомобилях получим из файла `autos.csv`. О качестве данных ничего неизвестно, поэтому будем производить осмотр данных и, если потребуется, предобработку данных.\n",
    "\n",
    "Таким образом, исследование пройдет в 4 этапа:\n",
    "1. Осмотр данных;\n",
    "2. Предобработка данных;\n",
    "3. Обучение моделей;\n",
    "4. Анализ моделей."
   ]
  },
  {
   "cell_type": "markdown",
   "metadata": {},
   "source": [
    "## Осмотр данных"
   ]
  },
  {
   "cell_type": "code",
   "execution_count": 1,
   "metadata": {},
   "outputs": [],
   "source": [
    "from time import time\n",
    "\n",
    "import pandas as pd\n",
    "import numpy as np\n",
    "import matplotlib.pyplot as plt\n",
    "import seaborn as sns\n",
    "\n",
    "%matplotlib inline\n",
    "\n",
    "import warnings\n",
    "warnings.filterwarnings(\"ignore\")\n",
    "\n",
    "pd.set_option('display.max_colwidth', 65)\n",
    "sns.set(style=\"whitegrid\")\n",
    "\n",
    "from sklearn.linear_model import LinearRegression, Lasso, Ridge, SGDRegressor, ElasticNet\n",
    "from sklearn.ensemble import RandomForestRegressor\n",
    "from catboost import CatBoostRegressor\n",
    "from lightgbm import Dataset, LGBMRegressor\n",
    "from sklearn.dummy import DummyRegressor\n",
    "\n",
    "from sklearn.preprocessing import StandardScaler, OneHotEncoder, OrdinalEncoder\n",
    "from sklearn.model_selection import train_test_split\n",
    "\n",
    "from sklearn.metrics import mean_squared_error\n",
    "\n",
    "from sklearn.pipeline import make_pipeline\n",
    "from sklearn.compose import make_column_transformer\n",
    "from sklearn.compose import make_column_selector as selector"
   ]
  },
  {
   "cell_type": "markdown",
   "metadata": {},
   "source": [
    "Загрузим данные"
   ]
  },
  {
   "cell_type": "code",
   "execution_count": 2,
   "metadata": {},
   "outputs": [],
   "source": [
    "data = pd.read_csv('/datasets/autos.csv')"
   ]
  },
  {
   "cell_type": "markdown",
   "metadata": {},
   "source": [
    "Посмотрим на 10 случайных наблюдений из данных."
   ]
  },
  {
   "cell_type": "code",
   "execution_count": 3,
   "metadata": {},
   "outputs": [
    {
     "data": {
      "text/html": [
       "<div>\n",
       "<style scoped>\n",
       "    .dataframe tbody tr th:only-of-type {\n",
       "        vertical-align: middle;\n",
       "    }\n",
       "\n",
       "    .dataframe tbody tr th {\n",
       "        vertical-align: top;\n",
       "    }\n",
       "\n",
       "    .dataframe thead th {\n",
       "        text-align: right;\n",
       "    }\n",
       "</style>\n",
       "<table border=\"1\" class=\"dataframe\">\n",
       "  <thead>\n",
       "    <tr style=\"text-align: right;\">\n",
       "      <th></th>\n",
       "      <th>DateCrawled</th>\n",
       "      <th>Price</th>\n",
       "      <th>VehicleType</th>\n",
       "      <th>RegistrationYear</th>\n",
       "      <th>Gearbox</th>\n",
       "      <th>Power</th>\n",
       "      <th>Model</th>\n",
       "      <th>Kilometer</th>\n",
       "      <th>RegistrationMonth</th>\n",
       "      <th>FuelType</th>\n",
       "      <th>Brand</th>\n",
       "      <th>NotRepaired</th>\n",
       "      <th>DateCreated</th>\n",
       "      <th>NumberOfPictures</th>\n",
       "      <th>PostalCode</th>\n",
       "      <th>LastSeen</th>\n",
       "    </tr>\n",
       "  </thead>\n",
       "  <tbody>\n",
       "    <tr>\n",
       "      <th>289474</th>\n",
       "      <td>2016-03-07 18:53:54</td>\n",
       "      <td>1000</td>\n",
       "      <td>NaN</td>\n",
       "      <td>2017</td>\n",
       "      <td>manual</td>\n",
       "      <td>80</td>\n",
       "      <td>NaN</td>\n",
       "      <td>150000</td>\n",
       "      <td>0</td>\n",
       "      <td>NaN</td>\n",
       "      <td>fiat</td>\n",
       "      <td>no</td>\n",
       "      <td>2016-03-07 00:00:00</td>\n",
       "      <td>0</td>\n",
       "      <td>94447</td>\n",
       "      <td>2016-03-07 18:53:54</td>\n",
       "    </tr>\n",
       "    <tr>\n",
       "      <th>80780</th>\n",
       "      <td>2016-03-27 19:51:21</td>\n",
       "      <td>4100</td>\n",
       "      <td>sedan</td>\n",
       "      <td>2003</td>\n",
       "      <td>manual</td>\n",
       "      <td>97</td>\n",
       "      <td>corolla</td>\n",
       "      <td>150000</td>\n",
       "      <td>9</td>\n",
       "      <td>petrol</td>\n",
       "      <td>toyota</td>\n",
       "      <td>no</td>\n",
       "      <td>2016-03-27 00:00:00</td>\n",
       "      <td>0</td>\n",
       "      <td>51109</td>\n",
       "      <td>2016-04-05 18:16:08</td>\n",
       "    </tr>\n",
       "    <tr>\n",
       "      <th>308001</th>\n",
       "      <td>2016-04-01 15:37:50</td>\n",
       "      <td>599</td>\n",
       "      <td>small</td>\n",
       "      <td>1997</td>\n",
       "      <td>manual</td>\n",
       "      <td>60</td>\n",
       "      <td>polo</td>\n",
       "      <td>150000</td>\n",
       "      <td>0</td>\n",
       "      <td>petrol</td>\n",
       "      <td>volkswagen</td>\n",
       "      <td>no</td>\n",
       "      <td>2016-04-01 00:00:00</td>\n",
       "      <td>0</td>\n",
       "      <td>9648</td>\n",
       "      <td>2016-04-07 12:46:16</td>\n",
       "    </tr>\n",
       "    <tr>\n",
       "      <th>178897</th>\n",
       "      <td>2016-03-06 16:52:04</td>\n",
       "      <td>999</td>\n",
       "      <td>wagon</td>\n",
       "      <td>1996</td>\n",
       "      <td>manual</td>\n",
       "      <td>90</td>\n",
       "      <td>passat</td>\n",
       "      <td>150000</td>\n",
       "      <td>5</td>\n",
       "      <td>petrol</td>\n",
       "      <td>volkswagen</td>\n",
       "      <td>no</td>\n",
       "      <td>2016-03-06 00:00:00</td>\n",
       "      <td>0</td>\n",
       "      <td>57299</td>\n",
       "      <td>2016-03-12 21:45:26</td>\n",
       "    </tr>\n",
       "    <tr>\n",
       "      <th>123155</th>\n",
       "      <td>2016-03-24 12:52:14</td>\n",
       "      <td>1250</td>\n",
       "      <td>small</td>\n",
       "      <td>1999</td>\n",
       "      <td>auto</td>\n",
       "      <td>53</td>\n",
       "      <td>swift</td>\n",
       "      <td>100000</td>\n",
       "      <td>9</td>\n",
       "      <td>petrol</td>\n",
       "      <td>suzuki</td>\n",
       "      <td>no</td>\n",
       "      <td>2016-03-24 00:00:00</td>\n",
       "      <td>0</td>\n",
       "      <td>51377</td>\n",
       "      <td>2016-04-01 08:15:49</td>\n",
       "    </tr>\n",
       "    <tr>\n",
       "      <th>31712</th>\n",
       "      <td>2016-03-13 14:47:15</td>\n",
       "      <td>8990</td>\n",
       "      <td>sedan</td>\n",
       "      <td>2010</td>\n",
       "      <td>manual</td>\n",
       "      <td>80</td>\n",
       "      <td>golf</td>\n",
       "      <td>80000</td>\n",
       "      <td>10</td>\n",
       "      <td>petrol</td>\n",
       "      <td>volkswagen</td>\n",
       "      <td>no</td>\n",
       "      <td>2016-03-13 00:00:00</td>\n",
       "      <td>0</td>\n",
       "      <td>71154</td>\n",
       "      <td>2016-03-20 14:16:50</td>\n",
       "    </tr>\n",
       "    <tr>\n",
       "      <th>323565</th>\n",
       "      <td>2016-03-22 13:38:52</td>\n",
       "      <td>5800</td>\n",
       "      <td>wagon</td>\n",
       "      <td>2005</td>\n",
       "      <td>auto</td>\n",
       "      <td>218</td>\n",
       "      <td>NaN</td>\n",
       "      <td>150000</td>\n",
       "      <td>12</td>\n",
       "      <td>gasoline</td>\n",
       "      <td>chrysler</td>\n",
       "      <td>no</td>\n",
       "      <td>2016-03-22 00:00:00</td>\n",
       "      <td>0</td>\n",
       "      <td>67305</td>\n",
       "      <td>2016-03-22 13:38:52</td>\n",
       "    </tr>\n",
       "    <tr>\n",
       "      <th>177140</th>\n",
       "      <td>2016-04-04 14:40:34</td>\n",
       "      <td>1990</td>\n",
       "      <td>wagon</td>\n",
       "      <td>1982</td>\n",
       "      <td>manual</td>\n",
       "      <td>86</td>\n",
       "      <td>NaN</td>\n",
       "      <td>100000</td>\n",
       "      <td>6</td>\n",
       "      <td>petrol</td>\n",
       "      <td>volkswagen</td>\n",
       "      <td>no</td>\n",
       "      <td>2016-04-04 00:00:00</td>\n",
       "      <td>0</td>\n",
       "      <td>17489</td>\n",
       "      <td>2016-04-06 15:46:08</td>\n",
       "    </tr>\n",
       "    <tr>\n",
       "      <th>211217</th>\n",
       "      <td>2016-03-28 18:47:00</td>\n",
       "      <td>1950</td>\n",
       "      <td>sedan</td>\n",
       "      <td>2006</td>\n",
       "      <td>manual</td>\n",
       "      <td>97</td>\n",
       "      <td>rio</td>\n",
       "      <td>150000</td>\n",
       "      <td>9</td>\n",
       "      <td>petrol</td>\n",
       "      <td>kia</td>\n",
       "      <td>no</td>\n",
       "      <td>2016-03-28 00:00:00</td>\n",
       "      <td>0</td>\n",
       "      <td>92533</td>\n",
       "      <td>2016-03-28 18:47:00</td>\n",
       "    </tr>\n",
       "    <tr>\n",
       "      <th>14940</th>\n",
       "      <td>2016-03-27 21:42:55</td>\n",
       "      <td>10400</td>\n",
       "      <td>suv</td>\n",
       "      <td>2006</td>\n",
       "      <td>auto</td>\n",
       "      <td>190</td>\n",
       "      <td>m_klasse</td>\n",
       "      <td>150000</td>\n",
       "      <td>6</td>\n",
       "      <td>gasoline</td>\n",
       "      <td>mercedes_benz</td>\n",
       "      <td>yes</td>\n",
       "      <td>2016-03-27 00:00:00</td>\n",
       "      <td>0</td>\n",
       "      <td>38465</td>\n",
       "      <td>2016-04-01 22:18:54</td>\n",
       "    </tr>\n",
       "  </tbody>\n",
       "</table>\n",
       "</div>"
      ],
      "text/plain": [
       "                DateCrawled  Price VehicleType  RegistrationYear Gearbox  \\\n",
       "289474  2016-03-07 18:53:54   1000         NaN              2017  manual   \n",
       "80780   2016-03-27 19:51:21   4100       sedan              2003  manual   \n",
       "308001  2016-04-01 15:37:50    599       small              1997  manual   \n",
       "178897  2016-03-06 16:52:04    999       wagon              1996  manual   \n",
       "123155  2016-03-24 12:52:14   1250       small              1999    auto   \n",
       "31712   2016-03-13 14:47:15   8990       sedan              2010  manual   \n",
       "323565  2016-03-22 13:38:52   5800       wagon              2005    auto   \n",
       "177140  2016-04-04 14:40:34   1990       wagon              1982  manual   \n",
       "211217  2016-03-28 18:47:00   1950       sedan              2006  manual   \n",
       "14940   2016-03-27 21:42:55  10400         suv              2006    auto   \n",
       "\n",
       "        Power     Model  Kilometer  RegistrationMonth  FuelType  \\\n",
       "289474     80       NaN     150000                  0       NaN   \n",
       "80780      97   corolla     150000                  9    petrol   \n",
       "308001     60      polo     150000                  0    petrol   \n",
       "178897     90    passat     150000                  5    petrol   \n",
       "123155     53     swift     100000                  9    petrol   \n",
       "31712      80      golf      80000                 10    petrol   \n",
       "323565    218       NaN     150000                 12  gasoline   \n",
       "177140     86       NaN     100000                  6    petrol   \n",
       "211217     97       rio     150000                  9    petrol   \n",
       "14940     190  m_klasse     150000                  6  gasoline   \n",
       "\n",
       "                Brand NotRepaired          DateCreated  NumberOfPictures  \\\n",
       "289474           fiat          no  2016-03-07 00:00:00                 0   \n",
       "80780          toyota          no  2016-03-27 00:00:00                 0   \n",
       "308001     volkswagen          no  2016-04-01 00:00:00                 0   \n",
       "178897     volkswagen          no  2016-03-06 00:00:00                 0   \n",
       "123155         suzuki          no  2016-03-24 00:00:00                 0   \n",
       "31712      volkswagen          no  2016-03-13 00:00:00                 0   \n",
       "323565       chrysler          no  2016-03-22 00:00:00                 0   \n",
       "177140     volkswagen          no  2016-04-04 00:00:00                 0   \n",
       "211217            kia          no  2016-03-28 00:00:00                 0   \n",
       "14940   mercedes_benz         yes  2016-03-27 00:00:00                 0   \n",
       "\n",
       "        PostalCode             LastSeen  \n",
       "289474       94447  2016-03-07 18:53:54  \n",
       "80780        51109  2016-04-05 18:16:08  \n",
       "308001        9648  2016-04-07 12:46:16  \n",
       "178897       57299  2016-03-12 21:45:26  \n",
       "123155       51377  2016-04-01 08:15:49  \n",
       "31712        71154  2016-03-20 14:16:50  \n",
       "323565       67305  2016-03-22 13:38:52  \n",
       "177140       17489  2016-04-06 15:46:08  \n",
       "211217       92533  2016-03-28 18:47:00  \n",
       "14940        38465  2016-04-01 22:18:54  "
      ]
     },
     "execution_count": 3,
     "metadata": {},
     "output_type": "execute_result"
    }
   ],
   "source": [
    "data.sample(10)"
   ]
  },
  {
   "cell_type": "markdown",
   "metadata": {},
   "source": [
    "Посмотрим размерность данных"
   ]
  },
  {
   "cell_type": "code",
   "execution_count": 4,
   "metadata": {},
   "outputs": [
    {
     "data": {
      "text/plain": [
       "(354369, 16)"
      ]
     },
     "execution_count": 4,
     "metadata": {},
     "output_type": "execute_result"
    }
   ],
   "source": [
    "data.shape"
   ]
  },
  {
   "cell_type": "markdown",
   "metadata": {},
   "source": [
    "Посмотрим наличие дубликатов."
   ]
  },
  {
   "cell_type": "code",
   "execution_count": 5,
   "metadata": {},
   "outputs": [
    {
     "data": {
      "text/plain": [
       "4"
      ]
     },
     "execution_count": 5,
     "metadata": {},
     "output_type": "execute_result"
    }
   ],
   "source": [
    "data.duplicated().sum()"
   ]
  },
  {
   "cell_type": "code",
   "execution_count": 6,
   "metadata": {},
   "outputs": [],
   "source": [
    "data = data.drop_duplicates().reset_index(drop=True)"
   ]
  },
  {
   "cell_type": "markdown",
   "metadata": {},
   "source": [
    "И выведем общую информацию о датасете."
   ]
  },
  {
   "cell_type": "code",
   "execution_count": 7,
   "metadata": {},
   "outputs": [
    {
     "name": "stdout",
     "output_type": "stream",
     "text": [
      "<class 'pandas.core.frame.DataFrame'>\n",
      "RangeIndex: 354365 entries, 0 to 354364\n",
      "Data columns (total 16 columns):\n",
      " #   Column             Non-Null Count   Dtype \n",
      "---  ------             --------------   ----- \n",
      " 0   DateCrawled        354365 non-null  object\n",
      " 1   Price              354365 non-null  int64 \n",
      " 2   VehicleType        316875 non-null  object\n",
      " 3   RegistrationYear   354365 non-null  int64 \n",
      " 4   Gearbox            334532 non-null  object\n",
      " 5   Power              354365 non-null  int64 \n",
      " 6   Model              334660 non-null  object\n",
      " 7   Kilometer          354365 non-null  int64 \n",
      " 8   RegistrationMonth  354365 non-null  int64 \n",
      " 9   FuelType           321470 non-null  object\n",
      " 10  Brand              354365 non-null  object\n",
      " 11  NotRepaired        283211 non-null  object\n",
      " 12  DateCreated        354365 non-null  object\n",
      " 13  NumberOfPictures   354365 non-null  int64 \n",
      " 14  PostalCode         354365 non-null  int64 \n",
      " 15  LastSeen           354365 non-null  object\n",
      "dtypes: int64(7), object(9)\n",
      "memory usage: 43.3+ MB\n"
     ]
    }
   ],
   "source": [
    "data.info()"
   ]
  },
  {
   "cell_type": "markdown",
   "metadata": {},
   "source": [
    "**Признаки**:\n",
    "* `DateCrawled` — дата скачивания анкеты из базы\n",
    "* `VehicleType` — тип автомобильного кузова\n",
    "* `RegistrationYear` — год регистрации автомобиля\n",
    "* `Gearbox` — тип коробки передач\n",
    "* `Power` — мощность (л. с.)\n",
    "* `Model` — модель автомобиля\n",
    "* `Kilometer` — пробег (км)\n",
    "* `RegistrationMonth` — месяц регистрации автомобиля\n",
    "* `FuelType` — тип топлива\n",
    "* `Brand` — марка автомобиля\n",
    "* `NotRepaired` — была машина в ремонте или нет\n",
    "* `DateCreated` — дата создания анкеты\n",
    "* `NumberOfPictures` — количество фотографий автомобиля\n",
    "* `PostalCode` — почтовый индекс владельца анкеты (пользователя)\n",
    "* `LastSeen` — дата последней активности пользователя\n",
    "\n",
    "**Целевой признак**:\n",
    "* `Price` - цена (евро)"
   ]
  },
  {
   "cell_type": "markdown",
   "metadata": {},
   "source": [
    "**Вывод**\n",
    "\n",
    "1. Датасет состоит из 354 тыс.строк и 16 столбцов, что достаточно много;\n",
    "2. Для решений данной задачи не все представленные признаки необходимы;\n",
    "3. В данных имелись дубликаты, которые были удалены;\n",
    "4. В данных присутствуют пропуски;\n",
    "5. Наименование столбцов не соответствует стандартному;\n",
    "6. В датасете присутствуют как количественные, так и качественные признаки."
   ]
  },
  {
   "cell_type": "markdown",
   "metadata": {},
   "source": [
    "## Предобработка данных"
   ]
  },
  {
   "cell_type": "markdown",
   "metadata": {},
   "source": [
    "Для начала удалим те признаки, которые не имеют смысла в контексте задачи, а именно:\n",
    "* `DateCrawled` — дата скачивания анкеты из базы\n",
    "* `RegistrationMonth` — месяц регистрации автомобиля\n",
    "* `DateCreated` — дата создания анкеты\n",
    "* `LastSeen` — дата последней активности пользователя"
   ]
  },
  {
   "cell_type": "code",
   "execution_count": 8,
   "metadata": {},
   "outputs": [],
   "source": [
    "delete_featrues = ['DateCrawled', 'RegistrationMonth', 'DateCreated', 'LastSeen']"
   ]
  },
  {
   "cell_type": "code",
   "execution_count": 9,
   "metadata": {},
   "outputs": [],
   "source": [
    "data = data.drop(columns=delete_featrues)"
   ]
  },
  {
   "cell_type": "markdown",
   "metadata": {},
   "source": [
    "Приведем наименование столбцов к нижнему регистру, а так же используем змеиный регистр."
   ]
  },
  {
   "cell_type": "code",
   "execution_count": 10,
   "metadata": {},
   "outputs": [],
   "source": [
    "data.columns = data.columns.str.lower()"
   ]
  },
  {
   "cell_type": "code",
   "execution_count": 11,
   "metadata": {},
   "outputs": [],
   "source": [
    "data.columns = ['price', 'vehicle_type', 'registration_year', 'gearbox', 'power', 'model',\n",
    "                'kilometer', 'fuel_type', 'brand', 'not_repaired', 'number_of_pictures',\n",
    "                'postal_code']"
   ]
  },
  {
   "cell_type": "code",
   "execution_count": 12,
   "metadata": {},
   "outputs": [
    {
     "data": {
      "text/plain": [
       "Index(['price', 'vehicle_type', 'registration_year', 'gearbox', 'power',\n",
       "       'model', 'kilometer', 'fuel_type', 'brand', 'not_repaired',\n",
       "       'number_of_pictures', 'postal_code'],\n",
       "      dtype='object')"
      ]
     },
     "execution_count": 12,
     "metadata": {},
     "output_type": "execute_result"
    }
   ],
   "source": [
    "data.columns"
   ]
  },
  {
   "cell_type": "markdown",
   "metadata": {},
   "source": [
    "Рассмотрим пропуски в данных и количество уникальных значений."
   ]
  },
  {
   "cell_type": "code",
   "execution_count": 13,
   "metadata": {},
   "outputs": [
    {
     "data": {
      "text/html": [
       "<div>\n",
       "<style scoped>\n",
       "    .dataframe tbody tr th:only-of-type {\n",
       "        vertical-align: middle;\n",
       "    }\n",
       "\n",
       "    .dataframe tbody tr th {\n",
       "        vertical-align: top;\n",
       "    }\n",
       "\n",
       "    .dataframe thead th {\n",
       "        text-align: right;\n",
       "    }\n",
       "</style>\n",
       "<table border=\"1\" class=\"dataframe\">\n",
       "  <thead>\n",
       "    <tr style=\"text-align: right;\">\n",
       "      <th></th>\n",
       "      <th>missing_data</th>\n",
       "      <th>unique_values</th>\n",
       "    </tr>\n",
       "  </thead>\n",
       "  <tbody>\n",
       "    <tr>\n",
       "      <th>price</th>\n",
       "      <td>0.000000</td>\n",
       "      <td>3731</td>\n",
       "    </tr>\n",
       "    <tr>\n",
       "      <th>vehicle_type</th>\n",
       "      <td>10.579487</td>\n",
       "      <td>8</td>\n",
       "    </tr>\n",
       "    <tr>\n",
       "      <th>registration_year</th>\n",
       "      <td>0.000000</td>\n",
       "      <td>151</td>\n",
       "    </tr>\n",
       "    <tr>\n",
       "      <th>gearbox</th>\n",
       "      <td>5.596772</td>\n",
       "      <td>2</td>\n",
       "    </tr>\n",
       "    <tr>\n",
       "      <th>power</th>\n",
       "      <td>0.000000</td>\n",
       "      <td>712</td>\n",
       "    </tr>\n",
       "    <tr>\n",
       "      <th>model</th>\n",
       "      <td>5.560651</td>\n",
       "      <td>250</td>\n",
       "    </tr>\n",
       "    <tr>\n",
       "      <th>kilometer</th>\n",
       "      <td>0.000000</td>\n",
       "      <td>13</td>\n",
       "    </tr>\n",
       "    <tr>\n",
       "      <th>fuel_type</th>\n",
       "      <td>9.282802</td>\n",
       "      <td>7</td>\n",
       "    </tr>\n",
       "    <tr>\n",
       "      <th>brand</th>\n",
       "      <td>0.000000</td>\n",
       "      <td>40</td>\n",
       "    </tr>\n",
       "    <tr>\n",
       "      <th>not_repaired</th>\n",
       "      <td>20.079297</td>\n",
       "      <td>2</td>\n",
       "    </tr>\n",
       "    <tr>\n",
       "      <th>number_of_pictures</th>\n",
       "      <td>0.000000</td>\n",
       "      <td>1</td>\n",
       "    </tr>\n",
       "    <tr>\n",
       "      <th>postal_code</th>\n",
       "      <td>0.000000</td>\n",
       "      <td>8143</td>\n",
       "    </tr>\n",
       "  </tbody>\n",
       "</table>\n",
       "</div>"
      ],
      "text/plain": [
       "                    missing_data  unique_values\n",
       "price                   0.000000           3731\n",
       "vehicle_type           10.579487              8\n",
       "registration_year       0.000000            151\n",
       "gearbox                 5.596772              2\n",
       "power                   0.000000            712\n",
       "model                   5.560651            250\n",
       "kilometer               0.000000             13\n",
       "fuel_type               9.282802              7\n",
       "brand                   0.000000             40\n",
       "not_repaired           20.079297              2\n",
       "number_of_pictures      0.000000              1\n",
       "postal_code             0.000000           8143"
      ]
     },
     "execution_count": 13,
     "metadata": {},
     "output_type": "execute_result"
    }
   ],
   "source": [
    "pd.DataFrame({'missing_data' : data.isna().mean() * 100,\n",
    "              'unique_values' : data.nunique()})"
   ]
  },
  {
   "cell_type": "markdown",
   "metadata": {},
   "source": [
    "**Вывод**\n",
    "\n",
    "1. Все пропущенные признаки представлены в категориальных признаках. При чем в некоторых категориях пропусков более 10%. Т.к. это категории, то данные пропуски не получится заполнить средним/медианой. Заполним пропуски значением 'unknown';\n",
    "2. В категории registration_year представлено более 151 значения. Учитывая, что первые автомобили начали выпускать с 1886 года, всего до 2022 должно присуствовать 136 значений (максимум). Значит, в данной категории есть ошибочные значения;\n",
    "3. Категория number_of_pictures\tпредставлена 1 значением, что подозрительно."
   ]
  },
  {
   "cell_type": "markdown",
   "metadata": {},
   "source": [
    "Заполним пропуски"
   ]
  },
  {
   "cell_type": "code",
   "execution_count": 14,
   "metadata": {},
   "outputs": [],
   "source": [
    "data = data.fillna('unknown')"
   ]
  },
  {
   "cell_type": "markdown",
   "metadata": {},
   "source": [
    "На этапе осмотра данных выяснили, что признак `number_of_pictures` представлен лишь одним значением. Удалим этот признак как неинформативный."
   ]
  },
  {
   "cell_type": "code",
   "execution_count": 15,
   "metadata": {},
   "outputs": [],
   "source": [
    "data = data.drop(columns=['number_of_pictures'])"
   ]
  },
  {
   "cell_type": "markdown",
   "metadata": {},
   "source": [
    "Выделим категориальные и количественные признаки."
   ]
  },
  {
   "cell_type": "code",
   "execution_count": 16,
   "metadata": {},
   "outputs": [],
   "source": [
    "numerical_features = ['price', 'registration_year', 'power', 'kilometer']\n",
    "categorial_features = ['vehicle_type', 'gearbox', 'model', 'fuel_type', 'brand', \n",
    "                       'not_repaired', 'postal_code']"
   ]
  },
  {
   "cell_type": "markdown",
   "metadata": {},
   "source": [
    "Выделим аномалии в данных."
   ]
  },
  {
   "cell_type": "code",
   "execution_count": 17,
   "metadata": {},
   "outputs": [
    {
     "data": {
      "text/html": [
       "<div>\n",
       "<style scoped>\n",
       "    .dataframe tbody tr th:only-of-type {\n",
       "        vertical-align: middle;\n",
       "    }\n",
       "\n",
       "    .dataframe tbody tr th {\n",
       "        vertical-align: top;\n",
       "    }\n",
       "\n",
       "    .dataframe thead th {\n",
       "        text-align: right;\n",
       "    }\n",
       "</style>\n",
       "<table border=\"1\" class=\"dataframe\">\n",
       "  <thead>\n",
       "    <tr style=\"text-align: right;\">\n",
       "      <th></th>\n",
       "      <th>price</th>\n",
       "      <th>registration_year</th>\n",
       "      <th>power</th>\n",
       "      <th>kilometer</th>\n",
       "    </tr>\n",
       "  </thead>\n",
       "  <tbody>\n",
       "    <tr>\n",
       "      <th>count</th>\n",
       "      <td>354365.000000</td>\n",
       "      <td>354365.000000</td>\n",
       "      <td>354365.000000</td>\n",
       "      <td>354365.000000</td>\n",
       "    </tr>\n",
       "    <tr>\n",
       "      <th>mean</th>\n",
       "      <td>4416.679830</td>\n",
       "      <td>2004.234481</td>\n",
       "      <td>110.093816</td>\n",
       "      <td>128211.363989</td>\n",
       "    </tr>\n",
       "    <tr>\n",
       "      <th>std</th>\n",
       "      <td>4514.176349</td>\n",
       "      <td>90.228466</td>\n",
       "      <td>189.851330</td>\n",
       "      <td>37905.083858</td>\n",
       "    </tr>\n",
       "    <tr>\n",
       "      <th>min</th>\n",
       "      <td>0.000000</td>\n",
       "      <td>1000.000000</td>\n",
       "      <td>0.000000</td>\n",
       "      <td>5000.000000</td>\n",
       "    </tr>\n",
       "    <tr>\n",
       "      <th>0%</th>\n",
       "      <td>0.000000</td>\n",
       "      <td>1000.000000</td>\n",
       "      <td>0.000000</td>\n",
       "      <td>5000.000000</td>\n",
       "    </tr>\n",
       "    <tr>\n",
       "      <th>10%</th>\n",
       "      <td>499.000000</td>\n",
       "      <td>1995.000000</td>\n",
       "      <td>0.000000</td>\n",
       "      <td>70000.000000</td>\n",
       "    </tr>\n",
       "    <tr>\n",
       "      <th>20%</th>\n",
       "      <td>880.000000</td>\n",
       "      <td>1998.000000</td>\n",
       "      <td>60.000000</td>\n",
       "      <td>100000.000000</td>\n",
       "    </tr>\n",
       "    <tr>\n",
       "      <th>30%</th>\n",
       "      <td>1300.000000</td>\n",
       "      <td>2000.000000</td>\n",
       "      <td>75.000000</td>\n",
       "      <td>125000.000000</td>\n",
       "    </tr>\n",
       "    <tr>\n",
       "      <th>40%</th>\n",
       "      <td>1900.000000</td>\n",
       "      <td>2001.000000</td>\n",
       "      <td>90.000000</td>\n",
       "      <td>150000.000000</td>\n",
       "    </tr>\n",
       "    <tr>\n",
       "      <th>50%</th>\n",
       "      <td>2700.000000</td>\n",
       "      <td>2003.000000</td>\n",
       "      <td>105.000000</td>\n",
       "      <td>150000.000000</td>\n",
       "    </tr>\n",
       "    <tr>\n",
       "      <th>60%</th>\n",
       "      <td>3800.000000</td>\n",
       "      <td>2005.000000</td>\n",
       "      <td>116.000000</td>\n",
       "      <td>150000.000000</td>\n",
       "    </tr>\n",
       "    <tr>\n",
       "      <th>70%</th>\n",
       "      <td>5350.000000</td>\n",
       "      <td>2007.000000</td>\n",
       "      <td>136.000000</td>\n",
       "      <td>150000.000000</td>\n",
       "    </tr>\n",
       "    <tr>\n",
       "      <th>80%</th>\n",
       "      <td>7500.000000</td>\n",
       "      <td>2009.000000</td>\n",
       "      <td>150.000000</td>\n",
       "      <td>150000.000000</td>\n",
       "    </tr>\n",
       "    <tr>\n",
       "      <th>90%</th>\n",
       "      <td>11450.000000</td>\n",
       "      <td>2012.000000</td>\n",
       "      <td>179.000000</td>\n",
       "      <td>150000.000000</td>\n",
       "    </tr>\n",
       "    <tr>\n",
       "      <th>max</th>\n",
       "      <td>20000.000000</td>\n",
       "      <td>9999.000000</td>\n",
       "      <td>20000.000000</td>\n",
       "      <td>150000.000000</td>\n",
       "    </tr>\n",
       "  </tbody>\n",
       "</table>\n",
       "</div>"
      ],
      "text/plain": [
       "               price  registration_year          power      kilometer\n",
       "count  354365.000000      354365.000000  354365.000000  354365.000000\n",
       "mean     4416.679830        2004.234481     110.093816  128211.363989\n",
       "std      4514.176349          90.228466     189.851330   37905.083858\n",
       "min         0.000000        1000.000000       0.000000    5000.000000\n",
       "0%          0.000000        1000.000000       0.000000    5000.000000\n",
       "10%       499.000000        1995.000000       0.000000   70000.000000\n",
       "20%       880.000000        1998.000000      60.000000  100000.000000\n",
       "30%      1300.000000        2000.000000      75.000000  125000.000000\n",
       "40%      1900.000000        2001.000000      90.000000  150000.000000\n",
       "50%      2700.000000        2003.000000     105.000000  150000.000000\n",
       "60%      3800.000000        2005.000000     116.000000  150000.000000\n",
       "70%      5350.000000        2007.000000     136.000000  150000.000000\n",
       "80%      7500.000000        2009.000000     150.000000  150000.000000\n",
       "90%     11450.000000        2012.000000     179.000000  150000.000000\n",
       "max     20000.000000        9999.000000   20000.000000  150000.000000"
      ]
     },
     "execution_count": 17,
     "metadata": {},
     "output_type": "execute_result"
    }
   ],
   "source": [
    "data[numerical_features].describe(percentiles=np.arange(0,1,0.1))"
   ]
  },
  {
   "cell_type": "markdown",
   "metadata": {},
   "source": [
    "Рассмотрим признак `registration_year`. Как ранее выявили, оставим только автомобили выпущенные между 1886 и 2022гг., остальные удалим как неверно заполненные."
   ]
  },
  {
   "cell_type": "code",
   "execution_count": 18,
   "metadata": {},
   "outputs": [
    {
     "data": {
      "text/html": [
       "<div>\n",
       "<style scoped>\n",
       "    .dataframe tbody tr th:only-of-type {\n",
       "        vertical-align: middle;\n",
       "    }\n",
       "\n",
       "    .dataframe tbody tr th {\n",
       "        vertical-align: top;\n",
       "    }\n",
       "\n",
       "    .dataframe thead th {\n",
       "        text-align: right;\n",
       "    }\n",
       "</style>\n",
       "<table border=\"1\" class=\"dataframe\">\n",
       "  <thead>\n",
       "    <tr style=\"text-align: right;\">\n",
       "      <th></th>\n",
       "      <th>price</th>\n",
       "      <th>vehicle_type</th>\n",
       "      <th>registration_year</th>\n",
       "      <th>gearbox</th>\n",
       "      <th>power</th>\n",
       "      <th>model</th>\n",
       "      <th>kilometer</th>\n",
       "      <th>fuel_type</th>\n",
       "      <th>brand</th>\n",
       "      <th>not_repaired</th>\n",
       "      <th>postal_code</th>\n",
       "    </tr>\n",
       "  </thead>\n",
       "  <tbody>\n",
       "    <tr>\n",
       "      <th>622</th>\n",
       "      <td>0</td>\n",
       "      <td>unknown</td>\n",
       "      <td>1111</td>\n",
       "      <td>unknown</td>\n",
       "      <td>0</td>\n",
       "      <td>unknown</td>\n",
       "      <td>5000</td>\n",
       "      <td>unknown</td>\n",
       "      <td>opel</td>\n",
       "      <td>unknown</td>\n",
       "      <td>44628</td>\n",
       "    </tr>\n",
       "    <tr>\n",
       "      <th>12946</th>\n",
       "      <td>49</td>\n",
       "      <td>unknown</td>\n",
       "      <td>5000</td>\n",
       "      <td>unknown</td>\n",
       "      <td>0</td>\n",
       "      <td>golf</td>\n",
       "      <td>5000</td>\n",
       "      <td>unknown</td>\n",
       "      <td>volkswagen</td>\n",
       "      <td>unknown</td>\n",
       "      <td>74523</td>\n",
       "    </tr>\n",
       "    <tr>\n",
       "      <th>15147</th>\n",
       "      <td>0</td>\n",
       "      <td>unknown</td>\n",
       "      <td>9999</td>\n",
       "      <td>unknown</td>\n",
       "      <td>0</td>\n",
       "      <td>unknown</td>\n",
       "      <td>10000</td>\n",
       "      <td>unknown</td>\n",
       "      <td>sonstige_autos</td>\n",
       "      <td>unknown</td>\n",
       "      <td>32689</td>\n",
       "    </tr>\n",
       "    <tr>\n",
       "      <th>15870</th>\n",
       "      <td>1700</td>\n",
       "      <td>unknown</td>\n",
       "      <td>3200</td>\n",
       "      <td>unknown</td>\n",
       "      <td>0</td>\n",
       "      <td>unknown</td>\n",
       "      <td>5000</td>\n",
       "      <td>unknown</td>\n",
       "      <td>sonstige_autos</td>\n",
       "      <td>unknown</td>\n",
       "      <td>33649</td>\n",
       "    </tr>\n",
       "    <tr>\n",
       "      <th>16062</th>\n",
       "      <td>190</td>\n",
       "      <td>unknown</td>\n",
       "      <td>1000</td>\n",
       "      <td>unknown</td>\n",
       "      <td>0</td>\n",
       "      <td>mondeo</td>\n",
       "      <td>5000</td>\n",
       "      <td>unknown</td>\n",
       "      <td>ford</td>\n",
       "      <td>unknown</td>\n",
       "      <td>47166</td>\n",
       "    </tr>\n",
       "    <tr>\n",
       "      <th>...</th>\n",
       "      <td>...</td>\n",
       "      <td>...</td>\n",
       "      <td>...</td>\n",
       "      <td>...</td>\n",
       "      <td>...</td>\n",
       "      <td>...</td>\n",
       "      <td>...</td>\n",
       "      <td>...</td>\n",
       "      <td>...</td>\n",
       "      <td>...</td>\n",
       "      <td>...</td>\n",
       "    </tr>\n",
       "    <tr>\n",
       "      <th>340544</th>\n",
       "      <td>0</td>\n",
       "      <td>unknown</td>\n",
       "      <td>3500</td>\n",
       "      <td>manual</td>\n",
       "      <td>75</td>\n",
       "      <td>unknown</td>\n",
       "      <td>5000</td>\n",
       "      <td>petrol</td>\n",
       "      <td>sonstige_autos</td>\n",
       "      <td>unknown</td>\n",
       "      <td>96465</td>\n",
       "    </tr>\n",
       "    <tr>\n",
       "      <th>340755</th>\n",
       "      <td>700</td>\n",
       "      <td>unknown</td>\n",
       "      <td>1600</td>\n",
       "      <td>manual</td>\n",
       "      <td>1600</td>\n",
       "      <td>a3</td>\n",
       "      <td>150000</td>\n",
       "      <td>petrol</td>\n",
       "      <td>audi</td>\n",
       "      <td>no</td>\n",
       "      <td>86343</td>\n",
       "    </tr>\n",
       "    <tr>\n",
       "      <th>341787</th>\n",
       "      <td>1</td>\n",
       "      <td>unknown</td>\n",
       "      <td>3000</td>\n",
       "      <td>unknown</td>\n",
       "      <td>0</td>\n",
       "      <td>zafira</td>\n",
       "      <td>5000</td>\n",
       "      <td>unknown</td>\n",
       "      <td>opel</td>\n",
       "      <td>unknown</td>\n",
       "      <td>26624</td>\n",
       "    </tr>\n",
       "    <tr>\n",
       "      <th>348826</th>\n",
       "      <td>1</td>\n",
       "      <td>unknown</td>\n",
       "      <td>1000</td>\n",
       "      <td>unknown</td>\n",
       "      <td>1000</td>\n",
       "      <td>unknown</td>\n",
       "      <td>150000</td>\n",
       "      <td>unknown</td>\n",
       "      <td>sonstige_autos</td>\n",
       "      <td>unknown</td>\n",
       "      <td>41472</td>\n",
       "    </tr>\n",
       "    <tr>\n",
       "      <th>351678</th>\n",
       "      <td>11500</td>\n",
       "      <td>unknown</td>\n",
       "      <td>1800</td>\n",
       "      <td>unknown</td>\n",
       "      <td>16</td>\n",
       "      <td>other</td>\n",
       "      <td>5000</td>\n",
       "      <td>petrol</td>\n",
       "      <td>fiat</td>\n",
       "      <td>unknown</td>\n",
       "      <td>16515</td>\n",
       "    </tr>\n",
       "  </tbody>\n",
       "</table>\n",
       "<p>171 rows × 11 columns</p>\n",
       "</div>"
      ],
      "text/plain": [
       "        price vehicle_type  registration_year  gearbox  power    model  \\\n",
       "622         0      unknown               1111  unknown      0  unknown   \n",
       "12946      49      unknown               5000  unknown      0     golf   \n",
       "15147       0      unknown               9999  unknown      0  unknown   \n",
       "15870    1700      unknown               3200  unknown      0  unknown   \n",
       "16062     190      unknown               1000  unknown      0   mondeo   \n",
       "...       ...          ...                ...      ...    ...      ...   \n",
       "340544      0      unknown               3500   manual     75  unknown   \n",
       "340755    700      unknown               1600   manual   1600       a3   \n",
       "341787      1      unknown               3000  unknown      0   zafira   \n",
       "348826      1      unknown               1000  unknown   1000  unknown   \n",
       "351678  11500      unknown               1800  unknown     16    other   \n",
       "\n",
       "        kilometer fuel_type           brand not_repaired  postal_code  \n",
       "622          5000   unknown            opel      unknown        44628  \n",
       "12946        5000   unknown      volkswagen      unknown        74523  \n",
       "15147       10000   unknown  sonstige_autos      unknown        32689  \n",
       "15870        5000   unknown  sonstige_autos      unknown        33649  \n",
       "16062        5000   unknown            ford      unknown        47166  \n",
       "...           ...       ...             ...          ...          ...  \n",
       "340544       5000    petrol  sonstige_autos      unknown        96465  \n",
       "340755     150000    petrol            audi           no        86343  \n",
       "341787       5000   unknown            opel      unknown        26624  \n",
       "348826     150000   unknown  sonstige_autos      unknown        41472  \n",
       "351678       5000    petrol            fiat      unknown        16515  \n",
       "\n",
       "[171 rows x 11 columns]"
      ]
     },
     "execution_count": 18,
     "metadata": {},
     "output_type": "execute_result"
    }
   ],
   "source": [
    "data[(data['registration_year'] > 2022) | (data['registration_year'] < 1886)]"
   ]
  },
  {
   "cell_type": "markdown",
   "metadata": {},
   "source": [
    "Видим, что у нас 171 значение с неправильно заполненным значением года. Удалим их из датасета."
   ]
  },
  {
   "cell_type": "code",
   "execution_count": 19,
   "metadata": {},
   "outputs": [],
   "source": [
    "data = data[~((data['registration_year'] > 2022) | (data['registration_year'] < 1886))].reset_index(drop=True)"
   ]
  },
  {
   "cell_type": "markdown",
   "metadata": {},
   "source": [
    "Построим распределение `registration_year`."
   ]
  },
  {
   "cell_type": "code",
   "execution_count": 20,
   "metadata": {},
   "outputs": [
    {
     "data": {
      "image/png": "[encoded data removed]",
      "text/plain": [
       "<Figure size 576x432 with 1 Axes>"
      ]
     },
     "metadata": {},
     "output_type": "display_data"
    }
   ],
   "source": [
    "f, ax = plt.subplots(figsize=(8,6))\n",
    "\n",
    "sns.histplot(x='registration_year', data=data)\n",
    "ax.set_title('Распределение регистрации автомобиля');"
   ]
  },
  {
   "cell_type": "markdown",
   "metadata": {},
   "source": [
    "Распределение выглядит нормальным с тяжелым правым хвостом. Так же интересно, что в правой части распределения присутствуют выбросы. Почему продается так много автомобилей с 2-3 годами пробега?"
   ]
  },
  {
   "cell_type": "markdown",
   "metadata": {},
   "source": [
    "Рассмотрим признак `power`"
   ]
  },
  {
   "cell_type": "code",
   "execution_count": 21,
   "metadata": {},
   "outputs": [
    {
     "data": {
      "image/png": "[encoded data removed]",
      "text/plain": [
       "<Figure size 576x432 with 1 Axes>"
      ]
     },
     "metadata": {},
     "output_type": "display_data"
    }
   ],
   "source": [
    "f, ax = plt.subplots(figsize=(8,6))\n",
    "\n",
    "sns.histplot(x='power', data=data)\n",
    "ax.set_title('Распределение мощности автомобиля');"
   ]
  },
  {
   "cell_type": "markdown",
   "metadata": {},
   "source": [
    "Ограничим значения мощности справа значением 1000 л.с. (мощные серийный автомобили). Остальные строки удалим как ошибочные."
   ]
  },
  {
   "cell_type": "code",
   "execution_count": 22,
   "metadata": {},
   "outputs": [],
   "source": [
    "data = data[~(data['power'] > 1000)].reset_index(drop=True)"
   ]
  },
  {
   "cell_type": "markdown",
   "metadata": {},
   "source": [
    "Так же в распределении присутсвуют значения с мощностью равной 0. Это указывает на то, что владелец автомобиля забыл указать этот параметр в объявлении. Заменим данное значение медианой по параметрам brand, bodel и fuel_type"
   ]
  },
  {
   "cell_type": "code",
   "execution_count": 23,
   "metadata": {},
   "outputs": [
    {
     "data": {
      "text/html": [
       "<div>\n",
       "<style scoped>\n",
       "    .dataframe tbody tr th:only-of-type {\n",
       "        vertical-align: middle;\n",
       "    }\n",
       "\n",
       "    .dataframe tbody tr th {\n",
       "        vertical-align: top;\n",
       "    }\n",
       "\n",
       "    .dataframe thead th {\n",
       "        text-align: right;\n",
       "    }\n",
       "</style>\n",
       "<table border=\"1\" class=\"dataframe\">\n",
       "  <thead>\n",
       "    <tr style=\"text-align: right;\">\n",
       "      <th></th>\n",
       "      <th>price</th>\n",
       "      <th>vehicle_type</th>\n",
       "      <th>registration_year</th>\n",
       "      <th>gearbox</th>\n",
       "      <th>power</th>\n",
       "      <th>model</th>\n",
       "      <th>kilometer</th>\n",
       "      <th>fuel_type</th>\n",
       "      <th>brand</th>\n",
       "      <th>not_repaired</th>\n",
       "      <th>postal_code</th>\n",
       "    </tr>\n",
       "  </thead>\n",
       "  <tbody>\n",
       "    <tr>\n",
       "      <th>0</th>\n",
       "      <td>480</td>\n",
       "      <td>unknown</td>\n",
       "      <td>1993</td>\n",
       "      <td>manual</td>\n",
       "      <td>0</td>\n",
       "      <td>golf</td>\n",
       "      <td>150000</td>\n",
       "      <td>petrol</td>\n",
       "      <td>volkswagen</td>\n",
       "      <td>unknown</td>\n",
       "      <td>70435</td>\n",
       "    </tr>\n",
       "    <tr>\n",
       "      <th>15</th>\n",
       "      <td>450</td>\n",
       "      <td>small</td>\n",
       "      <td>1910</td>\n",
       "      <td>unknown</td>\n",
       "      <td>0</td>\n",
       "      <td>ka</td>\n",
       "      <td>5000</td>\n",
       "      <td>petrol</td>\n",
       "      <td>ford</td>\n",
       "      <td>unknown</td>\n",
       "      <td>24148</td>\n",
       "    </tr>\n",
       "    <tr>\n",
       "      <th>32</th>\n",
       "      <td>245</td>\n",
       "      <td>sedan</td>\n",
       "      <td>1994</td>\n",
       "      <td>unknown</td>\n",
       "      <td>0</td>\n",
       "      <td>golf</td>\n",
       "      <td>150000</td>\n",
       "      <td>petrol</td>\n",
       "      <td>volkswagen</td>\n",
       "      <td>no</td>\n",
       "      <td>44145</td>\n",
       "    </tr>\n",
       "    <tr>\n",
       "      <th>37</th>\n",
       "      <td>1500</td>\n",
       "      <td>unknown</td>\n",
       "      <td>2016</td>\n",
       "      <td>unknown</td>\n",
       "      <td>0</td>\n",
       "      <td>kangoo</td>\n",
       "      <td>150000</td>\n",
       "      <td>gasoline</td>\n",
       "      <td>renault</td>\n",
       "      <td>no</td>\n",
       "      <td>46483</td>\n",
       "    </tr>\n",
       "    <tr>\n",
       "      <th>40</th>\n",
       "      <td>0</td>\n",
       "      <td>unknown</td>\n",
       "      <td>1990</td>\n",
       "      <td>unknown</td>\n",
       "      <td>0</td>\n",
       "      <td>corsa</td>\n",
       "      <td>150000</td>\n",
       "      <td>petrol</td>\n",
       "      <td>opel</td>\n",
       "      <td>unknown</td>\n",
       "      <td>56412</td>\n",
       "    </tr>\n",
       "    <tr>\n",
       "      <th>...</th>\n",
       "      <td>...</td>\n",
       "      <td>...</td>\n",
       "      <td>...</td>\n",
       "      <td>...</td>\n",
       "      <td>...</td>\n",
       "      <td>...</td>\n",
       "      <td>...</td>\n",
       "      <td>...</td>\n",
       "      <td>...</td>\n",
       "      <td>...</td>\n",
       "      <td>...</td>\n",
       "    </tr>\n",
       "    <tr>\n",
       "      <th>353868</th>\n",
       "      <td>180</td>\n",
       "      <td>unknown</td>\n",
       "      <td>1995</td>\n",
       "      <td>unknown</td>\n",
       "      <td>0</td>\n",
       "      <td>unknown</td>\n",
       "      <td>125000</td>\n",
       "      <td>petrol</td>\n",
       "      <td>opel</td>\n",
       "      <td>unknown</td>\n",
       "      <td>41470</td>\n",
       "    </tr>\n",
       "    <tr>\n",
       "      <th>353876</th>\n",
       "      <td>2600</td>\n",
       "      <td>unknown</td>\n",
       "      <td>2005</td>\n",
       "      <td>auto</td>\n",
       "      <td>0</td>\n",
       "      <td>c_klasse</td>\n",
       "      <td>150000</td>\n",
       "      <td>unknown</td>\n",
       "      <td>mercedes_benz</td>\n",
       "      <td>unknown</td>\n",
       "      <td>61169</td>\n",
       "    </tr>\n",
       "    <tr>\n",
       "      <th>353893</th>\n",
       "      <td>1150</td>\n",
       "      <td>bus</td>\n",
       "      <td>2000</td>\n",
       "      <td>manual</td>\n",
       "      <td>0</td>\n",
       "      <td>zafira</td>\n",
       "      <td>150000</td>\n",
       "      <td>petrol</td>\n",
       "      <td>opel</td>\n",
       "      <td>no</td>\n",
       "      <td>26624</td>\n",
       "    </tr>\n",
       "    <tr>\n",
       "      <th>353894</th>\n",
       "      <td>0</td>\n",
       "      <td>unknown</td>\n",
       "      <td>2005</td>\n",
       "      <td>manual</td>\n",
       "      <td>0</td>\n",
       "      <td>colt</td>\n",
       "      <td>150000</td>\n",
       "      <td>petrol</td>\n",
       "      <td>mitsubishi</td>\n",
       "      <td>yes</td>\n",
       "      <td>2694</td>\n",
       "    </tr>\n",
       "    <tr>\n",
       "      <th>353895</th>\n",
       "      <td>2200</td>\n",
       "      <td>unknown</td>\n",
       "      <td>2005</td>\n",
       "      <td>unknown</td>\n",
       "      <td>0</td>\n",
       "      <td>unknown</td>\n",
       "      <td>20000</td>\n",
       "      <td>unknown</td>\n",
       "      <td>sonstige_autos</td>\n",
       "      <td>unknown</td>\n",
       "      <td>39576</td>\n",
       "    </tr>\n",
       "  </tbody>\n",
       "</table>\n",
       "<p>40098 rows × 11 columns</p>\n",
       "</div>"
      ],
      "text/plain": [
       "        price vehicle_type  registration_year  gearbox  power     model  \\\n",
       "0         480      unknown               1993   manual      0      golf   \n",
       "15        450        small               1910  unknown      0        ka   \n",
       "32        245        sedan               1994  unknown      0      golf   \n",
       "37       1500      unknown               2016  unknown      0    kangoo   \n",
       "40          0      unknown               1990  unknown      0     corsa   \n",
       "...       ...          ...                ...      ...    ...       ...   \n",
       "353868    180      unknown               1995  unknown      0   unknown   \n",
       "353876   2600      unknown               2005     auto      0  c_klasse   \n",
       "353893   1150          bus               2000   manual      0    zafira   \n",
       "353894      0      unknown               2005   manual      0      colt   \n",
       "353895   2200      unknown               2005  unknown      0   unknown   \n",
       "\n",
       "        kilometer fuel_type           brand not_repaired  postal_code  \n",
       "0          150000    petrol      volkswagen      unknown        70435  \n",
       "15           5000    petrol            ford      unknown        24148  \n",
       "32         150000    petrol      volkswagen           no        44145  \n",
       "37         150000  gasoline         renault           no        46483  \n",
       "40         150000    petrol            opel      unknown        56412  \n",
       "...           ...       ...             ...          ...          ...  \n",
       "353868     125000    petrol            opel      unknown        41470  \n",
       "353876     150000   unknown   mercedes_benz      unknown        61169  \n",
       "353893     150000    petrol            opel           no        26624  \n",
       "353894     150000    petrol      mitsubishi          yes         2694  \n",
       "353895      20000   unknown  sonstige_autos      unknown        39576  \n",
       "\n",
       "[40098 rows x 11 columns]"
      ]
     },
     "execution_count": 23,
     "metadata": {},
     "output_type": "execute_result"
    }
   ],
   "source": [
    "data[data['power']==0]"
   ]
  },
  {
   "cell_type": "markdown",
   "metadata": {},
   "source": [
    "Таких значений больше 40000. Заменим их на медиану"
   ]
  },
  {
   "cell_type": "code",
   "execution_count": 24,
   "metadata": {},
   "outputs": [],
   "source": [
    "data['power'] = data['power'].replace(0, np.nan)\n",
    "median_power = data.groupby(['brand', 'model', 'fuel_type'])['power'].transform('median')\n",
    "data['power'] = data['power'].fillna(median_power)"
   ]
  },
  {
   "cell_type": "markdown",
   "metadata": {},
   "source": [
    "Проверим количество автомобилей, для которых не было информации."
   ]
  },
  {
   "cell_type": "code",
   "execution_count": 25,
   "metadata": {},
   "outputs": [
    {
     "data": {
      "text/plain": [
       "99"
      ]
     },
     "execution_count": 25,
     "metadata": {},
     "output_type": "execute_result"
    }
   ],
   "source": [
    "data['power'].isna().sum()"
   ]
  },
  {
   "cell_type": "markdown",
   "metadata": {},
   "source": [
    "Удалим эти строки из датасета."
   ]
  },
  {
   "cell_type": "code",
   "execution_count": 26,
   "metadata": {},
   "outputs": [],
   "source": [
    "data = data.dropna(subset=['power']).reset_index(drop=True)"
   ]
  },
  {
   "cell_type": "code",
   "execution_count": 27,
   "metadata": {},
   "outputs": [
    {
     "data": {
      "image/png": "[encoded data removed]",
      "text/plain": [
       "<Figure size 576x432 with 1 Axes>"
      ]
     },
     "metadata": {},
     "output_type": "display_data"
    }
   ],
   "source": [
    "f, ax = plt.subplots(figsize=(8,6))\n",
    "\n",
    "sns.histplot(x='power', data=data)\n",
    "ax.set_title('Распределение мощности автомобиля');"
   ]
  },
  {
   "cell_type": "markdown",
   "metadata": {},
   "source": [
    "Распределение стало выглядеть лучше, но все равно остался тяжелый правый хвост."
   ]
  },
  {
   "cell_type": "markdown",
   "metadata": {},
   "source": [
    "Рассмотрим целевой признак `price`."
   ]
  },
  {
   "cell_type": "code",
   "execution_count": 28,
   "metadata": {},
   "outputs": [
    {
     "data": {
      "image/png": "[encoded data removed]",
      "text/plain": [
       "<Figure size 576x432 with 1 Axes>"
      ]
     },
     "metadata": {},
     "output_type": "display_data"
    }
   ],
   "source": [
    "f, ax = plt.subplots(figsize=(8,6))\n",
    "\n",
    "sns.histplot(x='price', data=data)\n",
    "ax.set_title('Распределение цены автомобиля');"
   ]
  },
  {
   "cell_type": "code",
   "execution_count": 29,
   "metadata": {},
   "outputs": [
    {
     "data": {
      "image/png": "[encoded data removed]",
      "text/plain": [
       "<Figure size 432x288 with 1 Axes>"
      ]
     },
     "metadata": {},
     "output_type": "display_data"
    }
   ],
   "source": [
    "sns.boxplot(x='price', data=data);"
   ]
  },
  {
   "cell_type": "markdown",
   "metadata": {},
   "source": [
    "Посчитаем аномальными значения, где цена меньше 200 евро."
   ]
  },
  {
   "cell_type": "code",
   "execution_count": 30,
   "metadata": {},
   "outputs": [
    {
     "data": {
      "text/html": [
       "<div>\n",
       "<style scoped>\n",
       "    .dataframe tbody tr th:only-of-type {\n",
       "        vertical-align: middle;\n",
       "    }\n",
       "\n",
       "    .dataframe tbody tr th {\n",
       "        vertical-align: top;\n",
       "    }\n",
       "\n",
       "    .dataframe thead th {\n",
       "        text-align: right;\n",
       "    }\n",
       "</style>\n",
       "<table border=\"1\" class=\"dataframe\">\n",
       "  <thead>\n",
       "    <tr style=\"text-align: right;\">\n",
       "      <th></th>\n",
       "      <th>price</th>\n",
       "      <th>vehicle_type</th>\n",
       "      <th>registration_year</th>\n",
       "      <th>gearbox</th>\n",
       "      <th>power</th>\n",
       "      <th>model</th>\n",
       "      <th>kilometer</th>\n",
       "      <th>fuel_type</th>\n",
       "      <th>brand</th>\n",
       "      <th>not_repaired</th>\n",
       "      <th>postal_code</th>\n",
       "    </tr>\n",
       "  </thead>\n",
       "  <tbody>\n",
       "    <tr>\n",
       "      <th>7</th>\n",
       "      <td>0</td>\n",
       "      <td>sedan</td>\n",
       "      <td>1980</td>\n",
       "      <td>manual</td>\n",
       "      <td>50.0</td>\n",
       "      <td>other</td>\n",
       "      <td>40000</td>\n",
       "      <td>petrol</td>\n",
       "      <td>volkswagen</td>\n",
       "      <td>no</td>\n",
       "      <td>19348</td>\n",
       "    </tr>\n",
       "    <tr>\n",
       "      <th>40</th>\n",
       "      <td>0</td>\n",
       "      <td>unknown</td>\n",
       "      <td>1990</td>\n",
       "      <td>unknown</td>\n",
       "      <td>60.0</td>\n",
       "      <td>corsa</td>\n",
       "      <td>150000</td>\n",
       "      <td>petrol</td>\n",
       "      <td>opel</td>\n",
       "      <td>unknown</td>\n",
       "      <td>56412</td>\n",
       "    </tr>\n",
       "    <tr>\n",
       "      <th>59</th>\n",
       "      <td>1</td>\n",
       "      <td>suv</td>\n",
       "      <td>1994</td>\n",
       "      <td>manual</td>\n",
       "      <td>286.0</td>\n",
       "      <td>unknown</td>\n",
       "      <td>150000</td>\n",
       "      <td>unknown</td>\n",
       "      <td>sonstige_autos</td>\n",
       "      <td>unknown</td>\n",
       "      <td>53721</td>\n",
       "    </tr>\n",
       "    <tr>\n",
       "      <th>79</th>\n",
       "      <td>150</td>\n",
       "      <td>unknown</td>\n",
       "      <td>2016</td>\n",
       "      <td>manual</td>\n",
       "      <td>75.0</td>\n",
       "      <td>astra</td>\n",
       "      <td>150000</td>\n",
       "      <td>petrol</td>\n",
       "      <td>opel</td>\n",
       "      <td>yes</td>\n",
       "      <td>78315</td>\n",
       "    </tr>\n",
       "    <tr>\n",
       "      <th>89</th>\n",
       "      <td>1</td>\n",
       "      <td>sedan</td>\n",
       "      <td>1995</td>\n",
       "      <td>manual</td>\n",
       "      <td>113.0</td>\n",
       "      <td>e_klasse</td>\n",
       "      <td>150000</td>\n",
       "      <td>gasoline</td>\n",
       "      <td>mercedes_benz</td>\n",
       "      <td>no</td>\n",
       "      <td>40589</td>\n",
       "    </tr>\n",
       "    <tr>\n",
       "      <th>...</th>\n",
       "      <td>...</td>\n",
       "      <td>...</td>\n",
       "      <td>...</td>\n",
       "      <td>...</td>\n",
       "      <td>...</td>\n",
       "      <td>...</td>\n",
       "      <td>...</td>\n",
       "      <td>...</td>\n",
       "      <td>...</td>\n",
       "      <td>...</td>\n",
       "      <td>...</td>\n",
       "    </tr>\n",
       "    <tr>\n",
       "      <th>353704</th>\n",
       "      <td>150</td>\n",
       "      <td>small</td>\n",
       "      <td>1993</td>\n",
       "      <td>manual</td>\n",
       "      <td>55.0</td>\n",
       "      <td>astra</td>\n",
       "      <td>150000</td>\n",
       "      <td>petrol</td>\n",
       "      <td>opel</td>\n",
       "      <td>yes</td>\n",
       "      <td>66424</td>\n",
       "    </tr>\n",
       "    <tr>\n",
       "      <th>353708</th>\n",
       "      <td>0</td>\n",
       "      <td>small</td>\n",
       "      <td>1999</td>\n",
       "      <td>manual</td>\n",
       "      <td>37.0</td>\n",
       "      <td>arosa</td>\n",
       "      <td>150000</td>\n",
       "      <td>petrol</td>\n",
       "      <td>seat</td>\n",
       "      <td>yes</td>\n",
       "      <td>22559</td>\n",
       "    </tr>\n",
       "    <tr>\n",
       "      <th>353740</th>\n",
       "      <td>99</td>\n",
       "      <td>small</td>\n",
       "      <td>1999</td>\n",
       "      <td>manual</td>\n",
       "      <td>60.0</td>\n",
       "      <td>arosa</td>\n",
       "      <td>150000</td>\n",
       "      <td>petrol</td>\n",
       "      <td>seat</td>\n",
       "      <td>yes</td>\n",
       "      <td>91301</td>\n",
       "    </tr>\n",
       "    <tr>\n",
       "      <th>353769</th>\n",
       "      <td>180</td>\n",
       "      <td>unknown</td>\n",
       "      <td>1995</td>\n",
       "      <td>unknown</td>\n",
       "      <td>84.0</td>\n",
       "      <td>unknown</td>\n",
       "      <td>125000</td>\n",
       "      <td>petrol</td>\n",
       "      <td>opel</td>\n",
       "      <td>unknown</td>\n",
       "      <td>41470</td>\n",
       "    </tr>\n",
       "    <tr>\n",
       "      <th>353795</th>\n",
       "      <td>0</td>\n",
       "      <td>unknown</td>\n",
       "      <td>2005</td>\n",
       "      <td>manual</td>\n",
       "      <td>82.0</td>\n",
       "      <td>colt</td>\n",
       "      <td>150000</td>\n",
       "      <td>petrol</td>\n",
       "      <td>mitsubishi</td>\n",
       "      <td>yes</td>\n",
       "      <td>2694</td>\n",
       "    </tr>\n",
       "  </tbody>\n",
       "</table>\n",
       "<p>17339 rows × 11 columns</p>\n",
       "</div>"
      ],
      "text/plain": [
       "        price vehicle_type  registration_year  gearbox  power     model  \\\n",
       "7           0        sedan               1980   manual   50.0     other   \n",
       "40          0      unknown               1990  unknown   60.0     corsa   \n",
       "59          1          suv               1994   manual  286.0   unknown   \n",
       "79        150      unknown               2016   manual   75.0     astra   \n",
       "89          1        sedan               1995   manual  113.0  e_klasse   \n",
       "...       ...          ...                ...      ...    ...       ...   \n",
       "353704    150        small               1993   manual   55.0     astra   \n",
       "353708      0        small               1999   manual   37.0     arosa   \n",
       "353740     99        small               1999   manual   60.0     arosa   \n",
       "353769    180      unknown               1995  unknown   84.0   unknown   \n",
       "353795      0      unknown               2005   manual   82.0      colt   \n",
       "\n",
       "        kilometer fuel_type           brand not_repaired  postal_code  \n",
       "7           40000    petrol      volkswagen           no        19348  \n",
       "40         150000    petrol            opel      unknown        56412  \n",
       "59         150000   unknown  sonstige_autos      unknown        53721  \n",
       "79         150000    petrol            opel          yes        78315  \n",
       "89         150000  gasoline   mercedes_benz           no        40589  \n",
       "...           ...       ...             ...          ...          ...  \n",
       "353704     150000    petrol            opel          yes        66424  \n",
       "353708     150000    petrol            seat          yes        22559  \n",
       "353740     150000    petrol            seat          yes        91301  \n",
       "353769     125000    petrol            opel      unknown        41470  \n",
       "353795     150000    petrol      mitsubishi          yes         2694  \n",
       "\n",
       "[17339 rows x 11 columns]"
      ]
     },
     "execution_count": 30,
     "metadata": {},
     "output_type": "execute_result"
    }
   ],
   "source": [
    "data[data['price'] < 200]"
   ]
  },
  {
   "cell_type": "code",
   "execution_count": 31,
   "metadata": {},
   "outputs": [
    {
     "data": {
      "text/plain": [
       "4.900791407574901"
      ]
     },
     "execution_count": 31,
     "metadata": {},
     "output_type": "execute_result"
    }
   ],
   "source": [
    "len(data[data['price'] < 200]) / len(data) * 100"
   ]
  },
  {
   "cell_type": "markdown",
   "metadata": {},
   "source": [
    "Таких значений 17339, что составляет 5% от датасета. Предлагаю удалить эти значения, потому что это целевой признак и лучше не вносить лишнее смещение в данных."
   ]
  },
  {
   "cell_type": "code",
   "execution_count": 32,
   "metadata": {},
   "outputs": [],
   "source": [
    "data = data[~(data['price'] < 200)].reset_index(drop=True)"
   ]
  },
  {
   "cell_type": "markdown",
   "metadata": {},
   "source": [
    "Рассмотрим признак `postal_code`."
   ]
  },
  {
   "cell_type": "code",
   "execution_count": 33,
   "metadata": {},
   "outputs": [
    {
     "data": {
      "text/plain": [
       "<AxesSubplot:xlabel='postal_code', ylabel='Count'>"
      ]
     },
     "execution_count": 33,
     "metadata": {},
     "output_type": "execute_result"
    },
    {
     "data": {
      "image/png": "[encoded data removed]",
      "text/plain": [
       "<Figure size 432x288 with 1 Axes>"
      ]
     },
     "metadata": {},
     "output_type": "display_data"
    }
   ],
   "source": [
    "sns.histplot(x='postal_code', data=data)"
   ]
  },
  {
   "cell_type": "markdown",
   "metadata": {},
   "source": [
    "Как видим, диапазон значений от 0 до 100000. Предположим, что почтовый индекс владельца автомобиля совпадает с местом продажи. Так же, судя по тому, что в таблице для категории `brand` используется немецкий язык, заключаем, что это индексы немецких городов. Восстановить конкретный город сложно, но первая цифра в этом коде обозначает конкретную землю. Оставим только первую цифру из кода, и таким образом, закодируем регион продажи."
   ]
  },
  {
   "cell_type": "code",
   "execution_count": 34,
   "metadata": {},
   "outputs": [],
   "source": [
    "def return_region(code):\n",
    "    if len(str(code)) < 5:\n",
    "        return 0\n",
    "    else:\n",
    "        return int(str(code)[0])"
   ]
  },
  {
   "cell_type": "code",
   "execution_count": 35,
   "metadata": {},
   "outputs": [],
   "source": [
    "data['postal_code'] = data['postal_code'].apply(return_region)"
   ]
  },
  {
   "cell_type": "code",
   "execution_count": 36,
   "metadata": {},
   "outputs": [
    {
     "data": {
      "image/png": "[encoded data removed]",
      "text/plain": [
       "<Figure size 432x288 with 1 Axes>"
      ]
     },
     "metadata": {},
     "output_type": "display_data"
    }
   ],
   "source": [
    "sns.histplot(x='postal_code', data=data);"
   ]
  },
  {
   "cell_type": "markdown",
   "metadata": {},
   "source": [
    "**Вывод**\n",
    "\n",
    "В данном разделе была произведена предобработка данных, а именно:\n",
    "1. Заполнены пропущенные значения;\n",
    "2. Выполнен поиск аномалий;\n",
    "3. Признак post_code с города продажи был заменен на регион продажи.\n",
    "\n",
    "Распределение численных признаков не самое хорошее, везде имеются тяжелые хвосты."
   ]
  },
  {
   "cell_type": "markdown",
   "metadata": {},
   "source": [
    "## Обучение моделей"
   ]
  },
  {
   "cell_type": "markdown",
   "metadata": {},
   "source": [
    "Приступим непосредственно к обучению моделей. Будем использовать 3 семейства моделей:\n",
    "1. Линейные (LinearRegression, Lasso, Ridge, SGDRegressor, ElasticNet);\n",
    "2. Случайный лес (RandomForestRegressor);\n",
    "3. Бустинги (CatBoostRegressor, LGBMRegressor).\n",
    "\n",
    "Метрика качества - RMSE.\n",
    "\n",
    "Сравнение моделей будем производить не только по точности модели, но также по скорости обучения/предсказания."
   ]
  },
  {
   "cell_type": "markdown",
   "metadata": {},
   "source": [
    "Зафиксируем seed."
   ]
  },
  {
   "cell_type": "code",
   "execution_count": 37,
   "metadata": {},
   "outputs": [],
   "source": [
    "SEED = 17"
   ]
  },
  {
   "cell_type": "markdown",
   "metadata": {},
   "source": [
    "Зададим явно категориальные признаки."
   ]
  },
  {
   "cell_type": "code",
   "execution_count": 38,
   "metadata": {},
   "outputs": [],
   "source": [
    "data[categorial_features] = data[categorial_features].astype('category')"
   ]
  },
  {
   "cell_type": "code",
   "execution_count": 39,
   "metadata": {},
   "outputs": [
    {
     "name": "stdout",
     "output_type": "stream",
     "text": [
      "<class 'pandas.core.frame.DataFrame'>\n",
      "RangeIndex: 336461 entries, 0 to 336460\n",
      "Data columns (total 11 columns):\n",
      " #   Column             Non-Null Count   Dtype   \n",
      "---  ------             --------------   -----   \n",
      " 0   price              336461 non-null  int64   \n",
      " 1   vehicle_type       336461 non-null  category\n",
      " 2   registration_year  336461 non-null  int64   \n",
      " 3   gearbox            336461 non-null  category\n",
      " 4   power              336461 non-null  float64 \n",
      " 5   model              336461 non-null  category\n",
      " 6   kilometer          336461 non-null  int64   \n",
      " 7   fuel_type          336461 non-null  category\n",
      " 8   brand              336461 non-null  category\n",
      " 9   not_repaired       336461 non-null  category\n",
      " 10  postal_code        336461 non-null  category\n",
      "dtypes: category(7), float64(1), int64(3)\n",
      "memory usage: 12.8 MB\n"
     ]
    }
   ],
   "source": [
    "data.info()"
   ]
  },
  {
   "cell_type": "markdown",
   "metadata": {},
   "source": [
    "Разделим данные на обучающую, валидационную и тестовую выборки."
   ]
  },
  {
   "cell_type": "code",
   "execution_count": 40,
   "metadata": {},
   "outputs": [],
   "source": [
    "features, target = data.drop(columns=['price']), data['price']"
   ]
  },
  {
   "cell_type": "code",
   "execution_count": 41,
   "metadata": {},
   "outputs": [],
   "source": [
    "X_train, X_temp, y_train, y_temp = train_test_split(features, target, test_size=0.6, random_state=SEED)\n",
    "\n",
    "X_valid, X_test, y_valid, y_test = train_test_split(X_temp, y_temp, test_size=0.5, random_state=SEED)"
   ]
  },
  {
   "cell_type": "code",
   "execution_count": 42,
   "metadata": {},
   "outputs": [
    {
     "data": {
      "text/plain": [
       "True"
      ]
     },
     "execution_count": 42,
     "metadata": {},
     "output_type": "execute_result"
    }
   ],
   "source": [
    "len(data) == len(X_train) + len(X_valid) + len(X_test)"
   ]
  },
  {
   "cell_type": "markdown",
   "metadata": {},
   "source": [
    "### Линейные модели.\n",
    "\n",
    "Для линейных моделей необходимо произвести OHE с категориальными переменными, а так же стандартизировать данные. Создадим данный пайплайн."
   ]
  },
  {
   "cell_type": "code",
   "execution_count": 43,
   "metadata": {},
   "outputs": [],
   "source": [
    "num_pipe_lr = make_pipeline(\n",
    "    StandardScaler()\n",
    ")\n",
    "\n",
    "cat_pipe_lr = make_pipeline(\n",
    "    OneHotEncoder(handle_unknown=\"ignore\"),\n",
    ")\n",
    "\n",
    "preprocessor = make_column_transformer(\n",
    "    (num_pipe_lr, selector(dtype_include=\"number\")),\n",
    "    (cat_pipe_lr, selector(dtype_include=\"category\"))\n",
    ")"
   ]
  },
  {
   "cell_type": "code",
   "execution_count": 44,
   "metadata": {},
   "outputs": [],
   "source": [
    "results = []\n",
    "\n",
    "def append_result(model_name, params, fit_time, predict_time, RMSE, result_list, verbose=True):\n",
    "    \n",
    "    result_dict = {\n",
    "        'Модель' : model_name,\n",
    "        'Параметры модели' : params,\n",
    "        'Время обучения' : fit_time,\n",
    "        'Время предсказания' : predict_time,\n",
    "        'RMSE модели' : RMSE\n",
    "    }\n",
    "    \n",
    "    result_list.append(result_dict)\n",
    "    \n",
    "    if verbose:\n",
    "        return pd.DataFrame(result_list)"
   ]
  },
  {
   "cell_type": "markdown",
   "metadata": {},
   "source": [
    "**Линейная регрессия**"
   ]
  },
  {
   "cell_type": "code",
   "execution_count": 45,
   "metadata": {},
   "outputs": [
    {
     "data": {
      "text/html": [
       "<div>\n",
       "<style scoped>\n",
       "    .dataframe tbody tr th:only-of-type {\n",
       "        vertical-align: middle;\n",
       "    }\n",
       "\n",
       "    .dataframe tbody tr th {\n",
       "        vertical-align: top;\n",
       "    }\n",
       "\n",
       "    .dataframe thead th {\n",
       "        text-align: right;\n",
       "    }\n",
       "</style>\n",
       "<table border=\"1\" class=\"dataframe\">\n",
       "  <thead>\n",
       "    <tr style=\"text-align: right;\">\n",
       "      <th></th>\n",
       "      <th>Модель</th>\n",
       "      <th>Параметры модели</th>\n",
       "      <th>Время обучения</th>\n",
       "      <th>Время предсказания</th>\n",
       "      <th>RMSE модели</th>\n",
       "    </tr>\n",
       "  </thead>\n",
       "  <tbody>\n",
       "    <tr>\n",
       "      <th>0</th>\n",
       "      <td>LR</td>\n",
       "      <td>NaN</td>\n",
       "      <td>19.878958</td>\n",
       "      <td>0.272924</td>\n",
       "      <td>2656.091472</td>\n",
       "    </tr>\n",
       "  </tbody>\n",
       "</table>\n",
       "</div>"
      ],
      "text/plain": [
       "  Модель  Параметры модели  Время обучения  Время предсказания  RMSE модели\n",
       "0     LR               NaN       19.878958            0.272924  2656.091472"
      ]
     },
     "execution_count": 45,
     "metadata": {},
     "output_type": "execute_result"
    }
   ],
   "source": [
    "start_time = time()\n",
    "\n",
    "lin_reg = make_pipeline(preprocessor, LinearRegression())\n",
    "lin_reg.fit(X_train, y_train)\n",
    "end_fit_time = time()\n",
    "\n",
    "predict_lin_reg = lin_reg.predict(X_valid)\n",
    "end_predict_time = time()\n",
    "\n",
    "rmse_lin_reg = mean_squared_error(y_valid, predict_lin_reg, squared=False)\n",
    "\n",
    "append_result('LR', np.nan, end_fit_time - start_time, end_predict_time - end_fit_time, rmse_lin_reg, results)"
   ]
  },
  {
   "cell_type": "markdown",
   "metadata": {},
   "source": [
    "**Lasso**"
   ]
  },
  {
   "cell_type": "code",
   "execution_count": 46,
   "metadata": {},
   "outputs": [
    {
     "data": {
      "text/html": [
       "<div>\n",
       "<style scoped>\n",
       "    .dataframe tbody tr th:only-of-type {\n",
       "        vertical-align: middle;\n",
       "    }\n",
       "\n",
       "    .dataframe tbody tr th {\n",
       "        vertical-align: top;\n",
       "    }\n",
       "\n",
       "    .dataframe thead th {\n",
       "        text-align: right;\n",
       "    }\n",
       "</style>\n",
       "<table border=\"1\" class=\"dataframe\">\n",
       "  <thead>\n",
       "    <tr style=\"text-align: right;\">\n",
       "      <th></th>\n",
       "      <th>Модель</th>\n",
       "      <th>Параметры модели</th>\n",
       "      <th>Время обучения</th>\n",
       "      <th>Время предсказания</th>\n",
       "      <th>RMSE модели</th>\n",
       "    </tr>\n",
       "  </thead>\n",
       "  <tbody>\n",
       "    <tr>\n",
       "      <th>0</th>\n",
       "      <td>LR</td>\n",
       "      <td>NaN</td>\n",
       "      <td>19.878958</td>\n",
       "      <td>0.272924</td>\n",
       "      <td>2656.091472</td>\n",
       "    </tr>\n",
       "    <tr>\n",
       "      <th>1</th>\n",
       "      <td>Lasso</td>\n",
       "      <td>NaN</td>\n",
       "      <td>13.410662</td>\n",
       "      <td>0.267439</td>\n",
       "      <td>2686.119527</td>\n",
       "    </tr>\n",
       "  </tbody>\n",
       "</table>\n",
       "</div>"
      ],
      "text/plain": [
       "  Модель  Параметры модели  Время обучения  Время предсказания  RMSE модели\n",
       "0     LR               NaN       19.878958            0.272924  2656.091472\n",
       "1  Lasso               NaN       13.410662            0.267439  2686.119527"
      ]
     },
     "execution_count": 46,
     "metadata": {},
     "output_type": "execute_result"
    }
   ],
   "source": [
    "start_time = time()\n",
    "\n",
    "lasso_reg = make_pipeline(preprocessor, Lasso())\n",
    "lasso_reg.fit(X_train, y_train)\n",
    "end_fit_time = time()\n",
    "\n",
    "predict_lasso_reg = lasso_reg.predict(X_valid)\n",
    "end_predict_time = time()\n",
    "\n",
    "rmse_lasso_reg = mean_squared_error(y_valid, predict_lasso_reg, squared=False)\n",
    "\n",
    "append_result('Lasso', np.nan, end_fit_time - start_time, \n",
    "              end_predict_time - end_fit_time, rmse_lasso_reg, results)"
   ]
  },
  {
   "cell_type": "markdown",
   "metadata": {},
   "source": [
    "**Ridge**"
   ]
  },
  {
   "cell_type": "code",
   "execution_count": 47,
   "metadata": {},
   "outputs": [
    {
     "data": {
      "text/html": [
       "<div>\n",
       "<style scoped>\n",
       "    .dataframe tbody tr th:only-of-type {\n",
       "        vertical-align: middle;\n",
       "    }\n",
       "\n",
       "    .dataframe tbody tr th {\n",
       "        vertical-align: top;\n",
       "    }\n",
       "\n",
       "    .dataframe thead th {\n",
       "        text-align: right;\n",
       "    }\n",
       "</style>\n",
       "<table border=\"1\" class=\"dataframe\">\n",
       "  <thead>\n",
       "    <tr style=\"text-align: right;\">\n",
       "      <th></th>\n",
       "      <th>Модель</th>\n",
       "      <th>Параметры модели</th>\n",
       "      <th>Время обучения</th>\n",
       "      <th>Время предсказания</th>\n",
       "      <th>RMSE модели</th>\n",
       "    </tr>\n",
       "  </thead>\n",
       "  <tbody>\n",
       "    <tr>\n",
       "      <th>0</th>\n",
       "      <td>LR</td>\n",
       "      <td>NaN</td>\n",
       "      <td>19.878958</td>\n",
       "      <td>0.272924</td>\n",
       "      <td>2656.091472</td>\n",
       "    </tr>\n",
       "    <tr>\n",
       "      <th>1</th>\n",
       "      <td>Lasso</td>\n",
       "      <td>NaN</td>\n",
       "      <td>13.410662</td>\n",
       "      <td>0.267439</td>\n",
       "      <td>2686.119527</td>\n",
       "    </tr>\n",
       "    <tr>\n",
       "      <th>2</th>\n",
       "      <td>Ridge</td>\n",
       "      <td>NaN</td>\n",
       "      <td>0.438302</td>\n",
       "      <td>0.149393</td>\n",
       "      <td>2656.704784</td>\n",
       "    </tr>\n",
       "  </tbody>\n",
       "</table>\n",
       "</div>"
      ],
      "text/plain": [
       "  Модель  Параметры модели  Время обучения  Время предсказания  RMSE модели\n",
       "0     LR               NaN       19.878958            0.272924  2656.091472\n",
       "1  Lasso               NaN       13.410662            0.267439  2686.119527\n",
       "2  Ridge               NaN        0.438302            0.149393  2656.704784"
      ]
     },
     "execution_count": 47,
     "metadata": {},
     "output_type": "execute_result"
    }
   ],
   "source": [
    "start_time = time()\n",
    "\n",
    "ridge_reg = make_pipeline(preprocessor, Ridge())\n",
    "ridge_reg.fit(X_train, y_train)\n",
    "end_fit_time = time()\n",
    "\n",
    "predict_ridge_reg = ridge_reg.predict(X_valid)\n",
    "end_predict_time = time()\n",
    "\n",
    "rmse_ridge_reg = mean_squared_error(y_valid, predict_ridge_reg, squared=False)\n",
    "\n",
    "append_result('Ridge', np.nan, end_fit_time - start_time, \n",
    "              end_predict_time - end_fit_time, rmse_ridge_reg, results)"
   ]
  },
  {
   "cell_type": "markdown",
   "metadata": {},
   "source": [
    "**ElasticNet**"
   ]
  },
  {
   "cell_type": "code",
   "execution_count": 48,
   "metadata": {},
   "outputs": [
    {
     "data": {
      "text/html": [
       "<div>\n",
       "<style scoped>\n",
       "    .dataframe tbody tr th:only-of-type {\n",
       "        vertical-align: middle;\n",
       "    }\n",
       "\n",
       "    .dataframe tbody tr th {\n",
       "        vertical-align: top;\n",
       "    }\n",
       "\n",
       "    .dataframe thead th {\n",
       "        text-align: right;\n",
       "    }\n",
       "</style>\n",
       "<table border=\"1\" class=\"dataframe\">\n",
       "  <thead>\n",
       "    <tr style=\"text-align: right;\">\n",
       "      <th></th>\n",
       "      <th>Модель</th>\n",
       "      <th>Параметры модели</th>\n",
       "      <th>Время обучения</th>\n",
       "      <th>Время предсказания</th>\n",
       "      <th>RMSE модели</th>\n",
       "    </tr>\n",
       "  </thead>\n",
       "  <tbody>\n",
       "    <tr>\n",
       "      <th>0</th>\n",
       "      <td>LR</td>\n",
       "      <td>NaN</td>\n",
       "      <td>19.878958</td>\n",
       "      <td>0.272924</td>\n",
       "      <td>2656.091472</td>\n",
       "    </tr>\n",
       "    <tr>\n",
       "      <th>1</th>\n",
       "      <td>Lasso</td>\n",
       "      <td>NaN</td>\n",
       "      <td>13.410662</td>\n",
       "      <td>0.267439</td>\n",
       "      <td>2686.119527</td>\n",
       "    </tr>\n",
       "    <tr>\n",
       "      <th>2</th>\n",
       "      <td>Ridge</td>\n",
       "      <td>NaN</td>\n",
       "      <td>0.438302</td>\n",
       "      <td>0.149393</td>\n",
       "      <td>2656.704784</td>\n",
       "    </tr>\n",
       "    <tr>\n",
       "      <th>3</th>\n",
       "      <td>ElasticNet</td>\n",
       "      <td>NaN</td>\n",
       "      <td>1.019961</td>\n",
       "      <td>0.266573</td>\n",
       "      <td>3188.622194</td>\n",
       "    </tr>\n",
       "  </tbody>\n",
       "</table>\n",
       "</div>"
      ],
      "text/plain": [
       "       Модель  Параметры модели  Время обучения  Время предсказания  \\\n",
       "0          LR               NaN       19.878958            0.272924   \n",
       "1       Lasso               NaN       13.410662            0.267439   \n",
       "2       Ridge               NaN        0.438302            0.149393   \n",
       "3  ElasticNet               NaN        1.019961            0.266573   \n",
       "\n",
       "   RMSE модели  \n",
       "0  2656.091472  \n",
       "1  2686.119527  \n",
       "2  2656.704784  \n",
       "3  3188.622194  "
      ]
     },
     "execution_count": 48,
     "metadata": {},
     "output_type": "execute_result"
    }
   ],
   "source": [
    "start_time = time()\n",
    "\n",
    "en_reg = make_pipeline(preprocessor, ElasticNet())\n",
    "en_reg.fit(X_train, y_train)\n",
    "end_fit_time = time()\n",
    "\n",
    "predict_en_reg = en_reg.predict(X_valid)\n",
    "end_predict_time = time()\n",
    "\n",
    "rmse_en_reg = mean_squared_error(y_valid, predict_en_reg, squared=False)\n",
    "\n",
    "append_result('ElasticNet', np.nan, end_fit_time - start_time, \n",
    "              end_predict_time - end_fit_time, rmse_en_reg, results)"
   ]
  },
  {
   "cell_type": "markdown",
   "metadata": {},
   "source": [
    "**SGDRegressor**"
   ]
  },
  {
   "cell_type": "code",
   "execution_count": 49,
   "metadata": {},
   "outputs": [
    {
     "data": {
      "text/html": [
       "<div>\n",
       "<style scoped>\n",
       "    .dataframe tbody tr th:only-of-type {\n",
       "        vertical-align: middle;\n",
       "    }\n",
       "\n",
       "    .dataframe tbody tr th {\n",
       "        vertical-align: top;\n",
       "    }\n",
       "\n",
       "    .dataframe thead th {\n",
       "        text-align: right;\n",
       "    }\n",
       "</style>\n",
       "<table border=\"1\" class=\"dataframe\">\n",
       "  <thead>\n",
       "    <tr style=\"text-align: right;\">\n",
       "      <th></th>\n",
       "      <th>Модель</th>\n",
       "      <th>Параметры модели</th>\n",
       "      <th>Время обучения</th>\n",
       "      <th>Время предсказания</th>\n",
       "      <th>RMSE модели</th>\n",
       "    </tr>\n",
       "  </thead>\n",
       "  <tbody>\n",
       "    <tr>\n",
       "      <th>0</th>\n",
       "      <td>LR</td>\n",
       "      <td>NaN</td>\n",
       "      <td>19.878958</td>\n",
       "      <td>0.272924</td>\n",
       "      <td>2656.091472</td>\n",
       "    </tr>\n",
       "    <tr>\n",
       "      <th>1</th>\n",
       "      <td>Lasso</td>\n",
       "      <td>NaN</td>\n",
       "      <td>13.410662</td>\n",
       "      <td>0.267439</td>\n",
       "      <td>2686.119527</td>\n",
       "    </tr>\n",
       "    <tr>\n",
       "      <th>2</th>\n",
       "      <td>Ridge</td>\n",
       "      <td>NaN</td>\n",
       "      <td>0.438302</td>\n",
       "      <td>0.149393</td>\n",
       "      <td>2656.704784</td>\n",
       "    </tr>\n",
       "    <tr>\n",
       "      <th>3</th>\n",
       "      <td>ElasticNet</td>\n",
       "      <td>NaN</td>\n",
       "      <td>1.019961</td>\n",
       "      <td>0.266573</td>\n",
       "      <td>3188.622194</td>\n",
       "    </tr>\n",
       "    <tr>\n",
       "      <th>4</th>\n",
       "      <td>SGD (1)</td>\n",
       "      <td>{'penalty': 'l2', 'max_iter': 1000, 'random_state': 17}</td>\n",
       "      <td>2.977339</td>\n",
       "      <td>0.153687</td>\n",
       "      <td>2664.781353</td>\n",
       "    </tr>\n",
       "  </tbody>\n",
       "</table>\n",
       "</div>"
      ],
      "text/plain": [
       "       Модель                                         Параметры модели  \\\n",
       "0          LR                                                      NaN   \n",
       "1       Lasso                                                      NaN   \n",
       "2       Ridge                                                      NaN   \n",
       "3  ElasticNet                                                      NaN   \n",
       "4     SGD (1)  {'penalty': 'l2', 'max_iter': 1000, 'random_state': 17}   \n",
       "\n",
       "   Время обучения  Время предсказания  RMSE модели  \n",
       "0       19.878958            0.272924  2656.091472  \n",
       "1       13.410662            0.267439  2686.119527  \n",
       "2        0.438302            0.149393  2656.704784  \n",
       "3        1.019961            0.266573  3188.622194  \n",
       "4        2.977339            0.153687  2664.781353  "
      ]
     },
     "execution_count": 49,
     "metadata": {},
     "output_type": "execute_result"
    }
   ],
   "source": [
    "params = {\n",
    "    'penalty' : 'l2',\n",
    "    'max_iter' : 1000,\n",
    "    'random_state' : SEED\n",
    "}\n",
    "\n",
    "start_time = time()\n",
    "\n",
    "sgd_reg = make_pipeline(preprocessor, SGDRegressor(**params))\n",
    "sgd_reg.fit(X_train, y_train)\n",
    "end_fit_time = time()\n",
    "\n",
    "predict_sgd_reg = sgd_reg.predict(X_valid)\n",
    "end_predict_time = time()\n",
    "\n",
    "rmse_sgd_reg = mean_squared_error(y_valid, predict_sgd_reg, squared=False)\n",
    "\n",
    "append_result('SGD (1)', params, end_fit_time - start_time, \n",
    "              end_predict_time - end_fit_time, rmse_sgd_reg, results)"
   ]
  },
  {
   "cell_type": "code",
   "execution_count": 50,
   "metadata": {},
   "outputs": [
    {
     "data": {
      "text/html": [
       "<div>\n",
       "<style scoped>\n",
       "    .dataframe tbody tr th:only-of-type {\n",
       "        vertical-align: middle;\n",
       "    }\n",
       "\n",
       "    .dataframe tbody tr th {\n",
       "        vertical-align: top;\n",
       "    }\n",
       "\n",
       "    .dataframe thead th {\n",
       "        text-align: right;\n",
       "    }\n",
       "</style>\n",
       "<table border=\"1\" class=\"dataframe\">\n",
       "  <thead>\n",
       "    <tr style=\"text-align: right;\">\n",
       "      <th></th>\n",
       "      <th>Модель</th>\n",
       "      <th>Параметры модели</th>\n",
       "      <th>Время обучения</th>\n",
       "      <th>Время предсказания</th>\n",
       "      <th>RMSE модели</th>\n",
       "    </tr>\n",
       "  </thead>\n",
       "  <tbody>\n",
       "    <tr>\n",
       "      <th>0</th>\n",
       "      <td>LR</td>\n",
       "      <td>NaN</td>\n",
       "      <td>19.878958</td>\n",
       "      <td>0.272924</td>\n",
       "      <td>2656.091472</td>\n",
       "    </tr>\n",
       "    <tr>\n",
       "      <th>1</th>\n",
       "      <td>Lasso</td>\n",
       "      <td>NaN</td>\n",
       "      <td>13.410662</td>\n",
       "      <td>0.267439</td>\n",
       "      <td>2686.119527</td>\n",
       "    </tr>\n",
       "    <tr>\n",
       "      <th>2</th>\n",
       "      <td>Ridge</td>\n",
       "      <td>NaN</td>\n",
       "      <td>0.438302</td>\n",
       "      <td>0.149393</td>\n",
       "      <td>2656.704784</td>\n",
       "    </tr>\n",
       "    <tr>\n",
       "      <th>3</th>\n",
       "      <td>ElasticNet</td>\n",
       "      <td>NaN</td>\n",
       "      <td>1.019961</td>\n",
       "      <td>0.266573</td>\n",
       "      <td>3188.622194</td>\n",
       "    </tr>\n",
       "    <tr>\n",
       "      <th>4</th>\n",
       "      <td>SGD (1)</td>\n",
       "      <td>{'penalty': 'l2', 'max_iter': 1000, 'random_state': 17}</td>\n",
       "      <td>2.977339</td>\n",
       "      <td>0.153687</td>\n",
       "      <td>2664.781353</td>\n",
       "    </tr>\n",
       "    <tr>\n",
       "      <th>5</th>\n",
       "      <td>SGD (2)</td>\n",
       "      <td>{'penalty': 'l1', 'max_iter': 1000, 'random_state': 17}</td>\n",
       "      <td>3.485225</td>\n",
       "      <td>0.148529</td>\n",
       "      <td>2662.632765</td>\n",
       "    </tr>\n",
       "  </tbody>\n",
       "</table>\n",
       "</div>"
      ],
      "text/plain": [
       "       Модель                                         Параметры модели  \\\n",
       "0          LR                                                      NaN   \n",
       "1       Lasso                                                      NaN   \n",
       "2       Ridge                                                      NaN   \n",
       "3  ElasticNet                                                      NaN   \n",
       "4     SGD (1)  {'penalty': 'l2', 'max_iter': 1000, 'random_state': 17}   \n",
       "5     SGD (2)  {'penalty': 'l1', 'max_iter': 1000, 'random_state': 17}   \n",
       "\n",
       "   Время обучения  Время предсказания  RMSE модели  \n",
       "0       19.878958            0.272924  2656.091472  \n",
       "1       13.410662            0.267439  2686.119527  \n",
       "2        0.438302            0.149393  2656.704784  \n",
       "3        1.019961            0.266573  3188.622194  \n",
       "4        2.977339            0.153687  2664.781353  \n",
       "5        3.485225            0.148529  2662.632765  "
      ]
     },
     "execution_count": 50,
     "metadata": {},
     "output_type": "execute_result"
    }
   ],
   "source": [
    "params = {\n",
    "    'penalty' : 'l1',\n",
    "    'max_iter' : 1000,\n",
    "    'random_state' : SEED\n",
    "}\n",
    "\n",
    "start_time = time()\n",
    "\n",
    "sgd_reg = make_pipeline(preprocessor, SGDRegressor(**params))\n",
    "sgd_reg.fit(X_train, y_train)\n",
    "end_fit_time = time()\n",
    "\n",
    "predict_sgd_reg = sgd_reg.predict(X_valid)\n",
    "end_predict_time = time()\n",
    "\n",
    "rmse_sgd_reg = mean_squared_error(y_valid, predict_sgd_reg, squared=False)\n",
    "\n",
    "append_result('SGD (2)', params, end_fit_time - start_time, \n",
    "              end_predict_time - end_fit_time, rmse_sgd_reg, results)"
   ]
  },
  {
   "cell_type": "code",
   "execution_count": 51,
   "metadata": {},
   "outputs": [
    {
     "data": {
      "text/html": [
       "<div>\n",
       "<style scoped>\n",
       "    .dataframe tbody tr th:only-of-type {\n",
       "        vertical-align: middle;\n",
       "    }\n",
       "\n",
       "    .dataframe tbody tr th {\n",
       "        vertical-align: top;\n",
       "    }\n",
       "\n",
       "    .dataframe thead th {\n",
       "        text-align: right;\n",
       "    }\n",
       "</style>\n",
       "<table border=\"1\" class=\"dataframe\">\n",
       "  <thead>\n",
       "    <tr style=\"text-align: right;\">\n",
       "      <th></th>\n",
       "      <th>Модель</th>\n",
       "      <th>Параметры модели</th>\n",
       "      <th>Время обучения</th>\n",
       "      <th>Время предсказания</th>\n",
       "      <th>RMSE модели</th>\n",
       "    </tr>\n",
       "  </thead>\n",
       "  <tbody>\n",
       "    <tr>\n",
       "      <th>0</th>\n",
       "      <td>LR</td>\n",
       "      <td>NaN</td>\n",
       "      <td>19.878958</td>\n",
       "      <td>0.272924</td>\n",
       "      <td>2656.091472</td>\n",
       "    </tr>\n",
       "    <tr>\n",
       "      <th>1</th>\n",
       "      <td>Lasso</td>\n",
       "      <td>NaN</td>\n",
       "      <td>13.410662</td>\n",
       "      <td>0.267439</td>\n",
       "      <td>2686.119527</td>\n",
       "    </tr>\n",
       "    <tr>\n",
       "      <th>2</th>\n",
       "      <td>Ridge</td>\n",
       "      <td>NaN</td>\n",
       "      <td>0.438302</td>\n",
       "      <td>0.149393</td>\n",
       "      <td>2656.704784</td>\n",
       "    </tr>\n",
       "    <tr>\n",
       "      <th>3</th>\n",
       "      <td>ElasticNet</td>\n",
       "      <td>NaN</td>\n",
       "      <td>1.019961</td>\n",
       "      <td>0.266573</td>\n",
       "      <td>3188.622194</td>\n",
       "    </tr>\n",
       "    <tr>\n",
       "      <th>4</th>\n",
       "      <td>SGD (1)</td>\n",
       "      <td>{'penalty': 'l2', 'max_iter': 1000, 'random_state': 17}</td>\n",
       "      <td>2.977339</td>\n",
       "      <td>0.153687</td>\n",
       "      <td>2664.781353</td>\n",
       "    </tr>\n",
       "    <tr>\n",
       "      <th>5</th>\n",
       "      <td>SGD (2)</td>\n",
       "      <td>{'penalty': 'l1', 'max_iter': 1000, 'random_state': 17}</td>\n",
       "      <td>3.485225</td>\n",
       "      <td>0.148529</td>\n",
       "      <td>2662.632765</td>\n",
       "    </tr>\n",
       "    <tr>\n",
       "      <th>6</th>\n",
       "      <td>SGD (3)</td>\n",
       "      <td>{'penalty': 'elasticnet', 'max_iter': 1000, 'random_state': 17}</td>\n",
       "      <td>3.382794</td>\n",
       "      <td>0.151242</td>\n",
       "      <td>2664.424899</td>\n",
       "    </tr>\n",
       "  </tbody>\n",
       "</table>\n",
       "</div>"
      ],
      "text/plain": [
       "       Модель  \\\n",
       "0          LR   \n",
       "1       Lasso   \n",
       "2       Ridge   \n",
       "3  ElasticNet   \n",
       "4     SGD (1)   \n",
       "5     SGD (2)   \n",
       "6     SGD (3)   \n",
       "\n",
       "                                                  Параметры модели  \\\n",
       "0                                                              NaN   \n",
       "1                                                              NaN   \n",
       "2                                                              NaN   \n",
       "3                                                              NaN   \n",
       "4          {'penalty': 'l2', 'max_iter': 1000, 'random_state': 17}   \n",
       "5          {'penalty': 'l1', 'max_iter': 1000, 'random_state': 17}   \n",
       "6  {'penalty': 'elasticnet', 'max_iter': 1000, 'random_state': 17}   \n",
       "\n",
       "   Время обучения  Время предсказания  RMSE модели  \n",
       "0       19.878958            0.272924  2656.091472  \n",
       "1       13.410662            0.267439  2686.119527  \n",
       "2        0.438302            0.149393  2656.704784  \n",
       "3        1.019961            0.266573  3188.622194  \n",
       "4        2.977339            0.153687  2664.781353  \n",
       "5        3.485225            0.148529  2662.632765  \n",
       "6        3.382794            0.151242  2664.424899  "
      ]
     },
     "execution_count": 51,
     "metadata": {},
     "output_type": "execute_result"
    }
   ],
   "source": [
    "params = {\n",
    "    'penalty' : 'elasticnet',\n",
    "    'max_iter' : 1000,\n",
    "    'random_state' : SEED\n",
    "}\n",
    "\n",
    "start_time = time()\n",
    "\n",
    "sgd_reg = make_pipeline(preprocessor, SGDRegressor(**params))\n",
    "sgd_reg.fit(X_train, y_train)\n",
    "end_fit_time = time()\n",
    "\n",
    "predict_sgd_reg = sgd_reg.predict(X_valid)\n",
    "end_predict_time = time()\n",
    "\n",
    "rmse_sgd_reg = mean_squared_error(y_valid, predict_sgd_reg, squared=False)\n",
    "\n",
    "append_result('SGD (3)', params, end_fit_time - start_time, \n",
    "              end_predict_time - end_fit_time, rmse_sgd_reg, results)"
   ]
  },
  {
   "cell_type": "code",
   "execution_count": 52,
   "metadata": {},
   "outputs": [
    {
     "data": {
      "text/html": [
       "<div>\n",
       "<style scoped>\n",
       "    .dataframe tbody tr th:only-of-type {\n",
       "        vertical-align: middle;\n",
       "    }\n",
       "\n",
       "    .dataframe tbody tr th {\n",
       "        vertical-align: top;\n",
       "    }\n",
       "\n",
       "    .dataframe thead th {\n",
       "        text-align: right;\n",
       "    }\n",
       "</style>\n",
       "<table border=\"1\" class=\"dataframe\">\n",
       "  <thead>\n",
       "    <tr style=\"text-align: right;\">\n",
       "      <th></th>\n",
       "      <th>Модель</th>\n",
       "      <th>Параметры модели</th>\n",
       "      <th>Время обучения</th>\n",
       "      <th>Время предсказания</th>\n",
       "      <th>RMSE модели</th>\n",
       "    </tr>\n",
       "  </thead>\n",
       "  <tbody>\n",
       "    <tr>\n",
       "      <th>0</th>\n",
       "      <td>LR</td>\n",
       "      <td>NaN</td>\n",
       "      <td>19.878958</td>\n",
       "      <td>0.272924</td>\n",
       "      <td>2656.091472</td>\n",
       "    </tr>\n",
       "    <tr>\n",
       "      <th>1</th>\n",
       "      <td>Lasso</td>\n",
       "      <td>NaN</td>\n",
       "      <td>13.410662</td>\n",
       "      <td>0.267439</td>\n",
       "      <td>2686.119527</td>\n",
       "    </tr>\n",
       "    <tr>\n",
       "      <th>2</th>\n",
       "      <td>Ridge</td>\n",
       "      <td>NaN</td>\n",
       "      <td>0.438302</td>\n",
       "      <td>0.149393</td>\n",
       "      <td>2656.704784</td>\n",
       "    </tr>\n",
       "    <tr>\n",
       "      <th>3</th>\n",
       "      <td>ElasticNet</td>\n",
       "      <td>NaN</td>\n",
       "      <td>1.019961</td>\n",
       "      <td>0.266573</td>\n",
       "      <td>3188.622194</td>\n",
       "    </tr>\n",
       "    <tr>\n",
       "      <th>4</th>\n",
       "      <td>SGD (1)</td>\n",
       "      <td>{'penalty': 'l2', 'max_iter': 1000, 'random_state': 17}</td>\n",
       "      <td>2.977339</td>\n",
       "      <td>0.153687</td>\n",
       "      <td>2664.781353</td>\n",
       "    </tr>\n",
       "    <tr>\n",
       "      <th>5</th>\n",
       "      <td>SGD (2)</td>\n",
       "      <td>{'penalty': 'l1', 'max_iter': 1000, 'random_state': 17}</td>\n",
       "      <td>3.485225</td>\n",
       "      <td>0.148529</td>\n",
       "      <td>2662.632765</td>\n",
       "    </tr>\n",
       "    <tr>\n",
       "      <th>6</th>\n",
       "      <td>SGD (3)</td>\n",
       "      <td>{'penalty': 'elasticnet', 'max_iter': 1000, 'random_state': 17}</td>\n",
       "      <td>3.382794</td>\n",
       "      <td>0.151242</td>\n",
       "      <td>2664.424899</td>\n",
       "    </tr>\n",
       "    <tr>\n",
       "      <th>7</th>\n",
       "      <td>SGD (4)</td>\n",
       "      <td>{'penalty': 'l1', 'max_iter': 5000, 'random_state': 17}</td>\n",
       "      <td>3.491859</td>\n",
       "      <td>0.155374</td>\n",
       "      <td>2662.632765</td>\n",
       "    </tr>\n",
       "  </tbody>\n",
       "</table>\n",
       "</div>"
      ],
      "text/plain": [
       "       Модель  \\\n",
       "0          LR   \n",
       "1       Lasso   \n",
       "2       Ridge   \n",
       "3  ElasticNet   \n",
       "4     SGD (1)   \n",
       "5     SGD (2)   \n",
       "6     SGD (3)   \n",
       "7     SGD (4)   \n",
       "\n",
       "                                                  Параметры модели  \\\n",
       "0                                                              NaN   \n",
       "1                                                              NaN   \n",
       "2                                                              NaN   \n",
       "3                                                              NaN   \n",
       "4          {'penalty': 'l2', 'max_iter': 1000, 'random_state': 17}   \n",
       "5          {'penalty': 'l1', 'max_iter': 1000, 'random_state': 17}   \n",
       "6  {'penalty': 'elasticnet', 'max_iter': 1000, 'random_state': 17}   \n",
       "7          {'penalty': 'l1', 'max_iter': 5000, 'random_state': 17}   \n",
       "\n",
       "   Время обучения  Время предсказания  RMSE модели  \n",
       "0       19.878958            0.272924  2656.091472  \n",
       "1       13.410662            0.267439  2686.119527  \n",
       "2        0.438302            0.149393  2656.704784  \n",
       "3        1.019961            0.266573  3188.622194  \n",
       "4        2.977339            0.153687  2664.781353  \n",
       "5        3.485225            0.148529  2662.632765  \n",
       "6        3.382794            0.151242  2664.424899  \n",
       "7        3.491859            0.155374  2662.632765  "
      ]
     },
     "execution_count": 52,
     "metadata": {},
     "output_type": "execute_result"
    }
   ],
   "source": [
    "params = {\n",
    "    'penalty' : 'l1',\n",
    "    'max_iter' : 5000,\n",
    "    'random_state' : SEED\n",
    "}\n",
    "\n",
    "start_time = time()\n",
    "\n",
    "sgd_reg = make_pipeline(preprocessor, SGDRegressor(**params))\n",
    "sgd_reg.fit(X_train, y_train)\n",
    "end_fit_time = time()\n",
    "\n",
    "predict_sgd_reg = sgd_reg.predict(X_valid)\n",
    "end_predict_time = time()\n",
    "\n",
    "rmse_sgd_reg = mean_squared_error(y_valid, predict_sgd_reg, squared=False)\n",
    "\n",
    "append_result('SGD (4)', params, end_fit_time - start_time, \n",
    "              end_predict_time - end_fit_time, rmse_sgd_reg, results)"
   ]
  },
  {
   "cell_type": "code",
   "execution_count": 53,
   "metadata": {},
   "outputs": [
    {
     "data": {
      "text/html": [
       "<div>\n",
       "<style scoped>\n",
       "    .dataframe tbody tr th:only-of-type {\n",
       "        vertical-align: middle;\n",
       "    }\n",
       "\n",
       "    .dataframe tbody tr th {\n",
       "        vertical-align: top;\n",
       "    }\n",
       "\n",
       "    .dataframe thead th {\n",
       "        text-align: right;\n",
       "    }\n",
       "</style>\n",
       "<table border=\"1\" class=\"dataframe\">\n",
       "  <thead>\n",
       "    <tr style=\"text-align: right;\">\n",
       "      <th></th>\n",
       "      <th>Модель</th>\n",
       "      <th>Параметры модели</th>\n",
       "      <th>Время обучения</th>\n",
       "      <th>Время предсказания</th>\n",
       "      <th>RMSE модели</th>\n",
       "    </tr>\n",
       "  </thead>\n",
       "  <tbody>\n",
       "    <tr>\n",
       "      <th>0</th>\n",
       "      <td>LR</td>\n",
       "      <td>NaN</td>\n",
       "      <td>19.878958</td>\n",
       "      <td>0.272924</td>\n",
       "      <td>2656.091472</td>\n",
       "    </tr>\n",
       "    <tr>\n",
       "      <th>1</th>\n",
       "      <td>Lasso</td>\n",
       "      <td>NaN</td>\n",
       "      <td>13.410662</td>\n",
       "      <td>0.267439</td>\n",
       "      <td>2686.119527</td>\n",
       "    </tr>\n",
       "    <tr>\n",
       "      <th>2</th>\n",
       "      <td>Ridge</td>\n",
       "      <td>NaN</td>\n",
       "      <td>0.438302</td>\n",
       "      <td>0.149393</td>\n",
       "      <td>2656.704784</td>\n",
       "    </tr>\n",
       "    <tr>\n",
       "      <th>3</th>\n",
       "      <td>ElasticNet</td>\n",
       "      <td>NaN</td>\n",
       "      <td>1.019961</td>\n",
       "      <td>0.266573</td>\n",
       "      <td>3188.622194</td>\n",
       "    </tr>\n",
       "    <tr>\n",
       "      <th>4</th>\n",
       "      <td>SGD (1)</td>\n",
       "      <td>{'penalty': 'l2', 'max_iter': 1000, 'random_state': 17}</td>\n",
       "      <td>2.977339</td>\n",
       "      <td>0.153687</td>\n",
       "      <td>2664.781353</td>\n",
       "    </tr>\n",
       "    <tr>\n",
       "      <th>5</th>\n",
       "      <td>SGD (2)</td>\n",
       "      <td>{'penalty': 'l1', 'max_iter': 1000, 'random_state': 17}</td>\n",
       "      <td>3.485225</td>\n",
       "      <td>0.148529</td>\n",
       "      <td>2662.632765</td>\n",
       "    </tr>\n",
       "    <tr>\n",
       "      <th>6</th>\n",
       "      <td>SGD (3)</td>\n",
       "      <td>{'penalty': 'elasticnet', 'max_iter': 1000, 'random_state': 17}</td>\n",
       "      <td>3.382794</td>\n",
       "      <td>0.151242</td>\n",
       "      <td>2664.424899</td>\n",
       "    </tr>\n",
       "    <tr>\n",
       "      <th>7</th>\n",
       "      <td>SGD (4)</td>\n",
       "      <td>{'penalty': 'l1', 'max_iter': 5000, 'random_state': 17}</td>\n",
       "      <td>3.491859</td>\n",
       "      <td>0.155374</td>\n",
       "      <td>2662.632765</td>\n",
       "    </tr>\n",
       "    <tr>\n",
       "      <th>8</th>\n",
       "      <td>SGD (5)</td>\n",
       "      <td>{'penalty': 'l2', 'max_iter': 5000, 'random_state': 17}</td>\n",
       "      <td>2.944357</td>\n",
       "      <td>0.150583</td>\n",
       "      <td>2664.781353</td>\n",
       "    </tr>\n",
       "  </tbody>\n",
       "</table>\n",
       "</div>"
      ],
      "text/plain": [
       "       Модель  \\\n",
       "0          LR   \n",
       "1       Lasso   \n",
       "2       Ridge   \n",
       "3  ElasticNet   \n",
       "4     SGD (1)   \n",
       "5     SGD (2)   \n",
       "6     SGD (3)   \n",
       "7     SGD (4)   \n",
       "8     SGD (5)   \n",
       "\n",
       "                                                  Параметры модели  \\\n",
       "0                                                              NaN   \n",
       "1                                                              NaN   \n",
       "2                                                              NaN   \n",
       "3                                                              NaN   \n",
       "4          {'penalty': 'l2', 'max_iter': 1000, 'random_state': 17}   \n",
       "5          {'penalty': 'l1', 'max_iter': 1000, 'random_state': 17}   \n",
       "6  {'penalty': 'elasticnet', 'max_iter': 1000, 'random_state': 17}   \n",
       "7          {'penalty': 'l1', 'max_iter': 5000, 'random_state': 17}   \n",
       "8          {'penalty': 'l2', 'max_iter': 5000, 'random_state': 17}   \n",
       "\n",
       "   Время обучения  Время предсказания  RMSE модели  \n",
       "0       19.878958            0.272924  2656.091472  \n",
       "1       13.410662            0.267439  2686.119527  \n",
       "2        0.438302            0.149393  2656.704784  \n",
       "3        1.019961            0.266573  3188.622194  \n",
       "4        2.977339            0.153687  2664.781353  \n",
       "5        3.485225            0.148529  2662.632765  \n",
       "6        3.382794            0.151242  2664.424899  \n",
       "7        3.491859            0.155374  2662.632765  \n",
       "8        2.944357            0.150583  2664.781353  "
      ]
     },
     "execution_count": 53,
     "metadata": {},
     "output_type": "execute_result"
    }
   ],
   "source": [
    "params = {\n",
    "    'penalty' : 'l2',\n",
    "    'max_iter' : 5000,\n",
    "    'random_state' : SEED\n",
    "}\n",
    "\n",
    "start_time = time()\n",
    "\n",
    "sgd_reg = make_pipeline(preprocessor, SGDRegressor(**params))\n",
    "sgd_reg.fit(X_train, y_train)\n",
    "end_fit_time = time()\n",
    "\n",
    "predict_sgd_reg = sgd_reg.predict(X_valid)\n",
    "end_predict_time = time()\n",
    "\n",
    "rmse_sgd_reg = mean_squared_error(y_valid, predict_sgd_reg, squared=False)\n",
    "\n",
    "append_result('SGD (5)', params, end_fit_time - start_time, \n",
    "              end_predict_time - end_fit_time, rmse_sgd_reg, results)"
   ]
  },
  {
   "cell_type": "code",
   "execution_count": 54,
   "metadata": {},
   "outputs": [
    {
     "data": {
      "text/html": [
       "<div>\n",
       "<style scoped>\n",
       "    .dataframe tbody tr th:only-of-type {\n",
       "        vertical-align: middle;\n",
       "    }\n",
       "\n",
       "    .dataframe tbody tr th {\n",
       "        vertical-align: top;\n",
       "    }\n",
       "\n",
       "    .dataframe thead th {\n",
       "        text-align: right;\n",
       "    }\n",
       "</style>\n",
       "<table border=\"1\" class=\"dataframe\">\n",
       "  <thead>\n",
       "    <tr style=\"text-align: right;\">\n",
       "      <th></th>\n",
       "      <th>Модель</th>\n",
       "      <th>Параметры модели</th>\n",
       "      <th>Время обучения</th>\n",
       "      <th>Время предсказания</th>\n",
       "      <th>RMSE модели</th>\n",
       "    </tr>\n",
       "  </thead>\n",
       "  <tbody>\n",
       "    <tr>\n",
       "      <th>0</th>\n",
       "      <td>LR</td>\n",
       "      <td>NaN</td>\n",
       "      <td>19.878958</td>\n",
       "      <td>0.272924</td>\n",
       "      <td>2656.091472</td>\n",
       "    </tr>\n",
       "    <tr>\n",
       "      <th>1</th>\n",
       "      <td>Lasso</td>\n",
       "      <td>NaN</td>\n",
       "      <td>13.410662</td>\n",
       "      <td>0.267439</td>\n",
       "      <td>2686.119527</td>\n",
       "    </tr>\n",
       "    <tr>\n",
       "      <th>2</th>\n",
       "      <td>Ridge</td>\n",
       "      <td>NaN</td>\n",
       "      <td>0.438302</td>\n",
       "      <td>0.149393</td>\n",
       "      <td>2656.704784</td>\n",
       "    </tr>\n",
       "    <tr>\n",
       "      <th>3</th>\n",
       "      <td>ElasticNet</td>\n",
       "      <td>NaN</td>\n",
       "      <td>1.019961</td>\n",
       "      <td>0.266573</td>\n",
       "      <td>3188.622194</td>\n",
       "    </tr>\n",
       "    <tr>\n",
       "      <th>4</th>\n",
       "      <td>SGD (1)</td>\n",
       "      <td>{'penalty': 'l2', 'max_iter': 1000, 'random_state': 17}</td>\n",
       "      <td>2.977339</td>\n",
       "      <td>0.153687</td>\n",
       "      <td>2664.781353</td>\n",
       "    </tr>\n",
       "    <tr>\n",
       "      <th>5</th>\n",
       "      <td>SGD (2)</td>\n",
       "      <td>{'penalty': 'l1', 'max_iter': 1000, 'random_state': 17}</td>\n",
       "      <td>3.485225</td>\n",
       "      <td>0.148529</td>\n",
       "      <td>2662.632765</td>\n",
       "    </tr>\n",
       "    <tr>\n",
       "      <th>6</th>\n",
       "      <td>SGD (3)</td>\n",
       "      <td>{'penalty': 'elasticnet', 'max_iter': 1000, 'random_state': 17}</td>\n",
       "      <td>3.382794</td>\n",
       "      <td>0.151242</td>\n",
       "      <td>2664.424899</td>\n",
       "    </tr>\n",
       "    <tr>\n",
       "      <th>7</th>\n",
       "      <td>SGD (4)</td>\n",
       "      <td>{'penalty': 'l1', 'max_iter': 5000, 'random_state': 17}</td>\n",
       "      <td>3.491859</td>\n",
       "      <td>0.155374</td>\n",
       "      <td>2662.632765</td>\n",
       "    </tr>\n",
       "    <tr>\n",
       "      <th>8</th>\n",
       "      <td>SGD (5)</td>\n",
       "      <td>{'penalty': 'l2', 'max_iter': 5000, 'random_state': 17}</td>\n",
       "      <td>2.944357</td>\n",
       "      <td>0.150583</td>\n",
       "      <td>2664.781353</td>\n",
       "    </tr>\n",
       "    <tr>\n",
       "      <th>9</th>\n",
       "      <td>SGD (6)</td>\n",
       "      <td>{'penalty': 'elasticnet', 'max_iter': 5000, 'random_state': 17}</td>\n",
       "      <td>3.321900</td>\n",
       "      <td>0.144836</td>\n",
       "      <td>2664.424899</td>\n",
       "    </tr>\n",
       "  </tbody>\n",
       "</table>\n",
       "</div>"
      ],
      "text/plain": [
       "       Модель  \\\n",
       "0          LR   \n",
       "1       Lasso   \n",
       "2       Ridge   \n",
       "3  ElasticNet   \n",
       "4     SGD (1)   \n",
       "5     SGD (2)   \n",
       "6     SGD (3)   \n",
       "7     SGD (4)   \n",
       "8     SGD (5)   \n",
       "9     SGD (6)   \n",
       "\n",
       "                                                  Параметры модели  \\\n",
       "0                                                              NaN   \n",
       "1                                                              NaN   \n",
       "2                                                              NaN   \n",
       "3                                                              NaN   \n",
       "4          {'penalty': 'l2', 'max_iter': 1000, 'random_state': 17}   \n",
       "5          {'penalty': 'l1', 'max_iter': 1000, 'random_state': 17}   \n",
       "6  {'penalty': 'elasticnet', 'max_iter': 1000, 'random_state': 17}   \n",
       "7          {'penalty': 'l1', 'max_iter': 5000, 'random_state': 17}   \n",
       "8          {'penalty': 'l2', 'max_iter': 5000, 'random_state': 17}   \n",
       "9  {'penalty': 'elasticnet', 'max_iter': 5000, 'random_state': 17}   \n",
       "\n",
       "   Время обучения  Время предсказания  RMSE модели  \n",
       "0       19.878958            0.272924  2656.091472  \n",
       "1       13.410662            0.267439  2686.119527  \n",
       "2        0.438302            0.149393  2656.704784  \n",
       "3        1.019961            0.266573  3188.622194  \n",
       "4        2.977339            0.153687  2664.781353  \n",
       "5        3.485225            0.148529  2662.632765  \n",
       "6        3.382794            0.151242  2664.424899  \n",
       "7        3.491859            0.155374  2662.632765  \n",
       "8        2.944357            0.150583  2664.781353  \n",
       "9        3.321900            0.144836  2664.424899  "
      ]
     },
     "execution_count": 54,
     "metadata": {},
     "output_type": "execute_result"
    }
   ],
   "source": [
    "params = {\n",
    "    'penalty' : 'elasticnet',\n",
    "    'max_iter' : 5000,\n",
    "    'random_state' : SEED\n",
    "}\n",
    "\n",
    "start_time = time()\n",
    "\n",
    "sgd_reg = make_pipeline(preprocessor, SGDRegressor(**params))\n",
    "sgd_reg.fit(X_train, y_train)\n",
    "end_fit_time = time()\n",
    "\n",
    "predict_sgd_reg = sgd_reg.predict(X_valid)\n",
    "end_predict_time = time()\n",
    "\n",
    "rmse_sgd_reg = mean_squared_error(y_valid, predict_sgd_reg, squared=False)\n",
    "\n",
    "append_result('SGD (6)', params, end_fit_time - start_time, \n",
    "              end_predict_time - end_fit_time, rmse_sgd_reg, results)"
   ]
  },
  {
   "cell_type": "markdown",
   "metadata": {},
   "source": [
    "### Случайный лес"
   ]
  },
  {
   "cell_type": "code",
   "execution_count": 55,
   "metadata": {},
   "outputs": [],
   "source": [
    "cat_pipe_rf = make_pipeline(\n",
    "    OrdinalEncoder(handle_unknown='use_encoded_value', unknown_value=999),\n",
    ")\n",
    "\n",
    "preprocessor_rf = make_column_transformer(\n",
    "    (cat_pipe_rf, selector(dtype_include=\"category\"))\n",
    ")"
   ]
  },
  {
   "cell_type": "code",
   "execution_count": 56,
   "metadata": {},
   "outputs": [
    {
     "data": {
      "text/html": [
       "<div>\n",
       "<style scoped>\n",
       "    .dataframe tbody tr th:only-of-type {\n",
       "        vertical-align: middle;\n",
       "    }\n",
       "\n",
       "    .dataframe tbody tr th {\n",
       "        vertical-align: top;\n",
       "    }\n",
       "\n",
       "    .dataframe thead th {\n",
       "        text-align: right;\n",
       "    }\n",
       "</style>\n",
       "<table border=\"1\" class=\"dataframe\">\n",
       "  <thead>\n",
       "    <tr style=\"text-align: right;\">\n",
       "      <th></th>\n",
       "      <th>Модель</th>\n",
       "      <th>Параметры модели</th>\n",
       "      <th>Время обучения</th>\n",
       "      <th>Время предсказания</th>\n",
       "      <th>RMSE модели</th>\n",
       "    </tr>\n",
       "  </thead>\n",
       "  <tbody>\n",
       "    <tr>\n",
       "      <th>0</th>\n",
       "      <td>LR</td>\n",
       "      <td>NaN</td>\n",
       "      <td>19.878958</td>\n",
       "      <td>0.272924</td>\n",
       "      <td>2656.091472</td>\n",
       "    </tr>\n",
       "    <tr>\n",
       "      <th>1</th>\n",
       "      <td>Lasso</td>\n",
       "      <td>NaN</td>\n",
       "      <td>13.410662</td>\n",
       "      <td>0.267439</td>\n",
       "      <td>2686.119527</td>\n",
       "    </tr>\n",
       "    <tr>\n",
       "      <th>2</th>\n",
       "      <td>Ridge</td>\n",
       "      <td>NaN</td>\n",
       "      <td>0.438302</td>\n",
       "      <td>0.149393</td>\n",
       "      <td>2656.704784</td>\n",
       "    </tr>\n",
       "    <tr>\n",
       "      <th>3</th>\n",
       "      <td>ElasticNet</td>\n",
       "      <td>NaN</td>\n",
       "      <td>1.019961</td>\n",
       "      <td>0.266573</td>\n",
       "      <td>3188.622194</td>\n",
       "    </tr>\n",
       "    <tr>\n",
       "      <th>4</th>\n",
       "      <td>SGD (1)</td>\n",
       "      <td>{'penalty': 'l2', 'max_iter': 1000, 'random_state': 17}</td>\n",
       "      <td>2.977339</td>\n",
       "      <td>0.153687</td>\n",
       "      <td>2664.781353</td>\n",
       "    </tr>\n",
       "    <tr>\n",
       "      <th>5</th>\n",
       "      <td>SGD (2)</td>\n",
       "      <td>{'penalty': 'l1', 'max_iter': 1000, 'random_state': 17}</td>\n",
       "      <td>3.485225</td>\n",
       "      <td>0.148529</td>\n",
       "      <td>2662.632765</td>\n",
       "    </tr>\n",
       "    <tr>\n",
       "      <th>6</th>\n",
       "      <td>SGD (3)</td>\n",
       "      <td>{'penalty': 'elasticnet', 'max_iter': 1000, 'random_state': 17}</td>\n",
       "      <td>3.382794</td>\n",
       "      <td>0.151242</td>\n",
       "      <td>2664.424899</td>\n",
       "    </tr>\n",
       "    <tr>\n",
       "      <th>7</th>\n",
       "      <td>SGD (4)</td>\n",
       "      <td>{'penalty': 'l1', 'max_iter': 5000, 'random_state': 17}</td>\n",
       "      <td>3.491859</td>\n",
       "      <td>0.155374</td>\n",
       "      <td>2662.632765</td>\n",
       "    </tr>\n",
       "    <tr>\n",
       "      <th>8</th>\n",
       "      <td>SGD (5)</td>\n",
       "      <td>{'penalty': 'l2', 'max_iter': 5000, 'random_state': 17}</td>\n",
       "      <td>2.944357</td>\n",
       "      <td>0.150583</td>\n",
       "      <td>2664.781353</td>\n",
       "    </tr>\n",
       "    <tr>\n",
       "      <th>9</th>\n",
       "      <td>SGD (6)</td>\n",
       "      <td>{'penalty': 'elasticnet', 'max_iter': 5000, 'random_state': 17}</td>\n",
       "      <td>3.321900</td>\n",
       "      <td>0.144836</td>\n",
       "      <td>2664.424899</td>\n",
       "    </tr>\n",
       "    <tr>\n",
       "      <th>10</th>\n",
       "      <td>RF</td>\n",
       "      <td>NaN</td>\n",
       "      <td>15.649393</td>\n",
       "      <td>2.426073</td>\n",
       "      <td>3519.871099</td>\n",
       "    </tr>\n",
       "  </tbody>\n",
       "</table>\n",
       "</div>"
      ],
      "text/plain": [
       "        Модель  \\\n",
       "0           LR   \n",
       "1        Lasso   \n",
       "2        Ridge   \n",
       "3   ElasticNet   \n",
       "4      SGD (1)   \n",
       "5      SGD (2)   \n",
       "6      SGD (3)   \n",
       "7      SGD (4)   \n",
       "8      SGD (5)   \n",
       "9      SGD (6)   \n",
       "10          RF   \n",
       "\n",
       "                                                   Параметры модели  \\\n",
       "0                                                               NaN   \n",
       "1                                                               NaN   \n",
       "2                                                               NaN   \n",
       "3                                                               NaN   \n",
       "4           {'penalty': 'l2', 'max_iter': 1000, 'random_state': 17}   \n",
       "5           {'penalty': 'l1', 'max_iter': 1000, 'random_state': 17}   \n",
       "6   {'penalty': 'elasticnet', 'max_iter': 1000, 'random_state': 17}   \n",
       "7           {'penalty': 'l1', 'max_iter': 5000, 'random_state': 17}   \n",
       "8           {'penalty': 'l2', 'max_iter': 5000, 'random_state': 17}   \n",
       "9   {'penalty': 'elasticnet', 'max_iter': 5000, 'random_state': 17}   \n",
       "10                                                              NaN   \n",
       "\n",
       "    Время обучения  Время предсказания  RMSE модели  \n",
       "0        19.878958            0.272924  2656.091472  \n",
       "1        13.410662            0.267439  2686.119527  \n",
       "2         0.438302            0.149393  2656.704784  \n",
       "3         1.019961            0.266573  3188.622194  \n",
       "4         2.977339            0.153687  2664.781353  \n",
       "5         3.485225            0.148529  2662.632765  \n",
       "6         3.382794            0.151242  2664.424899  \n",
       "7         3.491859            0.155374  2662.632765  \n",
       "8         2.944357            0.150583  2664.781353  \n",
       "9         3.321900            0.144836  2664.424899  \n",
       "10       15.649393            2.426073  3519.871099  "
      ]
     },
     "execution_count": 56,
     "metadata": {},
     "output_type": "execute_result"
    }
   ],
   "source": [
    "start_time = time()\n",
    "\n",
    "rf_reg = make_pipeline(preprocessor_rf, RandomForestRegressor(random_state=SEED))\n",
    "rf_reg.fit(X_train, y_train)\n",
    "end_fit_time = time()\n",
    "\n",
    "predict_rf_reg = rf_reg.predict(X_valid)\n",
    "end_predict_time = time()\n",
    "\n",
    "rmse_rf_reg = mean_squared_error(y_valid, predict_rf_reg, squared=False)\n",
    "\n",
    "append_result('RF', np.nan, end_fit_time - start_time, \n",
    "              end_predict_time - end_fit_time, rmse_rf_reg, results)"
   ]
  },
  {
   "cell_type": "code",
   "execution_count": 57,
   "metadata": {},
   "outputs": [],
   "source": [
    "results_lin_rf = pd.DataFrame(results)"
   ]
  },
  {
   "cell_type": "code",
   "execution_count": 58,
   "metadata": {},
   "outputs": [],
   "source": [
    "results = []"
   ]
  },
  {
   "cell_type": "markdown",
   "metadata": {},
   "source": [
    "### CatBoost"
   ]
  },
  {
   "cell_type": "code",
   "execution_count": 59,
   "metadata": {},
   "outputs": [],
   "source": [
    "for iteration in range(10, 101, 20):\n",
    "    \n",
    "    for depth in range(3, 6):\n",
    "        \n",
    "        params = {\n",
    "            'random_state' : SEED,\n",
    "            'depth' : depth,\n",
    "            'iterations' : iteration,\n",
    "            'verbose' : False,\n",
    "            'loss_function' : 'RMSE',\n",
    "            'cat_features' : categorial_features\n",
    "        }\n",
    "        \n",
    "        cb_reg = CatBoostRegressor(**params)\n",
    "        \n",
    "        start_time = time()\n",
    "        cb_reg.fit(X_train, y_train)\n",
    "        end_fit_time = time()\n",
    "        \n",
    "        predict_cb_reg = cb_reg.predict(X_valid)\n",
    "        end_predict_time = time()\n",
    "        \n",
    "        rmse_cb_reg = mean_squared_error(y_valid, predict_cb_reg, squared=False)\n",
    "        \n",
    "        append_result('CatBoost', params, end_fit_time - start_time,\n",
    "                      end_predict_time - end_fit_time, rmse_cb_reg, results, False)\n",
    "        \n",
    "results_cat_boost = pd.DataFrame(results)"
   ]
  },
  {
   "cell_type": "code",
   "execution_count": 60,
   "metadata": {},
   "outputs": [
    {
     "data": {
      "text/html": [
       "<div>\n",
       "<style scoped>\n",
       "    .dataframe tbody tr th:only-of-type {\n",
       "        vertical-align: middle;\n",
       "    }\n",
       "\n",
       "    .dataframe tbody tr th {\n",
       "        vertical-align: top;\n",
       "    }\n",
       "\n",
       "    .dataframe thead th {\n",
       "        text-align: right;\n",
       "    }\n",
       "</style>\n",
       "<table border=\"1\" class=\"dataframe\">\n",
       "  <thead>\n",
       "    <tr style=\"text-align: right;\">\n",
       "      <th></th>\n",
       "      <th>Модель</th>\n",
       "      <th>Параметры модели</th>\n",
       "      <th>Время обучения</th>\n",
       "      <th>Время предсказания</th>\n",
       "      <th>RMSE модели</th>\n",
       "    </tr>\n",
       "  </thead>\n",
       "  <tbody>\n",
       "    <tr>\n",
       "      <th>0</th>\n",
       "      <td>CatBoost</td>\n",
       "      <td>{'random_state': 17, 'depth': 3, 'iterations': 10, 'verbose':...</td>\n",
       "      <td>0.860601</td>\n",
       "      <td>0.060556</td>\n",
       "      <td>2197.106957</td>\n",
       "    </tr>\n",
       "    <tr>\n",
       "      <th>1</th>\n",
       "      <td>CatBoost</td>\n",
       "      <td>{'random_state': 17, 'depth': 4, 'iterations': 10, 'verbose':...</td>\n",
       "      <td>0.710126</td>\n",
       "      <td>0.059629</td>\n",
       "      <td>2090.451317</td>\n",
       "    </tr>\n",
       "    <tr>\n",
       "      <th>2</th>\n",
       "      <td>CatBoost</td>\n",
       "      <td>{'random_state': 17, 'depth': 5, 'iterations': 10, 'verbose':...</td>\n",
       "      <td>0.783773</td>\n",
       "      <td>0.060973</td>\n",
       "      <td>2026.656119</td>\n",
       "    </tr>\n",
       "    <tr>\n",
       "      <th>3</th>\n",
       "      <td>CatBoost</td>\n",
       "      <td>{'random_state': 17, 'depth': 3, 'iterations': 30, 'verbose':...</td>\n",
       "      <td>1.240919</td>\n",
       "      <td>0.062311</td>\n",
       "      <td>1976.258405</td>\n",
       "    </tr>\n",
       "    <tr>\n",
       "      <th>4</th>\n",
       "      <td>CatBoost</td>\n",
       "      <td>{'random_state': 17, 'depth': 4, 'iterations': 30, 'verbose':...</td>\n",
       "      <td>1.479724</td>\n",
       "      <td>0.075582</td>\n",
       "      <td>1930.451079</td>\n",
       "    </tr>\n",
       "    <tr>\n",
       "      <th>5</th>\n",
       "      <td>CatBoost</td>\n",
       "      <td>{'random_state': 17, 'depth': 5, 'iterations': 30, 'verbose':...</td>\n",
       "      <td>1.859872</td>\n",
       "      <td>0.066733</td>\n",
       "      <td>1867.798499</td>\n",
       "    </tr>\n",
       "    <tr>\n",
       "      <th>6</th>\n",
       "      <td>CatBoost</td>\n",
       "      <td>{'random_state': 17, 'depth': 3, 'iterations': 50, 'verbose':...</td>\n",
       "      <td>1.892931</td>\n",
       "      <td>0.066822</td>\n",
       "      <td>1907.612784</td>\n",
       "    </tr>\n",
       "    <tr>\n",
       "      <th>7</th>\n",
       "      <td>CatBoost</td>\n",
       "      <td>{'random_state': 17, 'depth': 4, 'iterations': 50, 'verbose':...</td>\n",
       "      <td>2.175433</td>\n",
       "      <td>0.068137</td>\n",
       "      <td>1858.426388</td>\n",
       "    </tr>\n",
       "    <tr>\n",
       "      <th>8</th>\n",
       "      <td>CatBoost</td>\n",
       "      <td>{'random_state': 17, 'depth': 5, 'iterations': 50, 'verbose':...</td>\n",
       "      <td>2.596943</td>\n",
       "      <td>0.078984</td>\n",
       "      <td>1820.197781</td>\n",
       "    </tr>\n",
       "    <tr>\n",
       "      <th>9</th>\n",
       "      <td>CatBoost</td>\n",
       "      <td>{'random_state': 17, 'depth': 3, 'iterations': 70, 'verbose':...</td>\n",
       "      <td>2.646838</td>\n",
       "      <td>0.090229</td>\n",
       "      <td>1872.904452</td>\n",
       "    </tr>\n",
       "    <tr>\n",
       "      <th>10</th>\n",
       "      <td>CatBoost</td>\n",
       "      <td>{'random_state': 17, 'depth': 4, 'iterations': 70, 'verbose':...</td>\n",
       "      <td>2.909370</td>\n",
       "      <td>0.070514</td>\n",
       "      <td>1822.411951</td>\n",
       "    </tr>\n",
       "    <tr>\n",
       "      <th>11</th>\n",
       "      <td>CatBoost</td>\n",
       "      <td>{'random_state': 17, 'depth': 5, 'iterations': 70, 'verbose':...</td>\n",
       "      <td>3.511864</td>\n",
       "      <td>0.073661</td>\n",
       "      <td>1788.224024</td>\n",
       "    </tr>\n",
       "    <tr>\n",
       "      <th>12</th>\n",
       "      <td>CatBoost</td>\n",
       "      <td>{'random_state': 17, 'depth': 3, 'iterations': 90, 'verbose':...</td>\n",
       "      <td>3.673684</td>\n",
       "      <td>0.072311</td>\n",
       "      <td>1851.847995</td>\n",
       "    </tr>\n",
       "    <tr>\n",
       "      <th>13</th>\n",
       "      <td>CatBoost</td>\n",
       "      <td>{'random_state': 17, 'depth': 4, 'iterations': 90, 'verbose':...</td>\n",
       "      <td>3.776335</td>\n",
       "      <td>0.073584</td>\n",
       "      <td>1804.287451</td>\n",
       "    </tr>\n",
       "    <tr>\n",
       "      <th>14</th>\n",
       "      <td>CatBoost</td>\n",
       "      <td>{'random_state': 17, 'depth': 5, 'iterations': 90, 'verbose':...</td>\n",
       "      <td>4.697299</td>\n",
       "      <td>0.086711</td>\n",
       "      <td>1768.988516</td>\n",
       "    </tr>\n",
       "  </tbody>\n",
       "</table>\n",
       "</div>"
      ],
      "text/plain": [
       "      Модель  \\\n",
       "0   CatBoost   \n",
       "1   CatBoost   \n",
       "2   CatBoost   \n",
       "3   CatBoost   \n",
       "4   CatBoost   \n",
       "5   CatBoost   \n",
       "6   CatBoost   \n",
       "7   CatBoost   \n",
       "8   CatBoost   \n",
       "9   CatBoost   \n",
       "10  CatBoost   \n",
       "11  CatBoost   \n",
       "12  CatBoost   \n",
       "13  CatBoost   \n",
       "14  CatBoost   \n",
       "\n",
       "                                                    Параметры модели  \\\n",
       "0   {'random_state': 17, 'depth': 3, 'iterations': 10, 'verbose':...   \n",
       "1   {'random_state': 17, 'depth': 4, 'iterations': 10, 'verbose':...   \n",
       "2   {'random_state': 17, 'depth': 5, 'iterations': 10, 'verbose':...   \n",
       "3   {'random_state': 17, 'depth': 3, 'iterations': 30, 'verbose':...   \n",
       "4   {'random_state': 17, 'depth': 4, 'iterations': 30, 'verbose':...   \n",
       "5   {'random_state': 17, 'depth': 5, 'iterations': 30, 'verbose':...   \n",
       "6   {'random_state': 17, 'depth': 3, 'iterations': 50, 'verbose':...   \n",
       "7   {'random_state': 17, 'depth': 4, 'iterations': 50, 'verbose':...   \n",
       "8   {'random_state': 17, 'depth': 5, 'iterations': 50, 'verbose':...   \n",
       "9   {'random_state': 17, 'depth': 3, 'iterations': 70, 'verbose':...   \n",
       "10  {'random_state': 17, 'depth': 4, 'iterations': 70, 'verbose':...   \n",
       "11  {'random_state': 17, 'depth': 5, 'iterations': 70, 'verbose':...   \n",
       "12  {'random_state': 17, 'depth': 3, 'iterations': 90, 'verbose':...   \n",
       "13  {'random_state': 17, 'depth': 4, 'iterations': 90, 'verbose':...   \n",
       "14  {'random_state': 17, 'depth': 5, 'iterations': 90, 'verbose':...   \n",
       "\n",
       "    Время обучения  Время предсказания  RMSE модели  \n",
       "0         0.860601            0.060556  2197.106957  \n",
       "1         0.710126            0.059629  2090.451317  \n",
       "2         0.783773            0.060973  2026.656119  \n",
       "3         1.240919            0.062311  1976.258405  \n",
       "4         1.479724            0.075582  1930.451079  \n",
       "5         1.859872            0.066733  1867.798499  \n",
       "6         1.892931            0.066822  1907.612784  \n",
       "7         2.175433            0.068137  1858.426388  \n",
       "8         2.596943            0.078984  1820.197781  \n",
       "9         2.646838            0.090229  1872.904452  \n",
       "10        2.909370            0.070514  1822.411951  \n",
       "11        3.511864            0.073661  1788.224024  \n",
       "12        3.673684            0.072311  1851.847995  \n",
       "13        3.776335            0.073584  1804.287451  \n",
       "14        4.697299            0.086711  1768.988516  "
      ]
     },
     "execution_count": 60,
     "metadata": {},
     "output_type": "execute_result"
    }
   ],
   "source": [
    "results_cat_boost"
   ]
  },
  {
   "cell_type": "code",
   "execution_count": 61,
   "metadata": {},
   "outputs": [],
   "source": [
    "results = []"
   ]
  },
  {
   "cell_type": "markdown",
   "metadata": {},
   "source": [
    "### LGBM"
   ]
  },
  {
   "cell_type": "code",
   "execution_count": 62,
   "metadata": {},
   "outputs": [],
   "source": [
    "for estimator in range(10, 101, 20):\n",
    "    \n",
    "    for depth in range(3, 6):\n",
    "        \n",
    "        params = {\n",
    "            'random_state' : SEED,\n",
    "            'max_depth' : depth,\n",
    "            'n_estimators' : estimator,\n",
    "            'metric' : 'rmse',\n",
    "            'categorical_feature' : categorial_features\n",
    "        }\n",
    "        \n",
    "        lgbm_reg = LGBMRegressor(**params)\n",
    "        \n",
    "        start_time = time()\n",
    "        lgbm_reg.fit(X_train, y_train)\n",
    "        end_fit_time = time()\n",
    "        \n",
    "        predict_lgbm_reg = lgbm_reg.predict(X_valid)\n",
    "        end_predict_time = time()\n",
    "        \n",
    "        rmse_lgbm_reg = mean_squared_error(y_valid, predict_lgbm_reg, squared=False)\n",
    "        \n",
    "        append_result('LGBM', params, end_fit_time - start_time,\n",
    "                      end_predict_time - end_fit_time, rmse_lgbm_reg, results, False)\n",
    "        \n",
    "results_lgbm_boost = pd.DataFrame(results)"
   ]
  },
  {
   "cell_type": "code",
   "execution_count": 63,
   "metadata": {},
   "outputs": [
    {
     "data": {
      "text/html": [
       "<div>\n",
       "<style scoped>\n",
       "    .dataframe tbody tr th:only-of-type {\n",
       "        vertical-align: middle;\n",
       "    }\n",
       "\n",
       "    .dataframe tbody tr th {\n",
       "        vertical-align: top;\n",
       "    }\n",
       "\n",
       "    .dataframe thead th {\n",
       "        text-align: right;\n",
       "    }\n",
       "</style>\n",
       "<table border=\"1\" class=\"dataframe\">\n",
       "  <thead>\n",
       "    <tr style=\"text-align: right;\">\n",
       "      <th></th>\n",
       "      <th>Модель</th>\n",
       "      <th>Параметры модели</th>\n",
       "      <th>Время обучения</th>\n",
       "      <th>Время предсказания</th>\n",
       "      <th>RMSE модели</th>\n",
       "    </tr>\n",
       "  </thead>\n",
       "  <tbody>\n",
       "    <tr>\n",
       "      <th>0</th>\n",
       "      <td>LGBM</td>\n",
       "      <td>{'random_state': 17, 'max_depth': 3, 'n_estimators': 10, 'met...</td>\n",
       "      <td>0.673998</td>\n",
       "      <td>0.190986</td>\n",
       "      <td>2951.039123</td>\n",
       "    </tr>\n",
       "    <tr>\n",
       "      <th>1</th>\n",
       "      <td>LGBM</td>\n",
       "      <td>{'random_state': 17, 'max_depth': 4, 'n_estimators': 10, 'met...</td>\n",
       "      <td>0.701165</td>\n",
       "      <td>0.100949</td>\n",
       "      <td>2732.555679</td>\n",
       "    </tr>\n",
       "    <tr>\n",
       "      <th>2</th>\n",
       "      <td>LGBM</td>\n",
       "      <td>{'random_state': 17, 'max_depth': 5, 'n_estimators': 10, 'met...</td>\n",
       "      <td>0.599305</td>\n",
       "      <td>0.103821</td>\n",
       "      <td>2596.765867</td>\n",
       "    </tr>\n",
       "    <tr>\n",
       "      <th>3</th>\n",
       "      <td>LGBM</td>\n",
       "      <td>{'random_state': 17, 'max_depth': 3, 'n_estimators': 30, 'met...</td>\n",
       "      <td>1.294506</td>\n",
       "      <td>0.200062</td>\n",
       "      <td>2134.219577</td>\n",
       "    </tr>\n",
       "    <tr>\n",
       "      <th>4</th>\n",
       "      <td>LGBM</td>\n",
       "      <td>{'random_state': 17, 'max_depth': 4, 'n_estimators': 30, 'met...</td>\n",
       "      <td>2.901085</td>\n",
       "      <td>0.201805</td>\n",
       "      <td>1965.142891</td>\n",
       "    </tr>\n",
       "    <tr>\n",
       "      <th>5</th>\n",
       "      <td>LGBM</td>\n",
       "      <td>{'random_state': 17, 'max_depth': 5, 'n_estimators': 30, 'met...</td>\n",
       "      <td>1.790770</td>\n",
       "      <td>0.297044</td>\n",
       "      <td>1860.964202</td>\n",
       "    </tr>\n",
       "    <tr>\n",
       "      <th>6</th>\n",
       "      <td>LGBM</td>\n",
       "      <td>{'random_state': 17, 'max_depth': 3, 'n_estimators': 50, 'met...</td>\n",
       "      <td>1.003816</td>\n",
       "      <td>0.299387</td>\n",
       "      <td>1951.250788</td>\n",
       "    </tr>\n",
       "    <tr>\n",
       "      <th>7</th>\n",
       "      <td>LGBM</td>\n",
       "      <td>{'random_state': 17, 'max_depth': 4, 'n_estimators': 50, 'met...</td>\n",
       "      <td>1.398649</td>\n",
       "      <td>0.398070</td>\n",
       "      <td>1841.207817</td>\n",
       "    </tr>\n",
       "    <tr>\n",
       "      <th>8</th>\n",
       "      <td>LGBM</td>\n",
       "      <td>{'random_state': 17, 'max_depth': 5, 'n_estimators': 50, 'met...</td>\n",
       "      <td>1.595349</td>\n",
       "      <td>0.410369</td>\n",
       "      <td>1764.229567</td>\n",
       "    </tr>\n",
       "    <tr>\n",
       "      <th>9</th>\n",
       "      <td>LGBM</td>\n",
       "      <td>{'random_state': 17, 'max_depth': 3, 'n_estimators': 70, 'met...</td>\n",
       "      <td>1.392196</td>\n",
       "      <td>0.404330</td>\n",
       "      <td>1882.799589</td>\n",
       "    </tr>\n",
       "    <tr>\n",
       "      <th>10</th>\n",
       "      <td>LGBM</td>\n",
       "      <td>{'random_state': 17, 'max_depth': 4, 'n_estimators': 70, 'met...</td>\n",
       "      <td>2.094659</td>\n",
       "      <td>0.505133</td>\n",
       "      <td>1796.494748</td>\n",
       "    </tr>\n",
       "    <tr>\n",
       "      <th>11</th>\n",
       "      <td>LGBM</td>\n",
       "      <td>{'random_state': 17, 'max_depth': 5, 'n_estimators': 70, 'met...</td>\n",
       "      <td>2.793578</td>\n",
       "      <td>0.605273</td>\n",
       "      <td>1734.481529</td>\n",
       "    </tr>\n",
       "    <tr>\n",
       "      <th>12</th>\n",
       "      <td>LGBM</td>\n",
       "      <td>{'random_state': 17, 'max_depth': 3, 'n_estimators': 90, 'met...</td>\n",
       "      <td>1.588983</td>\n",
       "      <td>0.508437</td>\n",
       "      <td>1846.605891</td>\n",
       "    </tr>\n",
       "    <tr>\n",
       "      <th>13</th>\n",
       "      <td>LGBM</td>\n",
       "      <td>{'random_state': 17, 'max_depth': 4, 'n_estimators': 90, 'met...</td>\n",
       "      <td>2.905947</td>\n",
       "      <td>0.684617</td>\n",
       "      <td>1772.005122</td>\n",
       "    </tr>\n",
       "    <tr>\n",
       "      <th>14</th>\n",
       "      <td>LGBM</td>\n",
       "      <td>{'random_state': 17, 'max_depth': 5, 'n_estimators': 90, 'met...</td>\n",
       "      <td>2.612088</td>\n",
       "      <td>0.799536</td>\n",
       "      <td>1720.768650</td>\n",
       "    </tr>\n",
       "  </tbody>\n",
       "</table>\n",
       "</div>"
      ],
      "text/plain": [
       "   Модель                                                  Параметры модели  \\\n",
       "0    LGBM  {'random_state': 17, 'max_depth': 3, 'n_estimators': 10, 'met...   \n",
       "1    LGBM  {'random_state': 17, 'max_depth': 4, 'n_estimators': 10, 'met...   \n",
       "2    LGBM  {'random_state': 17, 'max_depth': 5, 'n_estimators': 10, 'met...   \n",
       "3    LGBM  {'random_state': 17, 'max_depth': 3, 'n_estimators': 30, 'met...   \n",
       "4    LGBM  {'random_state': 17, 'max_depth': 4, 'n_estimators': 30, 'met...   \n",
       "5    LGBM  {'random_state': 17, 'max_depth': 5, 'n_estimators': 30, 'met...   \n",
       "6    LGBM  {'random_state': 17, 'max_depth': 3, 'n_estimators': 50, 'met...   \n",
       "7    LGBM  {'random_state': 17, 'max_depth': 4, 'n_estimators': 50, 'met...   \n",
       "8    LGBM  {'random_state': 17, 'max_depth': 5, 'n_estimators': 50, 'met...   \n",
       "9    LGBM  {'random_state': 17, 'max_depth': 3, 'n_estimators': 70, 'met...   \n",
       "10   LGBM  {'random_state': 17, 'max_depth': 4, 'n_estimators': 70, 'met...   \n",
       "11   LGBM  {'random_state': 17, 'max_depth': 5, 'n_estimators': 70, 'met...   \n",
       "12   LGBM  {'random_state': 17, 'max_depth': 3, 'n_estimators': 90, 'met...   \n",
       "13   LGBM  {'random_state': 17, 'max_depth': 4, 'n_estimators': 90, 'met...   \n",
       "14   LGBM  {'random_state': 17, 'max_depth': 5, 'n_estimators': 90, 'met...   \n",
       "\n",
       "    Время обучения  Время предсказания  RMSE модели  \n",
       "0         0.673998            0.190986  2951.039123  \n",
       "1         0.701165            0.100949  2732.555679  \n",
       "2         0.599305            0.103821  2596.765867  \n",
       "3         1.294506            0.200062  2134.219577  \n",
       "4         2.901085            0.201805  1965.142891  \n",
       "5         1.790770            0.297044  1860.964202  \n",
       "6         1.003816            0.299387  1951.250788  \n",
       "7         1.398649            0.398070  1841.207817  \n",
       "8         1.595349            0.410369  1764.229567  \n",
       "9         1.392196            0.404330  1882.799589  \n",
       "10        2.094659            0.505133  1796.494748  \n",
       "11        2.793578            0.605273  1734.481529  \n",
       "12        1.588983            0.508437  1846.605891  \n",
       "13        2.905947            0.684617  1772.005122  \n",
       "14        2.612088            0.799536  1720.768650  "
      ]
     },
     "execution_count": 63,
     "metadata": {},
     "output_type": "execute_result"
    }
   ],
   "source": [
    "results_lgbm_boost"
   ]
  },
  {
   "cell_type": "code",
   "execution_count": 64,
   "metadata": {},
   "outputs": [],
   "source": [
    "del results"
   ]
  },
  {
   "cell_type": "markdown",
   "metadata": {},
   "source": [
    "## Анализ моделей"
   ]
  },
  {
   "cell_type": "markdown",
   "metadata": {},
   "source": [
    "Исходя из полученных результатов можно сказать следующее:\n",
    "\n",
    "1. Лучшей из линейных моделей оказалась Ridge регрессия с результатами:\n",
    "* Время обучения - 0.472689 с.\n",
    "* Время предсказания - 0.153370 с.\n",
    "* RMSE - 2656.704784 евро.\n",
    "\n",
    "2. Случайный лес оказался самым плохим алгоритмом с результатом:\n",
    "* Время обучения - 15.967955 с.\n",
    "* Время предсказания - 2.501721 с.\n",
    "* RMSE - 3519.871099 евро.\n",
    "\n",
    "3. Бустинги показали себя намного лучше, а именно:\n",
    "\n",
    "    1. Лучшая модель CatBoost (по метрике RMSE):\n",
    "        * Время обучения - 4.780523 с.\n",
    "        * Время предсказания - 0.074558 с.\n",
    "        * RMSE - 1768.988516 евро.\n",
    "    2. Лучшая модель LGBM (по метрике RMSE):\n",
    "        * Время обучения - 2.203731 с.\n",
    "        * Время предсказания - 0.608196 с.\n",
    "        * RMSE - 1734.481529 евро.\n",
    "        \n",
    "Важно учесть, что нам важна не только метрика RMSE, а так же скорость обучения и предсказания. Таким образом, предлагаю выбрать модель CatBoost с параметрами `depth=5`, `iterations=30` и результатами:\n",
    "* Время обучения - 1.727666 с.\n",
    "* Время предсказания - 0.071033 с.\n",
    "* RMSE - 1867.798499 евро.\n",
    "\n",
    "Проверим, как данная модель работает на тестовой выборке."
   ]
  },
  {
   "cell_type": "code",
   "execution_count": 65,
   "metadata": {},
   "outputs": [
    {
     "name": "stdout",
     "output_type": "stream",
     "text": [
      "Время обучения 1.7477822303771973 с\n",
      "Время предсказания 0.06838274002075195 с\n",
      "RMSE модели 1863.252225423828\n"
     ]
    }
   ],
   "source": [
    "final_model = CatBoostRegressor(depth=5, iterations=30, random_state=SEED,\n",
    "                                loss_function='RMSE', verbose=False,\n",
    "                                cat_features=categorial_features)\n",
    "\n",
    "start_time = time()\n",
    "final_model.fit(X_train, y_train)\n",
    "end_fit_time = time()\n",
    "\n",
    "predict_final_model = final_model.predict(X_test)\n",
    "end_predict_time = time()\n",
    "\n",
    "rmse_final_model = mean_squared_error(y_test, predict_final_model, squared=False)\n",
    "\n",
    "print('Время обучения', end_fit_time - start_time, 'с')\n",
    "print('Время предсказания', end_predict_time - end_fit_time, 'с')\n",
    "print('RMSE модели', rmse_final_model)"
   ]
  },
  {
   "cell_type": "markdown",
   "metadata": {},
   "source": [
    "Сравним полученный RMSE со случаной моделью."
   ]
  },
  {
   "cell_type": "code",
   "execution_count": 66,
   "metadata": {
    "scrolled": true
   },
   "outputs": [
    {
     "name": "stdout",
     "output_type": "stream",
     "text": [
      "RMSE случайной модели 4514.275301955842\n"
     ]
    }
   ],
   "source": [
    "dummy_regressor = DummyRegressor(strategy='mean')\n",
    "\n",
    "dummy_regressor.fit(X_train, y_train)\n",
    "\n",
    "predict_dummy = dummy_regressor.predict(X_test)\n",
    "\n",
    "rmse_dummy = mean_squared_error(y_test, predict_dummy, squared=False)\n",
    "\n",
    "print('RMSE случайной модели', rmse_dummy)"
   ]
  },
  {
   "cell_type": "markdown",
   "metadata": {},
   "source": [
    "## Вывод\n",
    "\n",
    "В данном проекте была задача по предсказанию стоимости автомобиля по историческим данным.\n",
    "\n",
    "В ходе проекта был произведен осмотр данных, а так же их предобработка: заполнены пропуски, удалены дубликаты и аномалии.\n",
    "\n",
    "Предсказания цен производились с помощью трех семейств моделей:\n",
    "1. Линейные модели;\n",
    "2. Случайный лес;\n",
    "3. Бустинги.\n",
    "\n",
    "Лучше всего себя показали бустинги, как по качеству, так и по скорости обучения и предсказаний.\n",
    "\n",
    "LGBM и CatBoost конкурентные виды бустингов, но CatBoost работает значительно быстрее при малом количестве деревьев. При увеличении числа деревьев результаты становятся сопостовимыми.\n",
    "\n",
    "Исходя из анализа моделей была выбрана модель CatBoostRegressor с параметрами `depth=5`, `iterations=30`.\n",
    "\n",
    "Результат данной модели на валидации:\n",
    "* Время обучения - 1.727666 с.\n",
    "* Время предсказания - 0.071033 с.\n",
    "* RMSE - 1867.798499 евро.\n",
    "\n",
    "Результат данной модели на тестовой выборке:\n",
    "* Время обучения - 1.8717224 с.\n",
    "* Время предсказания - 0.0761792 с.\n",
    "* RMSE - 1863.252225 евро.\n",
    "\n",
    "Модель показала себя стабильной и не переобучилась.\n",
    "\n",
    "Также сравнили данную модель со случайной. Метрика RMSE у случайной модели равна 4514.2753. Наша модель обладает значительно более сильной предсказательной способностью.\n",
    "\n"
   ]
  },
  {
   "cell_type": "code",
   "execution_count": null,
   "metadata": {},
   "outputs": [],
   "source": []
  }
 ],
 "metadata": {
  "ExecuteTimeLog": [
   {
    "duration": 2343,
    "start_time": "2022-05-17T22:00:20.289Z"
   },
   {
    "duration": 1296,
    "start_time": "2022-05-17T22:00:22.634Z"
   },
   {
    "duration": 32,
    "start_time": "2022-05-17T22:00:23.932Z"
   },
   {
    "duration": 4,
    "start_time": "2022-05-17T22:00:23.967Z"
   },
   {
    "duration": 471,
    "start_time": "2022-05-17T22:00:23.974Z"
   },
   {
    "duration": 570,
    "start_time": "2022-05-17T22:00:24.447Z"
   },
   {
    "duration": 130,
    "start_time": "2022-05-17T22:00:25.019Z"
   },
   {
    "duration": 3,
    "start_time": "2022-05-17T22:00:25.150Z"
   },
   {
    "duration": 53,
    "start_time": "2022-05-17T22:00:25.155Z"
   },
   {
    "duration": 3,
    "start_time": "2022-05-17T22:00:25.211Z"
   },
   {
    "duration": 13,
    "start_time": "2022-05-17T22:00:25.215Z"
   },
   {
    "duration": 12,
    "start_time": "2022-05-17T22:00:25.230Z"
   },
   {
    "duration": 321,
    "start_time": "2022-05-17T22:00:25.244Z"
   },
   {
    "duration": 122,
    "start_time": "2022-05-17T22:00:25.567Z"
   },
   {
    "duration": 42,
    "start_time": "2022-05-17T22:00:25.691Z"
   },
   {
    "duration": 3,
    "start_time": "2022-05-17T22:00:25.734Z"
   },
   {
    "duration": 90,
    "start_time": "2022-05-17T22:00:25.738Z"
   },
   {
    "duration": 18,
    "start_time": "2022-05-17T22:00:25.830Z"
   },
   {
    "duration": 61,
    "start_time": "2022-05-17T22:00:25.850Z"
   },
   {
    "duration": 830,
    "start_time": "2022-05-17T22:00:25.927Z"
   },
   {
    "duration": 13265,
    "start_time": "2022-05-17T22:00:26.759Z"
   },
   {
    "duration": 56,
    "start_time": "2022-05-17T22:00:40.027Z"
   },
   {
    "duration": 23,
    "start_time": "2022-05-17T22:00:40.085Z"
   },
   {
    "duration": 163,
    "start_time": "2022-05-17T22:00:40.110Z"
   },
   {
    "duration": 5,
    "start_time": "2022-05-17T22:00:40.275Z"
   },
   {
    "duration": 69,
    "start_time": "2022-05-17T22:00:40.281Z"
   },
   {
    "duration": 1818,
    "start_time": "2022-05-17T22:00:40.352Z"
   },
   {
    "duration": 372,
    "start_time": "2022-05-17T22:00:42.173Z"
   },
   {
    "duration": 181,
    "start_time": "2022-05-17T22:00:42.546Z"
   },
   {
    "duration": 22,
    "start_time": "2022-05-17T22:00:42.729Z"
   },
   {
    "duration": 9,
    "start_time": "2022-05-17T22:00:42.753Z"
   },
   {
    "duration": 41,
    "start_time": "2022-05-17T22:00:42.764Z"
   },
   {
    "duration": 35,
    "start_time": "2022-05-17T22:00:42.807Z"
   },
   {
    "duration": 294,
    "start_time": "2022-05-17T22:00:42.843Z"
   },
   {
    "duration": 3,
    "start_time": "2022-05-17T22:00:43.139Z"
   },
   {
    "duration": 222,
    "start_time": "2022-05-17T22:00:43.144Z"
   },
   {
    "duration": 393,
    "start_time": "2022-05-17T22:00:43.368Z"
   },
   {
    "duration": 172,
    "start_time": "2022-05-17T22:00:43.762Z"
   },
   {
    "duration": 23,
    "start_time": "2022-05-17T22:00:43.935Z"
   },
   {
    "duration": 3,
    "start_time": "2022-05-17T22:02:30.272Z"
   },
   {
    "duration": 6,
    "start_time": "2022-05-17T22:03:32.749Z"
   },
   {
    "duration": 6,
    "start_time": "2022-05-17T22:03:44.760Z"
   },
   {
    "duration": 3,
    "start_time": "2022-05-17T22:03:46.605Z"
   },
   {
    "duration": 7,
    "start_time": "2022-05-17T22:04:53.753Z"
   },
   {
    "duration": 362,
    "start_time": "2022-05-17T22:05:31.300Z"
   },
   {
    "duration": 24697,
    "start_time": "2022-05-17T22:06:40.264Z"
   },
   {
    "duration": 397,
    "start_time": "2022-05-17T22:07:16.502Z"
   },
   {
    "duration": 6,
    "start_time": "2022-05-17T22:12:40.178Z"
   },
   {
    "duration": 3,
    "start_time": "2022-05-17T22:13:38.094Z"
   },
   {
    "duration": 43,
    "start_time": "2022-05-17T22:14:25.075Z"
   },
   {
    "duration": 58,
    "start_time": "2022-05-17T22:14:31.623Z"
   },
   {
    "duration": 4,
    "start_time": "2022-05-17T22:15:00.718Z"
   },
   {
    "duration": 19914,
    "start_time": "2022-05-17T22:19:04.063Z"
   },
   {
    "duration": 19313,
    "start_time": "2022-05-17T22:19:35.870Z"
   },
   {
    "duration": 7,
    "start_time": "2022-05-17T22:21:50.894Z"
   },
   {
    "duration": 17650,
    "start_time": "2022-05-17T22:22:44.038Z"
   },
   {
    "duration": 34,
    "start_time": "2022-05-17T22:24:13.244Z"
   },
   {
    "duration": 20,
    "start_time": "2022-05-17T22:24:17.536Z"
   },
   {
    "duration": 14087,
    "start_time": "2022-05-17T22:25:09.092Z"
   },
   {
    "duration": 14257,
    "start_time": "2022-05-17T22:26:02.718Z"
   },
   {
    "duration": 5,
    "start_time": "2022-05-17T22:26:31.114Z"
   },
   {
    "duration": 6,
    "start_time": "2022-05-17T22:26:54.354Z"
   },
   {
    "duration": 6,
    "start_time": "2022-05-17T22:26:59.734Z"
   },
   {
    "duration": 11,
    "start_time": "2022-05-17T22:27:04.826Z"
   },
   {
    "duration": 13,
    "start_time": "2022-05-17T22:27:13.834Z"
   },
   {
    "duration": 14149,
    "start_time": "2022-05-17T22:28:06.337Z"
   },
   {
    "duration": 19884,
    "start_time": "2022-05-17T22:30:58.591Z"
   },
   {
    "duration": 579,
    "start_time": "2022-05-17T22:31:27.154Z"
   },
   {
    "duration": 584,
    "start_time": "2022-05-17T22:31:32.804Z"
   },
   {
    "duration": 13471,
    "start_time": "2022-05-17T22:31:36.505Z"
   },
   {
    "duration": 1501,
    "start_time": "2022-05-17T22:31:56.458Z"
   },
   {
    "duration": 16124,
    "start_time": "2022-05-17T22:33:14.440Z"
   },
   {
    "duration": 12528,
    "start_time": "2022-05-17T22:33:40.141Z"
   },
   {
    "duration": 22227,
    "start_time": "2022-05-17T22:33:59.544Z"
   },
   {
    "duration": 14415,
    "start_time": "2022-05-17T22:34:55.363Z"
   },
   {
    "duration": 1276,
    "start_time": "2022-05-17T22:38:20.455Z"
   },
   {
    "duration": 746,
    "start_time": "2022-05-17T22:38:21.733Z"
   },
   {
    "duration": 27,
    "start_time": "2022-05-17T22:38:22.481Z"
   },
   {
    "duration": 4,
    "start_time": "2022-05-17T22:38:22.510Z"
   },
   {
    "duration": 412,
    "start_time": "2022-05-17T22:38:22.527Z"
   },
   {
    "duration": 512,
    "start_time": "2022-05-17T22:38:22.940Z"
   },
   {
    "duration": 119,
    "start_time": "2022-05-17T22:38:23.454Z"
   },
   {
    "duration": 3,
    "start_time": "2022-05-17T22:38:23.575Z"
   },
   {
    "duration": 54,
    "start_time": "2022-05-17T22:38:23.579Z"
   },
   {
    "duration": 3,
    "start_time": "2022-05-17T22:38:23.636Z"
   },
   {
    "duration": 7,
    "start_time": "2022-05-17T22:38:23.640Z"
   },
   {
    "duration": 7,
    "start_time": "2022-05-17T22:38:23.648Z"
   },
   {
    "duration": 285,
    "start_time": "2022-05-17T22:38:23.656Z"
   },
   {
    "duration": 114,
    "start_time": "2022-05-17T22:38:23.942Z"
   },
   {
    "duration": 35,
    "start_time": "2022-05-17T22:38:24.058Z"
   },
   {
    "duration": 3,
    "start_time": "2022-05-17T22:38:24.095Z"
   },
   {
    "duration": 82,
    "start_time": "2022-05-17T22:38:24.099Z"
   },
   {
    "duration": 17,
    "start_time": "2022-05-17T22:38:24.183Z"
   },
   {
    "duration": 69,
    "start_time": "2022-05-17T22:38:24.201Z"
   },
   {
    "duration": 688,
    "start_time": "2022-05-17T22:38:24.272Z"
   },
   {
    "duration": 12220,
    "start_time": "2022-05-17T22:38:24.962Z"
   },
   {
    "duration": 61,
    "start_time": "2022-05-17T22:38:37.183Z"
   },
   {
    "duration": 23,
    "start_time": "2022-05-17T22:38:37.246Z"
   },
   {
    "duration": 159,
    "start_time": "2022-05-17T22:38:37.271Z"
   },
   {
    "duration": 5,
    "start_time": "2022-05-17T22:38:37.431Z"
   },
   {
    "duration": 56,
    "start_time": "2022-05-17T22:38:37.438Z"
   },
   {
    "duration": 1670,
    "start_time": "2022-05-17T22:38:37.496Z"
   },
   {
    "duration": 364,
    "start_time": "2022-05-17T22:38:39.169Z"
   },
   {
    "duration": 161,
    "start_time": "2022-05-17T22:38:39.534Z"
   },
   {
    "duration": 31,
    "start_time": "2022-05-17T22:38:39.696Z"
   },
   {
    "duration": 9,
    "start_time": "2022-05-17T22:38:39.728Z"
   },
   {
    "duration": 32,
    "start_time": "2022-05-17T22:38:39.739Z"
   },
   {
    "duration": 18,
    "start_time": "2022-05-17T22:38:39.772Z"
   },
   {
    "duration": 282,
    "start_time": "2022-05-17T22:38:39.792Z"
   },
   {
    "duration": 3,
    "start_time": "2022-05-17T22:38:40.075Z"
   },
   {
    "duration": 218,
    "start_time": "2022-05-17T22:38:40.080Z"
   },
   {
    "duration": 365,
    "start_time": "2022-05-17T22:38:40.300Z"
   },
   {
    "duration": 2,
    "start_time": "2022-05-17T22:38:40.666Z"
   },
   {
    "duration": 152,
    "start_time": "2022-05-17T22:38:40.670Z"
   },
   {
    "duration": 24,
    "start_time": "2022-05-17T22:38:40.823Z"
   },
   {
    "duration": 5,
    "start_time": "2022-05-17T22:38:40.848Z"
   },
   {
    "duration": 57,
    "start_time": "2022-05-17T22:38:40.855Z"
   },
   {
    "duration": 4,
    "start_time": "2022-05-17T22:38:40.927Z"
   },
   {
    "duration": 8,
    "start_time": "2022-05-17T22:38:40.932Z"
   },
   {
    "duration": 595,
    "start_time": "2022-05-17T22:38:40.941Z"
   },
   {
    "duration": 8,
    "start_time": "2022-05-17T22:39:21.206Z"
   },
   {
    "duration": 1314,
    "start_time": "2022-05-17T22:39:42.365Z"
   },
   {
    "duration": 2532,
    "start_time": "2022-05-17T22:39:58.814Z"
   },
   {
    "duration": 115,
    "start_time": "2022-05-17T22:41:06.075Z"
   },
   {
    "duration": 14,
    "start_time": "2022-05-17T22:41:16.637Z"
   },
   {
    "duration": 10,
    "start_time": "2022-05-17T22:41:27.584Z"
   },
   {
    "duration": 10,
    "start_time": "2022-05-17T22:41:30.475Z"
   },
   {
    "duration": 5,
    "start_time": "2022-05-17T22:41:33.789Z"
   },
   {
    "duration": 1344,
    "start_time": "2022-05-17T22:41:43.225Z"
   },
   {
    "duration": 5,
    "start_time": "2022-05-17T22:41:46.614Z"
   },
   {
    "duration": 6,
    "start_time": "2022-05-17T22:41:50.408Z"
   },
   {
    "duration": 3,
    "start_time": "2022-05-17T22:42:28.610Z"
   },
   {
    "duration": 3,
    "start_time": "2022-05-17T22:42:30.988Z"
   },
   {
    "duration": 9,
    "start_time": "2022-05-17T22:42:33.016Z"
   },
   {
    "duration": 6,
    "start_time": "2022-05-17T22:42:38.636Z"
   },
   {
    "duration": 6,
    "start_time": "2022-05-17T22:42:59.763Z"
   },
   {
    "duration": 13676,
    "start_time": "2022-05-17T22:43:16.908Z"
   },
   {
    "duration": 6,
    "start_time": "2022-05-17T22:43:30.587Z"
   },
   {
    "duration": 645,
    "start_time": "2022-05-17T22:45:41.322Z"
   },
   {
    "duration": 7,
    "start_time": "2022-05-17T22:45:45.406Z"
   },
   {
    "duration": 3,
    "start_time": "2022-05-17T23:04:40.145Z"
   },
   {
    "duration": 621,
    "start_time": "2022-05-17T23:05:51.728Z"
   },
   {
    "duration": 5,
    "start_time": "2022-05-17T23:05:56.393Z"
   },
   {
    "duration": 3,
    "start_time": "2022-05-17T23:07:46.478Z"
   },
   {
    "duration": 20186,
    "start_time": "2022-05-17T23:08:04.804Z"
   },
   {
    "duration": 14007,
    "start_time": "2022-05-17T23:11:18.575Z"
   },
   {
    "duration": 625,
    "start_time": "2022-05-17T23:13:01.134Z"
   },
   {
    "duration": 1283,
    "start_time": "2022-05-17T23:18:26.809Z"
   },
   {
    "duration": 2723,
    "start_time": "2022-05-17T23:23:58.858Z"
   },
   {
    "duration": 1337,
    "start_time": "2022-05-17T23:25:36.406Z"
   },
   {
    "duration": 751,
    "start_time": "2022-05-17T23:25:37.745Z"
   },
   {
    "duration": 30,
    "start_time": "2022-05-17T23:25:38.498Z"
   },
   {
    "duration": 3,
    "start_time": "2022-05-17T23:25:38.530Z"
   },
   {
    "duration": 468,
    "start_time": "2022-05-17T23:25:38.534Z"
   },
   {
    "duration": 580,
    "start_time": "2022-05-17T23:25:39.004Z"
   },
   {
    "duration": 128,
    "start_time": "2022-05-17T23:25:39.586Z"
   },
   {
    "duration": 2,
    "start_time": "2022-05-17T23:25:39.717Z"
   },
   {
    "duration": 55,
    "start_time": "2022-05-17T23:25:39.726Z"
   },
   {
    "duration": 3,
    "start_time": "2022-05-17T23:25:39.784Z"
   },
   {
    "duration": 14,
    "start_time": "2022-05-17T23:25:39.788Z"
   },
   {
    "duration": 7,
    "start_time": "2022-05-17T23:25:39.804Z"
   },
   {
    "duration": 304,
    "start_time": "2022-05-17T23:25:39.813Z"
   },
   {
    "duration": 118,
    "start_time": "2022-05-17T23:25:40.118Z"
   },
   {
    "duration": 37,
    "start_time": "2022-05-17T23:25:40.238Z"
   },
   {
    "duration": 3,
    "start_time": "2022-05-17T23:25:40.277Z"
   },
   {
    "duration": 86,
    "start_time": "2022-05-17T23:25:40.281Z"
   },
   {
    "duration": 18,
    "start_time": "2022-05-17T23:25:40.369Z"
   },
   {
    "duration": 77,
    "start_time": "2022-05-17T23:25:40.389Z"
   },
   {
    "duration": 675,
    "start_time": "2022-05-17T23:25:40.468Z"
   },
   {
    "duration": 13403,
    "start_time": "2022-05-17T23:25:41.144Z"
   },
   {
    "duration": 53,
    "start_time": "2022-05-17T23:25:54.549Z"
   },
   {
    "duration": 32,
    "start_time": "2022-05-17T23:25:54.604Z"
   },
   {
    "duration": 149,
    "start_time": "2022-05-17T23:25:54.638Z"
   },
   {
    "duration": 5,
    "start_time": "2022-05-17T23:25:54.788Z"
   },
   {
    "duration": 73,
    "start_time": "2022-05-17T23:25:54.795Z"
   },
   {
    "duration": 1846,
    "start_time": "2022-05-17T23:25:54.869Z"
   },
   {
    "duration": 364,
    "start_time": "2022-05-17T23:25:56.718Z"
   },
   {
    "duration": 178,
    "start_time": "2022-05-17T23:25:57.083Z"
   },
   {
    "duration": 26,
    "start_time": "2022-05-17T23:25:57.263Z"
   },
   {
    "duration": 11,
    "start_time": "2022-05-17T23:25:57.290Z"
   },
   {
    "duration": 56,
    "start_time": "2022-05-17T23:25:57.303Z"
   },
   {
    "duration": 20,
    "start_time": "2022-05-17T23:25:57.361Z"
   },
   {
    "duration": 293,
    "start_time": "2022-05-17T23:25:57.383Z"
   },
   {
    "duration": 3,
    "start_time": "2022-05-17T23:25:57.678Z"
   },
   {
    "duration": 209,
    "start_time": "2022-05-17T23:25:57.682Z"
   },
   {
    "duration": 370,
    "start_time": "2022-05-17T23:25:57.893Z"
   },
   {
    "duration": 3,
    "start_time": "2022-05-17T23:25:58.265Z"
   },
   {
    "duration": 172,
    "start_time": "2022-05-17T23:25:58.270Z"
   },
   {
    "duration": 23,
    "start_time": "2022-05-17T23:25:58.444Z"
   },
   {
    "duration": 7,
    "start_time": "2022-05-17T23:25:58.469Z"
   },
   {
    "duration": 88,
    "start_time": "2022-05-17T23:25:58.478Z"
   },
   {
    "duration": 4,
    "start_time": "2022-05-17T23:25:58.568Z"
   },
   {
    "duration": 8,
    "start_time": "2022-05-17T23:25:58.573Z"
   },
   {
    "duration": 8,
    "start_time": "2022-05-17T23:25:58.583Z"
   },
   {
    "duration": 22215,
    "start_time": "2022-05-17T23:25:58.592Z"
   },
   {
    "duration": 13794,
    "start_time": "2022-05-17T23:26:20.809Z"
   },
   {
    "duration": 637,
    "start_time": "2022-05-17T23:26:34.604Z"
   },
   {
    "duration": 1351,
    "start_time": "2022-05-17T23:26:35.243Z"
   },
   {
    "duration": 2829,
    "start_time": "2022-05-17T23:26:36.596Z"
   },
   {
    "duration": 3246,
    "start_time": "2022-05-17T23:27:30.712Z"
   },
   {
    "duration": 3099,
    "start_time": "2022-05-17T23:27:39.853Z"
   },
   {
    "duration": 3287,
    "start_time": "2022-05-17T23:27:51.271Z"
   },
   {
    "duration": 3118,
    "start_time": "2022-05-17T23:28:08.923Z"
   },
   {
    "duration": 3492,
    "start_time": "2022-05-17T23:28:12.043Z"
   },
   {
    "duration": 7,
    "start_time": "2022-05-17T23:29:47.062Z"
   },
   {
    "duration": 3,
    "start_time": "2022-05-17T23:30:33.237Z"
   },
   {
    "duration": 3,
    "start_time": "2022-05-17T23:32:25.695Z"
   },
   {
    "duration": 16244,
    "start_time": "2022-05-17T23:32:46.059Z"
   },
   {
    "duration": 31,
    "start_time": "2022-05-17T23:34:22.238Z"
   },
   {
    "duration": 6,
    "start_time": "2022-05-17T23:34:44.440Z"
   },
   {
    "duration": 9,
    "start_time": "2022-05-17T23:34:54.322Z"
   },
   {
    "duration": 30,
    "start_time": "2022-05-17T23:34:58.365Z"
   },
   {
    "duration": 10,
    "start_time": "2022-05-17T23:35:09.411Z"
   },
   {
    "duration": 3,
    "start_time": "2022-05-17T23:36:09.670Z"
   },
   {
    "duration": 39,
    "start_time": "2022-05-17T23:36:10.546Z"
   },
   {
    "duration": 3,
    "start_time": "2022-05-17T23:37:10.367Z"
   },
   {
    "duration": 16105,
    "start_time": "2022-05-17T23:37:11.073Z"
   },
   {
    "duration": 4,
    "start_time": "2022-05-17T23:38:58.590Z"
   },
   {
    "duration": 18482,
    "start_time": "2022-05-17T23:38:59.122Z"
   },
   {
    "duration": 59049,
    "start_time": "2022-05-17T23:41:17.940Z"
   },
   {
    "duration": 21647,
    "start_time": "2022-05-17T23:47:48.144Z"
   },
   {
    "duration": 48,
    "start_time": "2022-05-17T23:53:51.352Z"
   },
   {
    "duration": 4,
    "start_time": "2022-05-17T23:57:16.943Z"
   },
   {
    "duration": 19,
    "start_time": "2022-05-17T23:57:32.192Z"
   },
   {
    "duration": 5,
    "start_time": "2022-05-18T00:04:19.526Z"
   },
   {
    "duration": 2,
    "start_time": "2022-05-18T00:04:35.214Z"
   },
   {
    "duration": 6,
    "start_time": "2022-05-18T00:04:41.646Z"
   },
   {
    "duration": 6,
    "start_time": "2022-05-18T00:04:47.384Z"
   },
   {
    "duration": 2,
    "start_time": "2022-05-18T00:04:49.325Z"
   },
   {
    "duration": 6,
    "start_time": "2022-05-18T00:04:52.964Z"
   },
   {
    "duration": 2,
    "start_time": "2022-05-18T00:05:04.606Z"
   },
   {
    "duration": 4,
    "start_time": "2022-05-18T00:12:16.170Z"
   },
   {
    "duration": 4,
    "start_time": "2022-05-18T00:12:47.807Z"
   },
   {
    "duration": 246809,
    "start_time": "2022-05-18T00:13:03.920Z"
   },
   {
    "duration": 5736,
    "start_time": "2022-05-18T00:17:24.786Z"
   },
   {
    "duration": 3,
    "start_time": "2022-05-18T00:17:35.291Z"
   },
   {
    "duration": 94950,
    "start_time": "2022-05-18T00:17:38.255Z"
   },
   {
    "duration": 2,
    "start_time": "2022-05-18T00:22:07.641Z"
   },
   {
    "duration": 16475,
    "start_time": "2022-05-18T00:22:24.632Z"
   },
   {
    "duration": 36533,
    "start_time": "2022-05-18T00:22:45.958Z"
   },
   {
    "duration": 4,
    "start_time": "2022-05-18T00:25:41.473Z"
   },
   {
    "duration": 3,
    "start_time": "2022-05-18T00:25:46.494Z"
   },
   {
    "duration": 26,
    "start_time": "2022-05-18T00:25:50.964Z"
   },
   {
    "duration": 4,
    "start_time": "2022-05-18T00:33:22.282Z"
   },
   {
    "duration": 24,
    "start_time": "2022-05-18T00:33:24.917Z"
   },
   {
    "duration": 27388,
    "start_time": "2022-05-18T00:34:04.261Z"
   },
   {
    "duration": 15,
    "start_time": "2022-05-18T00:34:51.624Z"
   },
   {
    "duration": 2,
    "start_time": "2022-05-18T00:36:05.541Z"
   },
   {
    "duration": 37015,
    "start_time": "2022-05-18T00:36:11.734Z"
   },
   {
    "duration": 3,
    "start_time": "2022-05-18T00:38:00.537Z"
   },
   {
    "duration": 27,
    "start_time": "2022-05-18T00:38:01.276Z"
   },
   {
    "duration": 3,
    "start_time": "2022-05-18T00:39:43.384Z"
   },
   {
    "duration": 15,
    "start_time": "2022-05-18T00:39:44.266Z"
   },
   {
    "duration": 9,
    "start_time": "2022-05-18T00:40:11.021Z"
   },
   {
    "duration": 20,
    "start_time": "2022-05-18T00:41:29.924Z"
   },
   {
    "duration": 7,
    "start_time": "2022-05-18T00:41:59.078Z"
   },
   {
    "duration": 15,
    "start_time": "2022-05-18T00:42:09.692Z"
   },
   {
    "duration": 7,
    "start_time": "2022-05-18T00:42:18.446Z"
   },
   {
    "duration": 15,
    "start_time": "2022-05-18T00:42:30.991Z"
   },
   {
    "duration": 11,
    "start_time": "2022-05-18T00:42:36.282Z"
   },
   {
    "duration": 15,
    "start_time": "2022-05-18T00:42:37.947Z"
   },
   {
    "duration": 6,
    "start_time": "2022-05-18T00:42:45.832Z"
   },
   {
    "duration": 15,
    "start_time": "2022-05-18T00:42:46.454Z"
   },
   {
    "duration": 7,
    "start_time": "2022-05-18T00:42:51.981Z"
   },
   {
    "duration": 14,
    "start_time": "2022-05-18T00:42:53.129Z"
   },
   {
    "duration": 10,
    "start_time": "2022-05-18T00:43:03.881Z"
   },
   {
    "duration": 16,
    "start_time": "2022-05-18T00:43:04.355Z"
   },
   {
    "duration": 22,
    "start_time": "2022-05-18T00:43:17.851Z"
   },
   {
    "duration": 15,
    "start_time": "2022-05-18T00:43:40.283Z"
   },
   {
    "duration": 2353,
    "start_time": "2022-05-18T01:10:54.069Z"
   },
   {
    "duration": 8,
    "start_time": "2022-05-18T01:11:56.041Z"
   },
   {
    "duration": 6,
    "start_time": "2022-05-18T01:13:32.859Z"
   },
   {
    "duration": 8,
    "start_time": "2022-05-18T01:14:20.283Z"
   },
   {
    "duration": 6,
    "start_time": "2022-05-18T01:14:22.805Z"
   },
   {
    "duration": 44,
    "start_time": "2022-05-18T01:14:52.541Z"
   },
   {
    "duration": 56,
    "start_time": "2022-05-18T01:15:04.643Z"
   },
   {
    "duration": 2239,
    "start_time": "2022-05-18T01:15:12.040Z"
   },
   {
    "duration": 2537,
    "start_time": "2022-05-18T01:15:18.662Z"
   },
   {
    "duration": 2004,
    "start_time": "2022-05-18T01:15:23.829Z"
   },
   {
    "duration": 1955,
    "start_time": "2022-05-18T01:15:28.690Z"
   },
   {
    "duration": 1299,
    "start_time": "2022-05-18T01:33:10.087Z"
   },
   {
    "duration": 805,
    "start_time": "2022-05-18T01:33:11.388Z"
   },
   {
    "duration": 35,
    "start_time": "2022-05-18T01:33:12.194Z"
   },
   {
    "duration": 4,
    "start_time": "2022-05-18T01:33:12.230Z"
   },
   {
    "duration": 464,
    "start_time": "2022-05-18T01:33:12.236Z"
   },
   {
    "duration": 585,
    "start_time": "2022-05-18T01:33:12.701Z"
   },
   {
    "duration": 120,
    "start_time": "2022-05-18T01:33:13.288Z"
   },
   {
    "duration": 3,
    "start_time": "2022-05-18T01:33:13.409Z"
   },
   {
    "duration": 58,
    "start_time": "2022-05-18T01:33:13.414Z"
   },
   {
    "duration": 11,
    "start_time": "2022-05-18T01:33:13.473Z"
   },
   {
    "duration": 6,
    "start_time": "2022-05-18T01:33:13.486Z"
   },
   {
    "duration": 11,
    "start_time": "2022-05-18T01:33:13.493Z"
   },
   {
    "duration": 301,
    "start_time": "2022-05-18T01:33:13.505Z"
   },
   {
    "duration": 123,
    "start_time": "2022-05-18T01:33:13.810Z"
   },
   {
    "duration": 38,
    "start_time": "2022-05-18T01:33:13.935Z"
   },
   {
    "duration": 3,
    "start_time": "2022-05-18T01:33:13.974Z"
   },
   {
    "duration": 88,
    "start_time": "2022-05-18T01:33:13.979Z"
   },
   {
    "duration": 18,
    "start_time": "2022-05-18T01:33:14.069Z"
   },
   {
    "duration": 79,
    "start_time": "2022-05-18T01:33:14.088Z"
   },
   {
    "duration": 698,
    "start_time": "2022-05-18T01:33:14.169Z"
   },
   {
    "duration": 13115,
    "start_time": "2022-05-18T01:33:14.869Z"
   },
   {
    "duration": 61,
    "start_time": "2022-05-18T01:33:27.985Z"
   },
   {
    "duration": 23,
    "start_time": "2022-05-18T01:33:28.048Z"
   },
   {
    "duration": 158,
    "start_time": "2022-05-18T01:33:28.073Z"
   },
   {
    "duration": 5,
    "start_time": "2022-05-18T01:33:28.233Z"
   },
   {
    "duration": 61,
    "start_time": "2022-05-18T01:33:28.240Z"
   },
   {
    "duration": 1783,
    "start_time": "2022-05-18T01:33:28.302Z"
   },
   {
    "duration": 371,
    "start_time": "2022-05-18T01:33:30.087Z"
   },
   {
    "duration": 170,
    "start_time": "2022-05-18T01:33:30.460Z"
   },
   {
    "duration": 23,
    "start_time": "2022-05-18T01:33:30.633Z"
   },
   {
    "duration": 11,
    "start_time": "2022-05-18T01:33:30.658Z"
   },
   {
    "duration": 58,
    "start_time": "2022-05-18T01:33:30.671Z"
   },
   {
    "duration": 19,
    "start_time": "2022-05-18T01:33:30.731Z"
   },
   {
    "duration": 296,
    "start_time": "2022-05-18T01:33:30.751Z"
   },
   {
    "duration": 3,
    "start_time": "2022-05-18T01:33:31.049Z"
   },
   {
    "duration": 222,
    "start_time": "2022-05-18T01:33:31.054Z"
   },
   {
    "duration": 397,
    "start_time": "2022-05-18T01:33:31.278Z"
   },
   {
    "duration": 3,
    "start_time": "2022-05-18T01:33:31.677Z"
   },
   {
    "duration": 192,
    "start_time": "2022-05-18T01:33:31.681Z"
   },
   {
    "duration": 31,
    "start_time": "2022-05-18T01:33:31.876Z"
   },
   {
    "duration": 19,
    "start_time": "2022-05-18T01:33:31.911Z"
   },
   {
    "duration": 67,
    "start_time": "2022-05-18T01:33:31.932Z"
   },
   {
    "duration": 7,
    "start_time": "2022-05-18T01:33:32.001Z"
   },
   {
    "duration": 23,
    "start_time": "2022-05-18T01:33:32.011Z"
   },
   {
    "duration": 13,
    "start_time": "2022-05-18T01:33:32.036Z"
   },
   {
    "duration": 20448,
    "start_time": "2022-05-18T01:33:32.051Z"
   },
   {
    "duration": 13601,
    "start_time": "2022-05-18T01:33:52.501Z"
   },
   {
    "duration": 675,
    "start_time": "2022-05-18T01:34:06.104Z"
   },
   {
    "duration": 1309,
    "start_time": "2022-05-18T01:34:06.780Z"
   },
   {
    "duration": 2944,
    "start_time": "2022-05-18T01:34:08.090Z"
   },
   {
    "duration": 3765,
    "start_time": "2022-05-18T01:34:11.036Z"
   },
   {
    "duration": 3751,
    "start_time": "2022-05-18T01:34:14.803Z"
   },
   {
    "duration": 3523,
    "start_time": "2022-05-18T01:34:18.556Z"
   },
   {
    "duration": 2874,
    "start_time": "2022-05-18T01:34:22.081Z"
   },
   {
    "duration": 3401,
    "start_time": "2022-05-18T01:34:24.956Z"
   },
   {
    "duration": 3,
    "start_time": "2022-05-18T01:34:28.358Z"
   },
   {
    "duration": 18276,
    "start_time": "2022-05-18T01:34:28.362Z"
   },
   {
    "duration": 60671,
    "start_time": "2022-05-18T01:34:46.639Z"
   },
   {
    "duration": 21375,
    "start_time": "2022-05-18T01:35:47.312Z"
   },
   {
    "duration": 3,
    "start_time": "2022-05-18T01:36:08.689Z"
   },
   {
    "duration": 29,
    "start_time": "2022-05-18T01:36:08.693Z"
   },
   {
    "duration": 35295,
    "start_time": "2022-05-18T01:36:08.724Z"
   },
   {
    "duration": 15,
    "start_time": "2022-05-18T01:36:44.021Z"
   },
   {
    "duration": 7,
    "start_time": "2022-05-18T01:36:44.037Z"
   },
   {
    "duration": 38887,
    "start_time": "2022-05-18T01:36:44.046Z"
   },
   {
    "duration": 15,
    "start_time": "2022-05-18T01:37:22.935Z"
   },
   {
    "duration": 8,
    "start_time": "2022-05-18T01:37:22.951Z"
   },
   {
    "duration": 1821,
    "start_time": "2022-05-18T01:37:22.961Z"
   },
   {
    "duration": 6,
    "start_time": "2022-05-18T01:37:24.784Z"
   },
   {
    "duration": 3,
    "start_time": "2022-05-18T01:38:16.439Z"
   },
   {
    "duration": 1324,
    "start_time": "2022-05-18T01:43:03.722Z"
   },
   {
    "duration": 770,
    "start_time": "2022-05-18T01:43:05.048Z"
   },
   {
    "duration": 32,
    "start_time": "2022-05-18T01:43:05.819Z"
   },
   {
    "duration": 4,
    "start_time": "2022-05-18T01:43:05.853Z"
   },
   {
    "duration": 489,
    "start_time": "2022-05-18T01:43:05.860Z"
   },
   {
    "duration": 571,
    "start_time": "2022-05-18T01:43:06.351Z"
   },
   {
    "duration": 122,
    "start_time": "2022-05-18T01:43:06.923Z"
   },
   {
    "duration": 3,
    "start_time": "2022-05-18T01:43:07.046Z"
   },
   {
    "duration": 53,
    "start_time": "2022-05-18T01:43:07.050Z"
   },
   {
    "duration": 7,
    "start_time": "2022-05-18T01:43:07.105Z"
   },
   {
    "duration": 6,
    "start_time": "2022-05-18T01:43:07.127Z"
   },
   {
    "duration": 8,
    "start_time": "2022-05-18T01:43:07.134Z"
   },
   {
    "duration": 292,
    "start_time": "2022-05-18T01:43:07.143Z"
   },
   {
    "duration": 110,
    "start_time": "2022-05-18T01:43:07.438Z"
   },
   {
    "duration": 37,
    "start_time": "2022-05-18T01:43:07.550Z"
   },
   {
    "duration": 3,
    "start_time": "2022-05-18T01:43:07.588Z"
   },
   {
    "duration": 80,
    "start_time": "2022-05-18T01:43:07.592Z"
   },
   {
    "duration": 18,
    "start_time": "2022-05-18T01:43:07.673Z"
   },
   {
    "duration": 75,
    "start_time": "2022-05-18T01:43:07.692Z"
   },
   {
    "duration": 672,
    "start_time": "2022-05-18T01:43:07.768Z"
   },
   {
    "duration": 12666,
    "start_time": "2022-05-18T01:43:08.442Z"
   },
   {
    "duration": 62,
    "start_time": "2022-05-18T01:43:21.110Z"
   },
   {
    "duration": 23,
    "start_time": "2022-05-18T01:43:21.174Z"
   },
   {
    "duration": 171,
    "start_time": "2022-05-18T01:43:21.198Z"
   },
   {
    "duration": 4,
    "start_time": "2022-05-18T01:43:21.371Z"
   },
   {
    "duration": 66,
    "start_time": "2022-05-18T01:43:21.376Z"
   },
   {
    "duration": 1708,
    "start_time": "2022-05-18T01:43:21.443Z"
   },
   {
    "duration": 366,
    "start_time": "2022-05-18T01:43:23.153Z"
   },
   {
    "duration": 162,
    "start_time": "2022-05-18T01:43:23.521Z"
   },
   {
    "duration": 22,
    "start_time": "2022-05-18T01:43:23.685Z"
   },
   {
    "duration": 23,
    "start_time": "2022-05-18T01:43:23.708Z"
   },
   {
    "duration": 34,
    "start_time": "2022-05-18T01:43:23.733Z"
   },
   {
    "duration": 280,
    "start_time": "2022-05-18T01:43:23.768Z"
   },
   {
    "duration": 3,
    "start_time": "2022-05-18T01:43:24.049Z"
   },
   {
    "duration": 206,
    "start_time": "2022-05-18T01:43:24.053Z"
   },
   {
    "duration": 363,
    "start_time": "2022-05-18T01:43:24.260Z"
   },
   {
    "duration": 3,
    "start_time": "2022-05-18T01:43:24.626Z"
   },
   {
    "duration": 168,
    "start_time": "2022-05-18T01:43:24.631Z"
   },
   {
    "duration": 30,
    "start_time": "2022-05-18T01:43:24.801Z"
   },
   {
    "duration": 7,
    "start_time": "2022-05-18T01:43:24.833Z"
   },
   {
    "duration": 62,
    "start_time": "2022-05-18T01:43:24.845Z"
   },
   {
    "duration": 4,
    "start_time": "2022-05-18T01:43:24.909Z"
   },
   {
    "duration": 4,
    "start_time": "2022-05-18T01:43:24.927Z"
   },
   {
    "duration": 11,
    "start_time": "2022-05-18T01:43:24.932Z"
   },
   {
    "duration": 20167,
    "start_time": "2022-05-18T01:43:24.945Z"
   },
   {
    "duration": 13688,
    "start_time": "2022-05-18T01:43:45.114Z"
   },
   {
    "duration": 599,
    "start_time": "2022-05-18T01:43:58.804Z"
   },
   {
    "duration": 1298,
    "start_time": "2022-05-18T01:43:59.404Z"
   },
   {
    "duration": 3146,
    "start_time": "2022-05-18T01:44:00.704Z"
   },
   {
    "duration": 3646,
    "start_time": "2022-05-18T01:44:03.852Z"
   },
   {
    "duration": 3547,
    "start_time": "2022-05-18T01:44:07.499Z"
   },
   {
    "duration": 3660,
    "start_time": "2022-05-18T01:44:11.047Z"
   },
   {
    "duration": 3108,
    "start_time": "2022-05-18T01:44:14.709Z"
   },
   {
    "duration": 3479,
    "start_time": "2022-05-18T01:44:17.819Z"
   },
   {
    "duration": 3,
    "start_time": "2022-05-18T01:44:21.300Z"
   },
   {
    "duration": 18091,
    "start_time": "2022-05-18T01:44:21.305Z"
   },
   {
    "duration": 3,
    "start_time": "2022-05-18T01:44:39.398Z"
   },
   {
    "duration": 9,
    "start_time": "2022-05-18T01:44:39.403Z"
   },
   {
    "duration": 35909,
    "start_time": "2022-05-18T01:44:39.414Z"
   },
   {
    "duration": 19,
    "start_time": "2022-05-18T01:45:15.324Z"
   },
   {
    "duration": 8,
    "start_time": "2022-05-18T01:45:15.345Z"
   },
   {
    "duration": 31092,
    "start_time": "2022-05-18T01:45:15.355Z"
   },
   {
    "duration": 22,
    "start_time": "2022-05-18T01:45:46.449Z"
   },
   {
    "duration": 59,
    "start_time": "2022-05-18T01:45:46.473Z"
   },
   {
    "duration": 1851,
    "start_time": "2022-05-18T01:45:46.535Z"
   },
   {
    "duration": 5,
    "start_time": "2022-05-18T01:45:48.388Z"
   }
  ],
  "kernelspec": {
   "display_name": "Python 3 (ipykernel)",
   "language": "python",
   "name": "python3"
  },
  "language_info": {
   "codemirror_mode": {
    "name": "ipython",
    "version": 3
   },
   "file_extension": ".py",
   "mimetype": "text/x-python",
   "name": "python",
   "nbconvert_exporter": "python",
   "pygments_lexer": "ipython3",
   "version": "3.9.7"
  },
  "toc": {
   "base_numbering": 1,
   "nav_menu": {},
   "number_sections": true,
   "sideBar": true,
   "skip_h1_title": true,
   "title_cell": "Table of Contents",
   "title_sidebar": "Contents",
   "toc_cell": false,
   "toc_position": {
    "height": "calc(100% - 180px)",
    "left": "10px",
    "top": "150px",
    "width": "177px"
   },
   "toc_section_display": true,
   "toc_window_display": false
  }
 },
 "nbformat": 4,
 "nbformat_minor": 2
}

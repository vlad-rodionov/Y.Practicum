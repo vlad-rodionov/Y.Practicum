{
 "cells": [
  {
   "cell_type": "markdown",
   "metadata": {},
   "source": [
    "# Рекомендация тарифов"
   ]
  },
  {
   "cell_type": "markdown",
   "metadata": {},
   "source": [
    "Оператор мобильной связи «Мегалайн» выяснил: многие клиенты пользуются архивными тарифами. Они хотят построить систему, способную проанализировать поведение клиентов и предложить пользователям новый тариф: «Смарт» или «Ультра».\n",
    "\n",
    "В вашем распоряжении данные о поведении клиентов, которые уже перешли на эти тарифы (из проекта курса «Статистический анализ данных»). Нужно построить модель для задачи классификации, которая выберет подходящий тариф. Предобработка данных не понадобится — вы её уже сделали.\n",
    "\n",
    "**Цель исследования** - построить модель с максимально большим значением *accuracy*.\n",
    "\n",
    "**Ход исследования**\n",
    "\n",
    "Данные о поведении клиентов получим из файла `users_behavior.csv`. Предобработка данных не требуется.\n",
    "\n",
    "Таким образом, исследование пройдет в 4 этапа:\n",
    "1. Обзор данных;\n",
    "2. Построение baseline моделей;\n",
    "3. Улучшение моделей;\n",
    "4. Прогноз на тестовой выборке."
   ]
  },
  {
   "cell_type": "markdown",
   "metadata": {},
   "source": [
    "## Обзор данных.\n",
    "\n",
    "### Табличный осмотр.\n",
    "\n",
    "Импортируем необходимые библиотеки."
   ]
  },
  {
   "cell_type": "code",
   "execution_count": 1,
   "metadata": {},
   "outputs": [],
   "source": [
    "import pandas as pd\n",
    "import numpy as np\n",
    "import warnings\n",
    "warnings.filterwarnings('ignore')\n",
    "\n",
    "from sklearn.model_selection import train_test_split\n",
    "from sklearn.metrics import accuracy_score\n",
    "from sklearn.preprocessing import PolynomialFeatures, StandardScaler, MinMaxScaler\n",
    "\n",
    "from sklearn.tree import DecisionTreeClassifier\n",
    "from sklearn.linear_model import LogisticRegression\n",
    "from sklearn.ensemble import RandomForestClassifier\n",
    "from sklearn.dummy import DummyClassifier"
   ]
  },
  {
   "cell_type": "markdown",
   "metadata": {},
   "source": [
    "Считаем данные из файла `users_behavior.csv`."
   ]
  },
  {
   "cell_type": "code",
   "execution_count": 2,
   "metadata": {},
   "outputs": [],
   "source": [
    "df = pd.read_csv('/datasets/users_behavior.csv')"
   ]
  },
  {
   "cell_type": "markdown",
   "metadata": {},
   "source": [
    "Посмотрим на данные и получим общую информацию о данных с помощью метода `info()`."
   ]
  },
  {
   "cell_type": "code",
   "execution_count": 3,
   "metadata": {},
   "outputs": [
    {
     "data": {
      "text/html": [
       "<div>\n",
       "<style scoped>\n",
       "    .dataframe tbody tr th:only-of-type {\n",
       "        vertical-align: middle;\n",
       "    }\n",
       "\n",
       "    .dataframe tbody tr th {\n",
       "        vertical-align: top;\n",
       "    }\n",
       "\n",
       "    .dataframe thead th {\n",
       "        text-align: right;\n",
       "    }\n",
       "</style>\n",
       "<table border=\"1\" class=\"dataframe\">\n",
       "  <thead>\n",
       "    <tr style=\"text-align: right;\">\n",
       "      <th></th>\n",
       "      <th>calls</th>\n",
       "      <th>minutes</th>\n",
       "      <th>messages</th>\n",
       "      <th>mb_used</th>\n",
       "      <th>is_ultra</th>\n",
       "    </tr>\n",
       "  </thead>\n",
       "  <tbody>\n",
       "    <tr>\n",
       "      <th>0</th>\n",
       "      <td>40.0</td>\n",
       "      <td>311.90</td>\n",
       "      <td>83.0</td>\n",
       "      <td>19915.42</td>\n",
       "      <td>0</td>\n",
       "    </tr>\n",
       "    <tr>\n",
       "      <th>1</th>\n",
       "      <td>85.0</td>\n",
       "      <td>516.75</td>\n",
       "      <td>56.0</td>\n",
       "      <td>22696.96</td>\n",
       "      <td>0</td>\n",
       "    </tr>\n",
       "    <tr>\n",
       "      <th>2</th>\n",
       "      <td>77.0</td>\n",
       "      <td>467.66</td>\n",
       "      <td>86.0</td>\n",
       "      <td>21060.45</td>\n",
       "      <td>0</td>\n",
       "    </tr>\n",
       "    <tr>\n",
       "      <th>3</th>\n",
       "      <td>106.0</td>\n",
       "      <td>745.53</td>\n",
       "      <td>81.0</td>\n",
       "      <td>8437.39</td>\n",
       "      <td>1</td>\n",
       "    </tr>\n",
       "    <tr>\n",
       "      <th>4</th>\n",
       "      <td>66.0</td>\n",
       "      <td>418.74</td>\n",
       "      <td>1.0</td>\n",
       "      <td>14502.75</td>\n",
       "      <td>0</td>\n",
       "    </tr>\n",
       "    <tr>\n",
       "      <th>...</th>\n",
       "      <td>...</td>\n",
       "      <td>...</td>\n",
       "      <td>...</td>\n",
       "      <td>...</td>\n",
       "      <td>...</td>\n",
       "    </tr>\n",
       "    <tr>\n",
       "      <th>3209</th>\n",
       "      <td>122.0</td>\n",
       "      <td>910.98</td>\n",
       "      <td>20.0</td>\n",
       "      <td>35124.90</td>\n",
       "      <td>1</td>\n",
       "    </tr>\n",
       "    <tr>\n",
       "      <th>3210</th>\n",
       "      <td>25.0</td>\n",
       "      <td>190.36</td>\n",
       "      <td>0.0</td>\n",
       "      <td>3275.61</td>\n",
       "      <td>0</td>\n",
       "    </tr>\n",
       "    <tr>\n",
       "      <th>3211</th>\n",
       "      <td>97.0</td>\n",
       "      <td>634.44</td>\n",
       "      <td>70.0</td>\n",
       "      <td>13974.06</td>\n",
       "      <td>0</td>\n",
       "    </tr>\n",
       "    <tr>\n",
       "      <th>3212</th>\n",
       "      <td>64.0</td>\n",
       "      <td>462.32</td>\n",
       "      <td>90.0</td>\n",
       "      <td>31239.78</td>\n",
       "      <td>0</td>\n",
       "    </tr>\n",
       "    <tr>\n",
       "      <th>3213</th>\n",
       "      <td>80.0</td>\n",
       "      <td>566.09</td>\n",
       "      <td>6.0</td>\n",
       "      <td>29480.52</td>\n",
       "      <td>1</td>\n",
       "    </tr>\n",
       "  </tbody>\n",
       "</table>\n",
       "<p>3214 rows × 5 columns</p>\n",
       "</div>"
      ],
      "text/plain": [
       "      calls  minutes  messages   mb_used  is_ultra\n",
       "0      40.0   311.90      83.0  19915.42         0\n",
       "1      85.0   516.75      56.0  22696.96         0\n",
       "2      77.0   467.66      86.0  21060.45         0\n",
       "3     106.0   745.53      81.0   8437.39         1\n",
       "4      66.0   418.74       1.0  14502.75         0\n",
       "...     ...      ...       ...       ...       ...\n",
       "3209  122.0   910.98      20.0  35124.90         1\n",
       "3210   25.0   190.36       0.0   3275.61         0\n",
       "3211   97.0   634.44      70.0  13974.06         0\n",
       "3212   64.0   462.32      90.0  31239.78         0\n",
       "3213   80.0   566.09       6.0  29480.52         1\n",
       "\n",
       "[3214 rows x 5 columns]"
      ]
     },
     "execution_count": 3,
     "metadata": {},
     "output_type": "execute_result"
    }
   ],
   "source": [
    "df"
   ]
  },
  {
   "cell_type": "code",
   "execution_count": 4,
   "metadata": {},
   "outputs": [
    {
     "name": "stdout",
     "output_type": "stream",
     "text": [
      "<class 'pandas.core.frame.DataFrame'>\n",
      "RangeIndex: 3214 entries, 0 to 3213\n",
      "Data columns (total 5 columns):\n",
      " #   Column    Non-Null Count  Dtype  \n",
      "---  ------    --------------  -----  \n",
      " 0   calls     3214 non-null   float64\n",
      " 1   minutes   3214 non-null   float64\n",
      " 2   messages  3214 non-null   float64\n",
      " 3   mb_used   3214 non-null   float64\n",
      " 4   is_ultra  3214 non-null   int64  \n",
      "dtypes: float64(4), int64(1)\n",
      "memory usage: 125.7 KB\n"
     ]
    }
   ],
   "source": [
    "df.info()"
   ]
  },
  {
   "cell_type": "markdown",
   "metadata": {},
   "source": [
    "Посмотрим есть ли дубликаты строк."
   ]
  },
  {
   "cell_type": "code",
   "execution_count": 5,
   "metadata": {},
   "outputs": [
    {
     "data": {
      "text/plain": [
       "0"
      ]
     },
     "execution_count": 5,
     "metadata": {},
     "output_type": "execute_result"
    }
   ],
   "source": [
    "df.duplicated().sum()"
   ]
  },
  {
   "cell_type": "markdown",
   "metadata": {},
   "source": [
    "Каждый объект в наборе данных — это информация о поведении одного пользователя за месяц. Из описания к данным:\n",
    "* сalls — количество звонков,\n",
    "* minutes — суммарная длительность звонков в минутах,\n",
    "* messages — количество sms-сообщений,\n",
    "* mb_used — израсходованный интернет-трафик в Мб,\n",
    "* is_ultra — каким тарифом пользовался в течение месяца («Ультра» — 1, «Смарт» — 0).\n",
    "\n",
    "**Вывод**\n",
    "\n",
    "Наименование столбцов корректное. В данных отсутствуют пропуски и дубликаты."
   ]
  },
  {
   "cell_type": "markdown",
   "metadata": {},
   "source": [
    "## Построение baseline моделей.\n",
    "\n",
    "В данном проекте стоит задача классификации. Будем использовать 3 модели:\n",
    "1. Логистическая регрессия (LogisticRegression);\n",
    "2. Дерево решений (DecisionTreeClassifier);\n",
    "3. Случайный лес (RandomForestClassifier).\n",
    "\n",
    "Посмотрим на распределение классов в данных."
   ]
  },
  {
   "cell_type": "code",
   "execution_count": 6,
   "metadata": {},
   "outputs": [
    {
     "data": {
      "text/plain": [
       "0    0.693528\n",
       "1    0.306472\n",
       "Name: is_ultra, dtype: float64"
      ]
     },
     "execution_count": 6,
     "metadata": {},
     "output_type": "execute_result"
    }
   ],
   "source": [
    "df['is_ultra'].value_counts(normalize=True)"
   ]
  },
  {
   "cell_type": "markdown",
   "metadata": {},
   "source": [
    "Разделим наши данные на 3 выборки - тренировочную, валидационную и тестовую. Данное преобразование будем осуществлять с помощью метода `train_test_split()` в 2 этапа:\n",
    "1. Создадим выборку тренировочную и временную в соотношении 60:40;\n",
    "2. Разделим временную выборку на 2 части в соотношении 50:50.\n",
    "\n",
    "Итог, будем иметь 3 выборки - тренировочную, валидационную и тестовую в соотношении 60/20/20 соответственно.\n",
    "\n",
    "Напишем функцию для данного преобразования."
   ]
  },
  {
   "cell_type": "code",
   "execution_count": 7,
   "metadata": {},
   "outputs": [],
   "source": [
    "def train_val_test_split(data_input, target_column, frac_train=0.6, frac_val=0.2, frac_test=0.2, random_state=17):\n",
    "    \n",
    "    X = data_input\n",
    "    y = data_input[target_column]\n",
    "    \n",
    "    df_train, df_temp, y_train, y_temp = train_test_split(X, y, \n",
    "                                                          test_size = 1 - frac_train,\n",
    "                                                          random_state=random_state)\n",
    "    \n",
    "    relative_test_size = frac_test / (frac_test + frac_val)\n",
    "    \n",
    "    df_val, df_test, y_val, y_test = train_test_split(df_temp, y_temp,\n",
    "                                                      test_size=relative_test_size,\n",
    "                                                      random_state=random_state)\n",
    "    \n",
    "    assert len(data_input) == len(df_train) + len(df_val) + len(df_test)\n",
    "    \n",
    "    return df_train, df_val, df_test"
   ]
  },
  {
   "cell_type": "code",
   "execution_count": 8,
   "metadata": {},
   "outputs": [],
   "source": [
    "df_train, df_val, df_test = train_val_test_split(df, 'is_ultra')"
   ]
  },
  {
   "cell_type": "markdown",
   "metadata": {},
   "source": [
    "Сделаем выборки непосредственно для моделей."
   ]
  },
  {
   "cell_type": "code",
   "execution_count": 9,
   "metadata": {},
   "outputs": [],
   "source": [
    "df_train, y_train = df_train.drop(['is_ultra'], axis=1), df_train['is_ultra']\n",
    "df_val, y_val = df_val.drop(['is_ultra'], axis=1), df_val['is_ultra']\n",
    "df_test, y_test = df_test.drop(['is_ultra'], axis=1), df_test['is_ultra']"
   ]
  },
  {
   "cell_type": "markdown",
   "metadata": {},
   "source": [
    "Перейдем непосредственно к обучению. Сначала обучим модели без настройки параметров.\n",
    "\n",
    "### Логистическая регрессия (LogisticRegression)."
   ]
  },
  {
   "cell_type": "code",
   "execution_count": 10,
   "metadata": {},
   "outputs": [
    {
     "name": "stdout",
     "output_type": "stream",
     "text": [
      "Доля верных ответов на валидации: 0.76049766718507\n"
     ]
    }
   ],
   "source": [
    "log_class = LogisticRegression(random_state=17)\n",
    "\n",
    "log_class.fit(df_train, y_train)\n",
    "\n",
    "y_pred = log_class.predict(df_val)\n",
    "\n",
    "acc = accuracy_score(y_val, y_pred)\n",
    "\n",
    "print(f'Доля верных ответов на валидации: {acc}')"
   ]
  },
  {
   "cell_type": "markdown",
   "metadata": {},
   "source": [
    "### Дерево решений (DecisionTreeClassifier)."
   ]
  },
  {
   "cell_type": "code",
   "execution_count": 11,
   "metadata": {},
   "outputs": [
    {
     "name": "stdout",
     "output_type": "stream",
     "text": [
      "Доля верных ответов на валидации: 0.7107309486780715\n"
     ]
    }
   ],
   "source": [
    "tree = DecisionTreeClassifier(random_state=17)\n",
    "\n",
    "tree.fit(df_train, y_train)\n",
    "\n",
    "y_pred = tree.predict(df_val)\n",
    "\n",
    "acc = accuracy_score(y_val, y_pred)\n",
    "\n",
    "print(f'Доля верных ответов на валидации: {acc}')"
   ]
  },
  {
   "cell_type": "markdown",
   "metadata": {},
   "source": [
    "### Случайный лес (RandomForestClassifier)."
   ]
  },
  {
   "cell_type": "code",
   "execution_count": 12,
   "metadata": {},
   "outputs": [
    {
     "name": "stdout",
     "output_type": "stream",
     "text": [
      "Доля верных ответов на валидации: 0.8009331259720062\n"
     ]
    }
   ],
   "source": [
    "random_forest = RandomForestClassifier(random_state=17)\n",
    "\n",
    "random_forest.fit(df_train, y_train)\n",
    "\n",
    "y_pred = random_forest.predict(df_val)\n",
    "\n",
    "acc = accuracy_score(y_val, y_pred)\n",
    "\n",
    "print(f'Доля верных ответов на валидации: {acc}')"
   ]
  },
  {
   "cell_type": "markdown",
   "metadata": {},
   "source": [
    "**Вывод**\n",
    "\n",
    "Без изменения каких-либо гиперпараметров, модель, построенная на алгоритме Случайного леса, показывает лучший результат на валидации (78%). Результат для логистической регрессии и дерева решений сопоставим и равен ~71-72%.\n",
    "\n",
    "Данные результаты возьмем за основу и попробуем их улучшить с помощью настроек гиперпараметров."
   ]
  },
  {
   "cell_type": "markdown",
   "metadata": {},
   "source": [
    "## Улучшение моделей."
   ]
  },
  {
   "cell_type": "markdown",
   "metadata": {},
   "source": [
    "### Логистическая регрессия (LogisticRegression).\n",
    "\n",
    "Для улучшения логистической регрессии попробуем 2 подхода:\n",
    "1. Произведем трансформацию признаков с помощью `StandardScaler()` и `MinMaxScaler()`;\n",
    "2. Создадим полиномиальные признаки с помощью `PolynomialFeatures()`.\n",
    "\n",
    "#### Standart Scaling / MinMax Scaling"
   ]
  },
  {
   "cell_type": "markdown",
   "metadata": {},
   "source": [
    "Создадим две выборки, в которых преобразуем данные с помощью\n",
    "\n",
    "`StandardScaler()`"
   ]
  },
  {
   "cell_type": "code",
   "execution_count": 13,
   "metadata": {},
   "outputs": [],
   "source": [
    "df_train_scaler = StandardScaler().fit_transform(df_train)\n",
    "\n",
    "df_val_scaler = StandardScaler().fit_transform(df_val)"
   ]
  },
  {
   "cell_type": "markdown",
   "metadata": {},
   "source": [
    "`MinMaxScaler()`"
   ]
  },
  {
   "cell_type": "code",
   "execution_count": 14,
   "metadata": {},
   "outputs": [],
   "source": [
    "df_train_minmax = MinMaxScaler().fit_transform(df_train)\n",
    "\n",
    "df_val_minmax = MinMaxScaler().fit_transform(df_val)"
   ]
  },
  {
   "cell_type": "markdown",
   "metadata": {},
   "source": [
    "Для каждой выборки обучим логистическую регрессию."
   ]
  },
  {
   "cell_type": "markdown",
   "metadata": {},
   "source": [
    "`StandardScaler()`"
   ]
  },
  {
   "cell_type": "code",
   "execution_count": 15,
   "metadata": {},
   "outputs": [
    {
     "name": "stdout",
     "output_type": "stream",
     "text": [
      "Доля верных ответов: 0.7636080870917574\n"
     ]
    }
   ],
   "source": [
    "log_class = LogisticRegression(random_state=17)\n",
    "\n",
    "log_class.fit(df_train_scaler, y_train)\n",
    "\n",
    "y_pred = log_class.predict(df_val_scaler)\n",
    "\n",
    "acc = accuracy_score(y_val, y_pred)\n",
    "\n",
    "print(f'Доля верных ответов: {acc}')"
   ]
  },
  {
   "cell_type": "markdown",
   "metadata": {},
   "source": [
    "`MinMaxScaler()`"
   ]
  },
  {
   "cell_type": "code",
   "execution_count": 16,
   "metadata": {},
   "outputs": [
    {
     "name": "stdout",
     "output_type": "stream",
     "text": [
      "Доля верных ответов: 0.7418351477449455\n"
     ]
    }
   ],
   "source": [
    "log_class = LogisticRegression(random_state=17)\n",
    "\n",
    "log_class.fit(df_train_minmax, y_train)\n",
    "\n",
    "y_pred = log_class.predict(df_val_minmax)\n",
    "\n",
    "acc = accuracy_score(y_val, y_pred)\n",
    "\n",
    "print(f'Доля верных ответов: {acc}')"
   ]
  },
  {
   "cell_type": "markdown",
   "metadata": {},
   "source": [
    "#### PolynomialFeatures"
   ]
  },
  {
   "cell_type": "markdown",
   "metadata": {},
   "source": [
    "Теперь для того, чтобы наша модель научилась строить нелинейную разделяющую поверхность, добавим новые полиномиальные признаки с помощью `PolynomialFeatures()` и найдем степень, которая дает лучший результат на валидационной выборке."
   ]
  },
  {
   "cell_type": "code",
   "execution_count": 17,
   "metadata": {},
   "outputs": [
    {
     "name": "stdout",
     "output_type": "stream",
     "text": [
      "Доля верных ответов на тренировочной выборке равна 0.8117219917012448\n",
      "Доля верных ответов на валидации: 0.8133748055987559 и степенью полиномов 4\n"
     ]
    }
   ],
   "source": [
    "best_acc = 0.5\n",
    "best_degree = None\n",
    "best_train = None\n",
    "\n",
    "for degree in range(1,10):\n",
    "    poly = PolynomialFeatures(degree=degree)\n",
    "    \n",
    "    X_train_poly = poly.fit_transform(df_train_scaler)\n",
    "    X_val_poly = poly.fit_transform(df_val_scaler)\n",
    "    \n",
    "    log_class = LogisticRegression(random_state=17)\n",
    "    log_class.fit(X_train_poly, y_train)\n",
    "    \n",
    "    y_pred = log_class.predict(X_val_poly)\n",
    "    y_pred_train = log_class.predict(X_train_poly)\n",
    "    \n",
    "    acc = accuracy_score(y_val, y_pred)\n",
    "    acc_train = accuracy_score(y_train, y_pred_train)\n",
    "    \n",
    "    if acc > best_acc:\n",
    "        best_acc = acc\n",
    "        best_degree = degree\n",
    "        best_train = acc_train\n",
    "\n",
    "\n",
    "print(f'Доля верных ответов на тренировочной выборке равна {best_train}')\n",
    "print(f'Доля верных ответов на валидации: {best_acc} и степенью полиномов {best_degree}')"
   ]
  },
  {
   "cell_type": "markdown",
   "metadata": {},
   "source": [
    "**Вывод**\n",
    "\n",
    "С помощью преобразования исходных признаков и добавления новых полиномиальных признаков получилось увеличить долю верных ответов и довести до 81.3%"
   ]
  },
  {
   "cell_type": "markdown",
   "metadata": {},
   "source": [
    "### Дерево решений (DecisionTreeClassifier).\n",
    "\n",
    "Дерево решений имеет 3 основных гиперпараметра:\n",
    "* `max_depth` - максимальная глубина дерева;\n",
    "* `min_samples_split` - минимальное количество объектов, необходимое для разделения внутреннего узла;\n",
    "* `min_samples_leaf` - минимальное число объектов в листе."
   ]
  },
  {
   "cell_type": "code",
   "execution_count": 18,
   "metadata": {},
   "outputs": [
    {
     "name": "stdout",
     "output_type": "stream",
     "text": [
      "Доля верных ответов на тренировочной выборке равна 0.8283195020746889\n",
      "Доля верных ответов на валидации 0.8087091757387247 при глубине дерева 7,\n",
      "минимальным количеством объектов 29, числом объектов в листах 4\n"
     ]
    }
   ],
   "source": [
    "best_acc = 0.5\n",
    "best_depth_dt = None\n",
    "best_split_dt = None\n",
    "best_leaf_dt = None\n",
    "best_train = None\n",
    "\n",
    "for depth in range(1,15):\n",
    "    for split in range(2, 40, 3):\n",
    "        for leaf in range(1, 20, 3):\n",
    "            best_tree = DecisionTreeClassifier(max_depth=depth, min_samples_split=split,\n",
    "                                               min_samples_leaf=leaf, random_state=17)\n",
    "            best_tree.fit(df_train, y_train)\n",
    "            \n",
    "            y_pred = best_tree.predict(df_val)\n",
    "            y_pred_train = best_tree.predict(df_train)\n",
    "            \n",
    "            acc = accuracy_score(y_val, y_pred)\n",
    "            acc_train = accuracy_score(y_train, y_pred_train)\n",
    "            \n",
    "            if acc > best_acc:\n",
    "                best_acc = acc\n",
    "                best_depth_dt = depth\n",
    "                best_split_dt = split\n",
    "                best_leaf_dt = leaf\n",
    "                best_train = acc_train\n",
    "\n",
    "                \n",
    "print(f'Доля верных ответов на тренировочной выборке равна {best_train}')\n",
    "print(f'Доля верных ответов на валидации {best_acc} при глубине дерева {best_depth_dt},')\n",
    "print(f'минимальным количеством объектов {best_split_dt}, числом объектов в листах {best_leaf_dt}')"
   ]
  },
  {
   "cell_type": "markdown",
   "metadata": {},
   "source": [
    "**Вывод**\n",
    "\n",
    "С помощью подбора гиперпараметров удалось улучшить результат на валидации на 9.8%"
   ]
  },
  {
   "cell_type": "markdown",
   "metadata": {},
   "source": [
    "### Случайный лес (RandomForestClassifier)."
   ]
  },
  {
   "cell_type": "markdown",
   "metadata": {},
   "source": [
    "Для случайного леса будем настраивать следующие гиперпараметры:\n",
    "* `max_depth` - максимальная глубина дерева;\n",
    "* `n_estimators` - количество деревьев в лесу;\n",
    "* `min_samples_leaf` - минимальное число объектов в листе."
   ]
  },
  {
   "cell_type": "code",
   "execution_count": 19,
   "metadata": {},
   "outputs": [
    {
     "name": "stdout",
     "output_type": "stream",
     "text": [
      "Доля верных ответов на тренировочной выборке: 0.8283195020746889\n",
      "Доля верных ответов на валидации: 0.8149300155520995 при глубине дерева 10 и\n",
      "числом объектов в листах 1 с числом деревьев равным 51\n"
     ]
    }
   ],
   "source": [
    "best_acc = 0.5\n",
    "best_n_estimators = None\n",
    "best_depth_rf = None\n",
    "best_leaf_rf = None\n",
    "\n",
    "for depth in range(1,15):\n",
    "    for leaf in range(1, 15, 2):\n",
    "        for est in range(1,102,10):\n",
    "            best_random_forest = RandomForestClassifier(n_estimators=est, max_depth=depth,\n",
    "                                                        min_samples_leaf=leaf, random_state=17)\n",
    "            best_random_forest.fit(df_train, y_train)\n",
    "            \n",
    "            y_pred = best_random_forest.predict(df_val)\n",
    "            y_pred_train = best_tree.predict(df_train)\n",
    "            \n",
    "            acc_train = accuracy_score(y_train, y_pred_train)\n",
    "            acc = accuracy_score(y_val, y_pred)\n",
    "            \n",
    "            if acc > best_acc:\n",
    "                best_acc = acc\n",
    "                best_depth_rf = depth\n",
    "                best_leaf_rf = leaf\n",
    "                best_n_estimators=est\n",
    "                \n",
    "\n",
    "print(f'Доля верных ответов на тренировочной выборке: {best_train}')\n",
    "print(f'Доля верных ответов на валидации: {best_acc} при глубине дерева {best_depth_rf} и')\n",
    "print(f'числом объектов в листах {best_leaf_rf} с числом деревьев равным {best_n_estimators}')"
   ]
  },
  {
   "cell_type": "markdown",
   "metadata": {},
   "source": [
    "**Вывод**\n",
    "\n",
    "С помощью подбора гиперпараметров удалось улучшить результат на валидации на 3.4%."
   ]
  },
  {
   "cell_type": "markdown",
   "metadata": {},
   "source": [
    "## Проверка на тестовой выборке обученных моделей."
   ]
  },
  {
   "cell_type": "markdown",
   "metadata": {},
   "source": [
    "### Логистическая регрессия (LogisticRegression) + Standart Scaling + PolynomialFeatures"
   ]
  },
  {
   "cell_type": "code",
   "execution_count": 20,
   "metadata": {},
   "outputs": [],
   "source": [
    "df_train_scaler = StandardScaler().fit_transform(df_train)\n",
    "\n",
    "df_test_scaler = StandardScaler().fit_transform(df_test)"
   ]
  },
  {
   "cell_type": "code",
   "execution_count": 21,
   "metadata": {},
   "outputs": [],
   "source": [
    "poly = PolynomialFeatures(degree=best_degree)\n",
    "\n",
    "df_train_poly = poly.fit_transform(df_train_scaler)\n",
    "\n",
    "df_test_poly = poly.fit_transform(df_test_scaler)"
   ]
  },
  {
   "cell_type": "code",
   "execution_count": 22,
   "metadata": {},
   "outputs": [
    {
     "name": "stdout",
     "output_type": "stream",
     "text": [
      "Доля верных ответов на тестовой выборке: 0.8009331259720062\n"
     ]
    }
   ],
   "source": [
    "log_class = LogisticRegression(random_state=17)\n",
    "\n",
    "log_class.fit(df_train_poly, y_train)\n",
    "\n",
    "y_pred = log_class.predict(df_test_poly)\n",
    "\n",
    "acc = accuracy_score(y_test, y_pred)\n",
    "\n",
    "print(f'Доля верных ответов на тестовой выборке: {acc}')"
   ]
  },
  {
   "cell_type": "markdown",
   "metadata": {},
   "source": [
    "### Дерево решений (DecisionTreeClassifier)."
   ]
  },
  {
   "cell_type": "code",
   "execution_count": 23,
   "metadata": {},
   "outputs": [
    {
     "name": "stdout",
     "output_type": "stream",
     "text": [
      "Доля верных ответов на тестовой выборке: 0.713841368584759\n"
     ]
    }
   ],
   "source": [
    "best_tree = DecisionTreeClassifier(max_depth=best_depth_dt, min_samples_split=best_split_dt,\n",
    "                                   min_samples_leaf=best_leaf_dt, random_state=17)\n",
    "\n",
    "best_tree.fit(df_train, y_train)\n",
    "\n",
    "y_pred = tree.predict(df_test)\n",
    "\n",
    "acc = accuracy_score(y_test, y_pred)\n",
    "\n",
    "print(f'Доля верных ответов на тестовой выборке: {acc}')"
   ]
  },
  {
   "cell_type": "markdown",
   "metadata": {},
   "source": [
    "### Случайный лес (RandomForestClassifier)."
   ]
  },
  {
   "cell_type": "code",
   "execution_count": 24,
   "metadata": {},
   "outputs": [
    {
     "name": "stdout",
     "output_type": "stream",
     "text": [
      "Доля верных ответов на тестовой выборке: 0.80248833592535\n"
     ]
    }
   ],
   "source": [
    "best_random_forest = RandomForestClassifier(n_estimators=best_n_estimators, max_depth=best_depth_rf,\n",
    "                                            min_samples_leaf=best_leaf_rf, random_state=17)\n",
    "\n",
    "best_random_forest.fit(df_train, y_train)\n",
    "\n",
    "y_pred = best_random_forest.predict(df_test)\n",
    "\n",
    "acc = accuracy_score(y_test, y_pred)\n",
    "\n",
    "print(f'Доля верных ответов на тестовой выборке: {acc}')"
   ]
  },
  {
   "cell_type": "markdown",
   "metadata": {},
   "source": [
    "**Вывод**\n",
    "\n",
    "По результатам на новых данных можно сказать следующее:\n",
    "* Хуже всего себя показало Дерево решений. Результат на тестовой выборке - 71.3%, на валидации - 80.8%, что говорит о том, что дерево переобучилось и плохо справилось с новыми данными;\n",
    "* Логистическая регрессия и Случайный лес показали схожие результаты (79,8% и 80.2% на тестовых данных соответственно);\n",
    "* Для логистической регрессии потребовалось преобразовывать данные, а для Случайного леса потребовалась настройка гиперпараметров."
   ]
  },
  {
   "cell_type": "markdown",
   "metadata": {},
   "source": [
    "## Проверка моделей на адекватность.\n",
    "\n",
    "Для проверки моделей на адекватность создадим `Dummy` классификатор из библиотеки `sklearn`, который просто предсказывает наиболее часто встречающейся класс."
   ]
  },
  {
   "cell_type": "code",
   "execution_count": 25,
   "metadata": {},
   "outputs": [
    {
     "name": "stdout",
     "output_type": "stream",
     "text": [
      "Доля верных ответов на тестовой выборке: 0.6982892690513219\n"
     ]
    }
   ],
   "source": [
    "dummy_clf = DummyClassifier(strategy=\"most_frequent\", random_state=17)\n",
    "\n",
    "dummy_clf.fit(df_train, y_train)\n",
    "\n",
    "y_pred = dummy_clf.predict(df_test)\n",
    "\n",
    "acc = accuracy_score(y_test, y_pred)\n",
    "\n",
    "print(f'Доля верных ответов на тестовой выборке: {acc}')"
   ]
  },
  {
   "cell_type": "markdown",
   "metadata": {},
   "source": [
    "## Вывод.\n",
    "\n",
    "В данном проекте были построены модели для задачи классификации, которые подбирают подходящий тариф.\n",
    "Были рассмотрены 3 модели:\n",
    "* Дерево решений;\n",
    "* Логистическая регрессия;\n",
    "* Случайный лес.\n",
    "\n",
    "Наибольший прирост по метрике `accuracy` показала Логистическая регрессия (в baseline - 72%, тест - 79,8%). Но для этого потребовалось изменять исходные признаки, а так же добавлять новые признаки.\n",
    "\n",
    "После настройки гиперпараметров оказалось, что Дерево решений переобучилось и плохо справилось с новыми данными (80.9% на валидации после настройки гиперпараметров и 71.3% на тестовой выборке).\n",
    "\n",
    "Настройка гиперпараметров для Случайного леса не дала ощутимых результатов, как у Логистической регрессии (81.4% на валидации и 80.2% на тестовых данных). Данный классификатор оказался более устойчивым к переобучению, чем Дерево решений.\n",
    "\n",
    "Так же был построен `Dummy` классификатор, который предсказывает наиболее часто встречающейся класс. Его результат на тестовой выборке оказался равен 69.8%. Доля верных ответов у всех моделей оказалась выше, чем у этого классификатора. Значит, что модели реально нашли какие-то зависимости в данных, а не просто *угадывали* ответ."
   ]
  },
  {
   "cell_type": "code",
   "execution_count": null,
   "metadata": {},
   "outputs": [],
   "source": []
  }
 ],
 "metadata": {
  "ExecuteTimeLog": [
   {
    "duration": 1191,
    "start_time": "2022-03-12T14:18:07.860Z"
   },
   {
    "duration": 13,
    "start_time": "2022-03-12T14:29:01.769Z"
   },
   {
    "duration": 15,
    "start_time": "2022-03-12T14:29:32.270Z"
   },
   {
    "duration": 7,
    "start_time": "2022-03-12T14:29:42.430Z"
   },
   {
    "duration": 53,
    "start_time": "2022-03-12T14:34:37.129Z"
   },
   {
    "duration": 6,
    "start_time": "2022-03-12T14:34:39.724Z"
   },
   {
    "duration": 406,
    "start_time": "2022-03-12T14:42:55.111Z"
   },
   {
    "duration": 281,
    "start_time": "2022-03-12T14:43:12.346Z"
   },
   {
    "duration": 4,
    "start_time": "2022-03-12T14:50:18.313Z"
   },
   {
    "duration": 728,
    "start_time": "2022-03-12T14:50:47.940Z"
   },
   {
    "duration": 3,
    "start_time": "2022-03-12T14:51:00.748Z"
   },
   {
    "duration": 474,
    "start_time": "2022-03-12T14:51:01.339Z"
   },
   {
    "duration": 599,
    "start_time": "2022-03-12T14:51:24.273Z"
   },
   {
    "duration": 519,
    "start_time": "2022-03-12T14:51:36.473Z"
   },
   {
    "duration": 481,
    "start_time": "2022-03-12T14:52:58.532Z"
   },
   {
    "duration": 541,
    "start_time": "2022-03-12T14:53:05.859Z"
   },
   {
    "duration": 477,
    "start_time": "2022-03-12T14:53:49.579Z"
   },
   {
    "duration": 625,
    "start_time": "2022-03-12T14:54:38.692Z"
   },
   {
    "duration": 621,
    "start_time": "2022-03-12T14:54:59.232Z"
   },
   {
    "duration": 541,
    "start_time": "2022-03-12T14:55:38.881Z"
   },
   {
    "duration": 512,
    "start_time": "2022-03-12T14:56:09.087Z"
   },
   {
    "duration": 568,
    "start_time": "2022-03-12T14:56:16.352Z"
   },
   {
    "duration": 448,
    "start_time": "2022-03-12T14:56:32.376Z"
   },
   {
    "duration": 522,
    "start_time": "2022-03-12T14:56:33.762Z"
   },
   {
    "duration": 501,
    "start_time": "2022-03-12T14:56:35.104Z"
   },
   {
    "duration": 8,
    "start_time": "2022-03-12T15:06:28.643Z"
   },
   {
    "duration": 5,
    "start_time": "2022-03-12T15:13:22.637Z"
   },
   {
    "duration": 19,
    "start_time": "2022-03-12T15:13:40.870Z"
   },
   {
    "duration": 7,
    "start_time": "2022-03-12T15:13:53.509Z"
   },
   {
    "duration": 7,
    "start_time": "2022-03-12T15:14:57.788Z"
   },
   {
    "duration": 6,
    "start_time": "2022-03-12T15:14:58.238Z"
   },
   {
    "duration": 6,
    "start_time": "2022-03-12T15:14:58.798Z"
   },
   {
    "duration": 5,
    "start_time": "2022-03-12T15:15:47.174Z"
   },
   {
    "duration": 7,
    "start_time": "2022-03-12T15:15:47.771Z"
   },
   {
    "duration": 7,
    "start_time": "2022-03-12T15:15:48.693Z"
   },
   {
    "duration": 6,
    "start_time": "2022-03-12T15:15:49.316Z"
   },
   {
    "duration": 7,
    "start_time": "2022-03-12T15:15:49.870Z"
   },
   {
    "duration": 4,
    "start_time": "2022-03-12T15:15:54.244Z"
   },
   {
    "duration": 7,
    "start_time": "2022-03-12T15:15:54.783Z"
   },
   {
    "duration": 8,
    "start_time": "2022-03-12T15:15:55.564Z"
   },
   {
    "duration": 6,
    "start_time": "2022-03-12T15:15:56.176Z"
   },
   {
    "duration": 6,
    "start_time": "2022-03-12T15:15:56.822Z"
   },
   {
    "duration": 6,
    "start_time": "2022-03-12T15:20:46.459Z"
   },
   {
    "duration": 44,
    "start_time": "2022-03-12T15:25:24.484Z"
   },
   {
    "duration": 9,
    "start_time": "2022-03-12T15:26:58.814Z"
   },
   {
    "duration": 14,
    "start_time": "2022-03-12T15:28:02.450Z"
   },
   {
    "duration": 15,
    "start_time": "2022-03-12T15:28:17.471Z"
   },
   {
    "duration": 15,
    "start_time": "2022-03-12T15:29:04.935Z"
   },
   {
    "duration": 44,
    "start_time": "2022-03-12T15:29:18.501Z"
   },
   {
    "duration": 6,
    "start_time": "2022-03-12T15:56:41.299Z"
   },
   {
    "duration": 3,
    "start_time": "2022-03-12T16:00:20.054Z"
   },
   {
    "duration": 11,
    "start_time": "2022-03-12T16:01:10.131Z"
   },
   {
    "duration": 5,
    "start_time": "2022-03-12T16:01:48.966Z"
   },
   {
    "duration": 5,
    "start_time": "2022-03-12T16:01:54.790Z"
   },
   {
    "duration": 211,
    "start_time": "2022-03-12T16:02:37.634Z"
   },
   {
    "duration": 3,
    "start_time": "2022-03-12T16:02:43.140Z"
   },
   {
    "duration": 3,
    "start_time": "2022-03-12T16:02:45.938Z"
   },
   {
    "duration": 4,
    "start_time": "2022-03-12T16:02:50.636Z"
   },
   {
    "duration": 12,
    "start_time": "2022-03-12T16:03:53.402Z"
   },
   {
    "duration": 130,
    "start_time": "2022-03-12T16:04:15.236Z"
   },
   {
    "duration": 4,
    "start_time": "2022-03-12T16:04:45.850Z"
   },
   {
    "duration": 193,
    "start_time": "2022-03-12T16:05:51.481Z"
   },
   {
    "duration": 3,
    "start_time": "2022-03-12T16:06:54.092Z"
   },
   {
    "duration": 203,
    "start_time": "2022-03-12T16:07:04.945Z"
   },
   {
    "duration": 12,
    "start_time": "2022-03-12T16:07:27.168Z"
   },
   {
    "duration": 3,
    "start_time": "2022-03-12T16:07:35.668Z"
   },
   {
    "duration": 226,
    "start_time": "2022-03-12T16:07:37.396Z"
   },
   {
    "duration": 16,
    "start_time": "2022-03-12T16:09:33.936Z"
   },
   {
    "duration": 9,
    "start_time": "2022-03-12T16:09:47.264Z"
   },
   {
    "duration": 5,
    "start_time": "2022-03-12T16:10:07.710Z"
   },
   {
    "duration": 124,
    "start_time": "2022-03-12T16:10:27.097Z"
   },
   {
    "duration": 3,
    "start_time": "2022-03-12T16:10:27.988Z"
   },
   {
    "duration": 10,
    "start_time": "2022-03-12T16:10:28.399Z"
   },
   {
    "duration": 4,
    "start_time": "2022-03-12T16:10:28.699Z"
   },
   {
    "duration": 137,
    "start_time": "2022-03-12T16:10:34.241Z"
   },
   {
    "duration": 3,
    "start_time": "2022-03-12T16:10:34.860Z"
   },
   {
    "duration": 10,
    "start_time": "2022-03-12T16:10:35.324Z"
   },
   {
    "duration": 6,
    "start_time": "2022-03-12T16:10:35.611Z"
   },
   {
    "duration": 2,
    "start_time": "2022-03-12T16:10:36.347Z"
   },
   {
    "duration": 122,
    "start_time": "2022-03-12T16:10:40.407Z"
   },
   {
    "duration": 3,
    "start_time": "2022-03-12T16:10:40.876Z"
   },
   {
    "duration": 9,
    "start_time": "2022-03-12T16:10:41.170Z"
   },
   {
    "duration": 5,
    "start_time": "2022-03-12T16:10:41.388Z"
   },
   {
    "duration": 2,
    "start_time": "2022-03-12T16:10:41.616Z"
   },
   {
    "duration": 4,
    "start_time": "2022-03-12T16:10:56.111Z"
   },
   {
    "duration": 127,
    "start_time": "2022-03-12T16:11:23.622Z"
   },
   {
    "duration": 3,
    "start_time": "2022-03-12T16:11:24.374Z"
   },
   {
    "duration": 9,
    "start_time": "2022-03-12T16:11:24.924Z"
   },
   {
    "duration": 5,
    "start_time": "2022-03-12T16:11:25.355Z"
   },
   {
    "duration": 3,
    "start_time": "2022-03-12T16:11:26.278Z"
   },
   {
    "duration": 123,
    "start_time": "2022-03-12T16:11:33.620Z"
   },
   {
    "duration": 3,
    "start_time": "2022-03-12T16:11:34.174Z"
   },
   {
    "duration": 9,
    "start_time": "2022-03-12T16:11:34.517Z"
   },
   {
    "duration": 5,
    "start_time": "2022-03-12T16:11:34.725Z"
   },
   {
    "duration": 2,
    "start_time": "2022-03-12T16:11:34.969Z"
   },
   {
    "duration": 75,
    "start_time": "2022-03-12T16:12:58.831Z"
   },
   {
    "duration": 7,
    "start_time": "2022-03-12T16:13:02.577Z"
   },
   {
    "duration": 120,
    "start_time": "2022-03-12T16:13:09.904Z"
   },
   {
    "duration": 7,
    "start_time": "2022-03-12T16:13:10.962Z"
   },
   {
    "duration": 127,
    "start_time": "2022-03-12T16:13:18.860Z"
   },
   {
    "duration": 10,
    "start_time": "2022-03-12T16:13:19.472Z"
   },
   {
    "duration": 3,
    "start_time": "2022-03-12T16:13:19.944Z"
   },
   {
    "duration": 697,
    "start_time": "2022-03-12T16:13:22.777Z"
   },
   {
    "duration": 189,
    "start_time": "2022-03-12T16:13:23.698Z"
   },
   {
    "duration": 127,
    "start_time": "2022-03-12T16:13:27.981Z"
   },
   {
    "duration": 8,
    "start_time": "2022-03-12T16:13:28.945Z"
   },
   {
    "duration": 3,
    "start_time": "2022-03-12T16:13:30.009Z"
   },
   {
    "duration": 123,
    "start_time": "2022-03-12T16:13:31.701Z"
   },
   {
    "duration": 11,
    "start_time": "2022-03-12T16:13:32.189Z"
   },
   {
    "duration": 3,
    "start_time": "2022-03-12T16:13:32.556Z"
   },
   {
    "duration": 122,
    "start_time": "2022-03-12T16:13:41.739Z"
   },
   {
    "duration": 12,
    "start_time": "2022-03-12T16:13:42.764Z"
   },
   {
    "duration": 3,
    "start_time": "2022-03-12T16:13:43.512Z"
   },
   {
    "duration": 125,
    "start_time": "2022-03-12T16:13:46.148Z"
   },
   {
    "duration": 7,
    "start_time": "2022-03-12T16:13:46.884Z"
   },
   {
    "duration": 3,
    "start_time": "2022-03-12T16:13:47.380Z"
   },
   {
    "duration": 48,
    "start_time": "2022-03-12T16:14:14.232Z"
   },
   {
    "duration": 571,
    "start_time": "2022-03-12T16:14:14.792Z"
   },
   {
    "duration": 8,
    "start_time": "2022-03-12T16:14:16.150Z"
   },
   {
    "duration": 367,
    "start_time": "2022-03-12T16:14:21.912Z"
   },
   {
    "duration": 11,
    "start_time": "2022-03-12T16:14:22.563Z"
   },
   {
    "duration": 358,
    "start_time": "2022-03-12T16:14:26.006Z"
   },
   {
    "duration": 17,
    "start_time": "2022-03-12T16:14:26.778Z"
   },
   {
    "duration": 492,
    "start_time": "2022-03-12T16:14:30.419Z"
   },
   {
    "duration": 11,
    "start_time": "2022-03-12T16:14:31.032Z"
   },
   {
    "duration": 355,
    "start_time": "2022-03-12T16:14:35.991Z"
   },
   {
    "duration": 8,
    "start_time": "2022-03-12T16:14:36.674Z"
   },
   {
    "duration": 362,
    "start_time": "2022-03-12T16:14:40.625Z"
   },
   {
    "duration": 8,
    "start_time": "2022-03-12T16:14:41.711Z"
   },
   {
    "duration": 450,
    "start_time": "2022-03-12T16:14:44.056Z"
   },
   {
    "duration": 9,
    "start_time": "2022-03-12T16:14:44.632Z"
   },
   {
    "duration": 409,
    "start_time": "2022-03-12T16:14:47.512Z"
   },
   {
    "duration": 9,
    "start_time": "2022-03-12T16:14:48.395Z"
   },
   {
    "duration": 431,
    "start_time": "2022-03-12T16:14:51.598Z"
   },
   {
    "duration": 12,
    "start_time": "2022-03-12T16:14:52.352Z"
   },
   {
    "duration": 5,
    "start_time": "2022-03-12T16:15:58.603Z"
   },
   {
    "duration": 21,
    "start_time": "2022-03-12T16:16:02.168Z"
   },
   {
    "duration": 4,
    "start_time": "2022-03-12T16:16:02.756Z"
   },
   {
    "duration": 444,
    "start_time": "2022-03-12T16:16:05.910Z"
   },
   {
    "duration": 87,
    "start_time": "2022-03-12T16:16:07.374Z"
   },
   {
    "duration": 2,
    "start_time": "2022-03-12T16:16:07.990Z"
   },
   {
    "duration": 21,
    "start_time": "2022-03-12T16:16:08.396Z"
   },
   {
    "duration": 5,
    "start_time": "2022-03-12T16:16:08.740Z"
   },
   {
    "duration": 6,
    "start_time": "2022-03-12T16:16:15.222Z"
   },
   {
    "duration": 51,
    "start_time": "2022-03-12T16:16:15.840Z"
   },
   {
    "duration": 5,
    "start_time": "2022-03-12T16:16:16.223Z"
   },
   {
    "duration": 3,
    "start_time": "2022-03-12T16:16:16.685Z"
   },
   {
    "duration": 5,
    "start_time": "2022-03-12T16:16:17.094Z"
   },
   {
    "duration": 4,
    "start_time": "2022-03-12T16:16:19.731Z"
   },
   {
    "duration": 38,
    "start_time": "2022-03-12T16:16:20.397Z"
   },
   {
    "duration": 6,
    "start_time": "2022-03-12T16:16:20.925Z"
   },
   {
    "duration": 3,
    "start_time": "2022-03-12T16:16:21.762Z"
   },
   {
    "duration": 5,
    "start_time": "2022-03-12T16:16:22.106Z"
   },
   {
    "duration": 6,
    "start_time": "2022-03-12T16:16:22.402Z"
   },
   {
    "duration": 3,
    "start_time": "2022-03-12T16:16:25.866Z"
   },
   {
    "duration": 18,
    "start_time": "2022-03-12T16:16:26.456Z"
   },
   {
    "duration": 22,
    "start_time": "2022-03-12T16:16:26.838Z"
   },
   {
    "duration": 3,
    "start_time": "2022-03-12T16:16:27.724Z"
   },
   {
    "duration": 4,
    "start_time": "2022-03-12T16:16:28.094Z"
   },
   {
    "duration": 5,
    "start_time": "2022-03-12T16:16:28.414Z"
   },
   {
    "duration": 3,
    "start_time": "2022-03-12T16:16:29.123Z"
   },
   {
    "duration": 4,
    "start_time": "2022-03-12T16:16:31.575Z"
   },
   {
    "duration": 39,
    "start_time": "2022-03-12T16:16:32.103Z"
   },
   {
    "duration": 7,
    "start_time": "2022-03-12T16:16:32.656Z"
   },
   {
    "duration": 3,
    "start_time": "2022-03-12T16:16:33.148Z"
   },
   {
    "duration": 5,
    "start_time": "2022-03-12T16:16:33.523Z"
   },
   {
    "duration": 4,
    "start_time": "2022-03-12T16:16:33.748Z"
   },
   {
    "duration": 3,
    "start_time": "2022-03-12T16:16:34.016Z"
   },
   {
    "duration": 37,
    "start_time": "2022-03-12T16:17:17.887Z"
   },
   {
    "duration": 7,
    "start_time": "2022-03-12T16:17:18.479Z"
   },
   {
    "duration": 3,
    "start_time": "2022-03-12T16:17:19.099Z"
   },
   {
    "duration": 5,
    "start_time": "2022-03-12T16:17:19.452Z"
   },
   {
    "duration": 5,
    "start_time": "2022-03-12T16:17:19.663Z"
   },
   {
    "duration": 3,
    "start_time": "2022-03-12T16:17:19.822Z"
   },
   {
    "duration": 38,
    "start_time": "2022-03-12T16:17:22.937Z"
   },
   {
    "duration": 8,
    "start_time": "2022-03-12T16:17:23.582Z"
   },
   {
    "duration": 4,
    "start_time": "2022-03-12T16:17:24.015Z"
   },
   {
    "duration": 4,
    "start_time": "2022-03-12T16:17:24.261Z"
   },
   {
    "duration": 4,
    "start_time": "2022-03-12T16:17:24.471Z"
   },
   {
    "duration": 2,
    "start_time": "2022-03-12T16:17:24.656Z"
   },
   {
    "duration": 5,
    "start_time": "2022-03-12T16:17:31.099Z"
   },
   {
    "duration": 48,
    "start_time": "2022-03-12T16:17:31.638Z"
   },
   {
    "duration": 6,
    "start_time": "2022-03-12T16:17:32.338Z"
   },
   {
    "duration": 3,
    "start_time": "2022-03-12T16:17:33.574Z"
   },
   {
    "duration": 9,
    "start_time": "2022-03-12T16:17:33.579Z"
   },
   {
    "duration": 5,
    "start_time": "2022-03-12T16:17:33.760Z"
   },
   {
    "duration": 2,
    "start_time": "2022-03-12T16:17:33.859Z"
   },
   {
    "duration": 4,
    "start_time": "2022-03-12T16:17:38.568Z"
   },
   {
    "duration": 17,
    "start_time": "2022-03-12T16:17:39.098Z"
   },
   {
    "duration": 7,
    "start_time": "2022-03-12T16:17:39.999Z"
   },
   {
    "duration": 3,
    "start_time": "2022-03-12T16:17:40.621Z"
   },
   {
    "duration": 4,
    "start_time": "2022-03-12T16:17:40.981Z"
   },
   {
    "duration": 5,
    "start_time": "2022-03-12T16:17:41.159Z"
   },
   {
    "duration": 2,
    "start_time": "2022-03-12T16:17:41.303Z"
   },
   {
    "duration": 5,
    "start_time": "2022-03-12T16:17:42.494Z"
   },
   {
    "duration": 4,
    "start_time": "2022-03-12T16:17:46.688Z"
   },
   {
    "duration": 38,
    "start_time": "2022-03-12T16:17:47.221Z"
   },
   {
    "duration": 7,
    "start_time": "2022-03-12T16:17:47.766Z"
   },
   {
    "duration": 3,
    "start_time": "2022-03-12T16:17:48.375Z"
   },
   {
    "duration": 5,
    "start_time": "2022-03-12T16:17:48.551Z"
   },
   {
    "duration": 5,
    "start_time": "2022-03-12T16:17:48.760Z"
   },
   {
    "duration": 3,
    "start_time": "2022-03-12T16:17:48.840Z"
   },
   {
    "duration": 4,
    "start_time": "2022-03-12T16:17:50.092Z"
   },
   {
    "duration": 8,
    "start_time": "2022-03-12T16:23:54.369Z"
   },
   {
    "duration": 58,
    "start_time": "2022-03-12T16:23:55.006Z"
   },
   {
    "duration": 8,
    "start_time": "2022-03-12T16:23:56.044Z"
   },
   {
    "duration": 5,
    "start_time": "2022-03-12T16:24:00.848Z"
   },
   {
    "duration": 54,
    "start_time": "2022-03-12T16:24:01.374Z"
   },
   {
    "duration": 6,
    "start_time": "2022-03-12T16:24:01.786Z"
   },
   {
    "duration": 4,
    "start_time": "2022-03-12T16:24:04.855Z"
   },
   {
    "duration": 6,
    "start_time": "2022-03-12T16:24:07.528Z"
   },
   {
    "duration": 38,
    "start_time": "2022-03-12T16:24:07.949Z"
   },
   {
    "duration": 7,
    "start_time": "2022-03-12T16:24:08.682Z"
   },
   {
    "duration": 3,
    "start_time": "2022-03-12T16:24:10.689Z"
   },
   {
    "duration": 4,
    "start_time": "2022-03-12T16:24:11.094Z"
   },
   {
    "duration": 5,
    "start_time": "2022-03-12T16:24:12.656Z"
   },
   {
    "duration": 38,
    "start_time": "2022-03-12T16:45:56.003Z"
   },
   {
    "duration": 12,
    "start_time": "2022-03-12T16:45:56.834Z"
   },
   {
    "duration": 37,
    "start_time": "2022-03-12T16:46:01.096Z"
   },
   {
    "duration": 7,
    "start_time": "2022-03-12T16:46:01.611Z"
   },
   {
    "duration": 40,
    "start_time": "2022-03-12T16:46:04.654Z"
   },
   {
    "duration": 5,
    "start_time": "2022-03-12T16:46:05.115Z"
   },
   {
    "duration": 41,
    "start_time": "2022-03-12T16:46:08.048Z"
   },
   {
    "duration": 6,
    "start_time": "2022-03-12T16:46:08.555Z"
   },
   {
    "duration": 38,
    "start_time": "2022-03-12T16:46:12.471Z"
   },
   {
    "duration": 6,
    "start_time": "2022-03-12T16:46:12.927Z"
   },
   {
    "duration": 3,
    "start_time": "2022-03-12T16:46:13.328Z"
   },
   {
    "duration": 38,
    "start_time": "2022-03-12T16:46:16.907Z"
   },
   {
    "duration": 6,
    "start_time": "2022-03-12T16:46:17.402Z"
   },
   {
    "duration": 3,
    "start_time": "2022-03-12T16:46:17.942Z"
   },
   {
    "duration": 4,
    "start_time": "2022-03-12T16:47:08.422Z"
   },
   {
    "duration": 5,
    "start_time": "2022-03-12T16:47:10.455Z"
   },
   {
    "duration": 3,
    "start_time": "2022-03-12T16:47:34.363Z"
   },
   {
    "duration": 7,
    "start_time": "2022-03-12T16:47:35.047Z"
   },
   {
    "duration": 5,
    "start_time": "2022-03-12T16:47:35.542Z"
   },
   {
    "duration": 9,
    "start_time": "2022-03-12T16:52:43.768Z"
   },
   {
    "duration": 105,
    "start_time": "2022-03-12T16:52:44.333Z"
   },
   {
    "duration": 6,
    "start_time": "2022-03-12T16:52:44.812Z"
   },
   {
    "duration": 3,
    "start_time": "2022-03-12T16:52:45.350Z"
   },
   {
    "duration": 9,
    "start_time": "2022-03-12T16:52:45.899Z"
   },
   {
    "duration": 5,
    "start_time": "2022-03-12T16:52:46.066Z"
   },
   {
    "duration": 18,
    "start_time": "2022-03-12T16:52:49.456Z"
   },
   {
    "duration": 135,
    "start_time": "2022-03-12T16:52:49.955Z"
   },
   {
    "duration": 12,
    "start_time": "2022-03-12T16:52:50.403Z"
   },
   {
    "duration": 3,
    "start_time": "2022-03-12T16:52:50.906Z"
   },
   {
    "duration": 10,
    "start_time": "2022-03-12T16:52:51.159Z"
   },
   {
    "duration": 5,
    "start_time": "2022-03-12T16:52:51.360Z"
   },
   {
    "duration": 3,
    "start_time": "2022-03-12T16:52:51.499Z"
   },
   {
    "duration": 4,
    "start_time": "2022-03-12T16:52:51.665Z"
   },
   {
    "duration": 45,
    "start_time": "2022-03-12T16:52:55.334Z"
   },
   {
    "duration": 347,
    "start_time": "2022-03-12T16:52:55.869Z"
   },
   {
    "duration": 10,
    "start_time": "2022-03-12T16:52:56.295Z"
   },
   {
    "duration": 3,
    "start_time": "2022-03-12T16:52:59.251Z"
   },
   {
    "duration": 26,
    "start_time": "2022-03-12T16:52:59.804Z"
   },
   {
    "duration": 5,
    "start_time": "2022-03-12T16:53:00.315Z"
   },
   {
    "duration": 4,
    "start_time": "2022-03-12T16:53:03.535Z"
   },
   {
    "duration": 132,
    "start_time": "2022-03-12T16:53:04.005Z"
   },
   {
    "duration": 12,
    "start_time": "2022-03-12T16:53:04.372Z"
   },
   {
    "duration": 5,
    "start_time": "2022-03-12T16:53:04.965Z"
   },
   {
    "duration": 5,
    "start_time": "2022-03-12T16:53:05.253Z"
   },
   {
    "duration": 7,
    "start_time": "2022-03-12T16:53:05.460Z"
   },
   {
    "duration": 3,
    "start_time": "2022-03-12T16:53:05.597Z"
   },
   {
    "duration": 4,
    "start_time": "2022-03-12T16:53:09.310Z"
   },
   {
    "duration": 24,
    "start_time": "2022-03-12T16:53:09.770Z"
   },
   {
    "duration": 9,
    "start_time": "2022-03-12T16:53:10.259Z"
   },
   {
    "duration": 4,
    "start_time": "2022-03-12T16:53:10.482Z"
   },
   {
    "duration": 5,
    "start_time": "2022-03-12T16:53:10.667Z"
   },
   {
    "duration": 5,
    "start_time": "2022-03-12T16:53:10.860Z"
   },
   {
    "duration": 3,
    "start_time": "2022-03-12T16:53:10.990Z"
   },
   {
    "duration": 4,
    "start_time": "2022-03-12T16:53:11.132Z"
   },
   {
    "duration": 5,
    "start_time": "2022-03-12T16:53:13.490Z"
   },
   {
    "duration": 39,
    "start_time": "2022-03-12T16:53:13.892Z"
   },
   {
    "duration": 6,
    "start_time": "2022-03-12T16:53:14.111Z"
   },
   {
    "duration": 4,
    "start_time": "2022-03-12T16:53:14.433Z"
   },
   {
    "duration": 4,
    "start_time": "2022-03-12T16:53:14.639Z"
   },
   {
    "duration": 11,
    "start_time": "2022-03-12T17:39:38.972Z"
   },
   {
    "duration": 7,
    "start_time": "2022-03-12T17:40:07.848Z"
   },
   {
    "duration": 4,
    "start_time": "2022-03-12T17:40:29.735Z"
   },
   {
    "duration": 4,
    "start_time": "2022-03-12T17:41:06.755Z"
   },
   {
    "duration": 5,
    "start_time": "2022-03-12T17:45:59.707Z"
   },
   {
    "duration": 16,
    "start_time": "2022-03-12T17:46:05.565Z"
   },
   {
    "duration": 3,
    "start_time": "2022-03-12T17:48:33.524Z"
   },
   {
    "duration": 17,
    "start_time": "2022-03-12T17:49:08.293Z"
   },
   {
    "duration": 9,
    "start_time": "2022-03-12T17:49:23.056Z"
   },
   {
    "duration": 11,
    "start_time": "2022-03-12T17:50:03.136Z"
   },
   {
    "duration": 7,
    "start_time": "2022-03-12T17:50:08.547Z"
   },
   {
    "duration": 7,
    "start_time": "2022-03-12T17:50:16.311Z"
   },
   {
    "duration": 4,
    "start_time": "2022-03-12T17:50:19.807Z"
   },
   {
    "duration": 11,
    "start_time": "2022-03-12T17:50:23.685Z"
   },
   {
    "duration": 5,
    "start_time": "2022-03-12T17:50:30.813Z"
   },
   {
    "duration": 7,
    "start_time": "2022-03-12T17:51:12.353Z"
   },
   {
    "duration": 4,
    "start_time": "2022-03-12T17:51:14.982Z"
   },
   {
    "duration": 8,
    "start_time": "2022-03-12T17:51:41.856Z"
   },
   {
    "duration": 5,
    "start_time": "2022-03-12T17:54:20.646Z"
   },
   {
    "duration": 5,
    "start_time": "2022-03-12T17:54:28.788Z"
   },
   {
    "duration": 4,
    "start_time": "2022-03-12T17:55:22.384Z"
   },
   {
    "duration": 4,
    "start_time": "2022-03-12T17:55:24.887Z"
   },
   {
    "duration": 4,
    "start_time": "2022-03-12T17:55:28.729Z"
   },
   {
    "duration": 4,
    "start_time": "2022-03-12T17:55:35.612Z"
   },
   {
    "duration": 3,
    "start_time": "2022-03-12T17:55:40.171Z"
   },
   {
    "duration": 6,
    "start_time": "2022-03-12T17:55:58.211Z"
   },
   {
    "duration": 63,
    "start_time": "2022-03-12T17:56:19.602Z"
   },
   {
    "duration": 4,
    "start_time": "2022-03-12T17:56:26.904Z"
   },
   {
    "duration": 19,
    "start_time": "2022-03-12T17:56:27.396Z"
   },
   {
    "duration": 9,
    "start_time": "2022-03-12T17:56:29.879Z"
   },
   {
    "duration": 211,
    "start_time": "2022-03-12T17:56:30.377Z"
   },
   {
    "duration": 13,
    "start_time": "2022-03-12T17:56:34.161Z"
   },
   {
    "duration": 588,
    "start_time": "2022-03-12T17:56:34.712Z"
   },
   {
    "duration": 20,
    "start_time": "2022-03-12T17:56:38.694Z"
   },
   {
    "duration": 1182,
    "start_time": "2022-03-12T17:56:39.578Z"
   },
   {
    "duration": 63,
    "start_time": "2022-03-12T17:56:43.489Z"
   },
   {
    "duration": 3462,
    "start_time": "2022-03-12T17:56:44.127Z"
   },
   {
    "duration": 13,
    "start_time": "2022-03-12T17:56:51.754Z"
   },
   {
    "duration": 569,
    "start_time": "2022-03-12T17:56:52.291Z"
   },
   {
    "duration": 6,
    "start_time": "2022-03-12T17:56:55.563Z"
   },
   {
    "duration": 13,
    "start_time": "2022-03-12T17:56:56.119Z"
   },
   {
    "duration": 6,
    "start_time": "2022-03-12T17:56:58.919Z"
   },
   {
    "duration": 115,
    "start_time": "2022-03-12T17:56:59.544Z"
   },
   {
    "duration": 6,
    "start_time": "2022-03-12T17:57:01.906Z"
   },
   {
    "duration": 251,
    "start_time": "2022-03-12T17:57:02.418Z"
   },
   {
    "duration": 8,
    "start_time": "2022-03-12T17:57:05.449Z"
   },
   {
    "duration": 489,
    "start_time": "2022-03-12T17:57:06.170Z"
   },
   {
    "duration": 13,
    "start_time": "2022-03-12T17:57:09.291Z"
   },
   {
    "duration": 636,
    "start_time": "2022-03-12T17:57:09.930Z"
   },
   {
    "duration": 19,
    "start_time": "2022-03-12T17:57:12.875Z"
   },
   {
    "duration": 1163,
    "start_time": "2022-03-12T17:57:13.397Z"
   },
   {
    "duration": 32,
    "start_time": "2022-03-12T17:57:17.181Z"
   },
   {
    "duration": 1789,
    "start_time": "2022-03-12T17:57:17.709Z"
   },
   {
    "duration": 50,
    "start_time": "2022-03-12T17:57:22.260Z"
   },
   {
    "duration": 2556,
    "start_time": "2022-03-12T17:57:22.814Z"
   },
   {
    "duration": 6,
    "start_time": "2022-03-12T17:57:29.986Z"
   },
   {
    "duration": 88,
    "start_time": "2022-03-12T17:57:30.472Z"
   },
   {
    "duration": 6,
    "start_time": "2022-03-12T17:57:47.206Z"
   },
   {
    "duration": 38,
    "start_time": "2022-03-12T17:57:56.628Z"
   },
   {
    "duration": 34,
    "start_time": "2022-03-12T17:58:00.310Z"
   },
   {
    "duration": 34,
    "start_time": "2022-03-12T17:58:03.916Z"
   },
   {
    "duration": 121,
    "start_time": "2022-03-12T17:58:09.140Z"
   },
   {
    "duration": 130,
    "start_time": "2022-03-12T17:58:12.629Z"
   },
   {
    "duration": 19,
    "start_time": "2022-03-12T17:58:16.239Z"
   },
   {
    "duration": 35,
    "start_time": "2022-03-12T17:58:20.506Z"
   },
   {
    "duration": 34,
    "start_time": "2022-03-12T17:58:23.215Z"
   },
   {
    "duration": 39,
    "start_time": "2022-03-12T17:59:09.725Z"
   },
   {
    "duration": 52,
    "start_time": "2022-03-12T17:59:13.623Z"
   },
   {
    "duration": 54,
    "start_time": "2022-03-12T17:59:16.681Z"
   },
   {
    "duration": 55,
    "start_time": "2022-03-12T17:59:20.208Z"
   },
   {
    "duration": 34,
    "start_time": "2022-03-12T17:59:24.150Z"
   },
   {
    "duration": 88,
    "start_time": "2022-03-12T17:59:29.074Z"
   },
   {
    "duration": 32,
    "start_time": "2022-03-12T17:59:31.504Z"
   },
   {
    "duration": 70,
    "start_time": "2022-03-12T17:59:35.093Z"
   },
   {
    "duration": 95,
    "start_time": "2022-03-12T17:59:51.184Z"
   },
   {
    "duration": 128,
    "start_time": "2022-03-12T17:59:54.168Z"
   },
   {
    "duration": 202,
    "start_time": "2022-03-12T17:59:56.560Z"
   },
   {
    "duration": 125,
    "start_time": "2022-03-12T17:59:59.462Z"
   },
   {
    "duration": 90,
    "start_time": "2022-03-12T18:00:01.899Z"
   },
   {
    "duration": 3,
    "start_time": "2022-03-12T18:03:21.526Z"
   },
   {
    "duration": 7,
    "start_time": "2022-03-12T18:03:43.213Z"
   },
   {
    "duration": 8,
    "start_time": "2022-03-12T18:04:06.188Z"
   },
   {
    "duration": 4,
    "start_time": "2022-03-12T18:07:45.191Z"
   },
   {
    "duration": 195,
    "start_time": "2022-03-12T18:32:40.168Z"
   },
   {
    "duration": 182,
    "start_time": "2022-03-12T18:32:58.286Z"
   },
   {
    "duration": 8,
    "start_time": "2022-03-12T18:33:24.087Z"
   },
   {
    "duration": 41,
    "start_time": "2022-03-12T18:33:36.336Z"
   },
   {
    "duration": 8,
    "start_time": "2022-03-12T18:33:47.454Z"
   },
   {
    "duration": 53,
    "start_time": "2022-03-12T18:33:48.258Z"
   },
   {
    "duration": 6,
    "start_time": "2022-03-12T18:33:53.966Z"
   },
   {
    "duration": 23,
    "start_time": "2022-03-12T18:33:54.497Z"
   },
   {
    "duration": 8,
    "start_time": "2022-03-12T18:33:57.655Z"
   },
   {
    "duration": 51,
    "start_time": "2022-03-12T18:33:58.212Z"
   },
   {
    "duration": 111,
    "start_time": "2022-03-12T18:33:58.749Z"
   },
   {
    "duration": 19,
    "start_time": "2022-03-12T18:34:02.512Z"
   },
   {
    "duration": 1091,
    "start_time": "2022-03-12T18:34:04.169Z"
   },
   {
    "duration": 5,
    "start_time": "2022-03-12T18:34:10.226Z"
   },
   {
    "duration": 34,
    "start_time": "2022-03-12T18:34:13.161Z"
   },
   {
    "duration": 8,
    "start_time": "2022-03-12T18:34:18.301Z"
   },
   {
    "duration": 436,
    "start_time": "2022-03-12T18:34:20.055Z"
   },
   {
    "duration": 12,
    "start_time": "2022-03-12T18:34:25.704Z"
   },
   {
    "duration": 587,
    "start_time": "2022-03-12T18:34:27.624Z"
   },
   {
    "duration": 32,
    "start_time": "2022-03-12T18:34:33.354Z"
   },
   {
    "duration": 1390,
    "start_time": "2022-03-12T18:34:34.920Z"
   },
   {
    "duration": 43,
    "start_time": "2022-03-12T18:34:40.153Z"
   },
   {
    "duration": 2081,
    "start_time": "2022-03-12T18:34:41.892Z"
   },
   {
    "duration": 11,
    "start_time": "2022-03-12T18:34:49.089Z"
   },
   {
    "duration": 626,
    "start_time": "2022-03-12T18:34:51.169Z"
   },
   {
    "duration": 187,
    "start_time": "2022-03-12T18:41:28.686Z"
   },
   {
    "duration": 7365,
    "start_time": "2022-03-12T18:41:45.152Z"
   },
   {
    "duration": 12,
    "start_time": "2022-03-12T18:42:43.227Z"
   },
   {
    "duration": 5,
    "start_time": "2022-03-12T18:42:46.787Z"
   },
   {
    "duration": 11,
    "start_time": "2022-03-12T18:42:53.502Z"
   },
   {
    "duration": 5,
    "start_time": "2022-03-12T18:43:01.565Z"
   },
   {
    "duration": 7356,
    "start_time": "2022-03-12T18:43:11.402Z"
   },
   {
    "duration": 10,
    "start_time": "2022-03-12T18:43:50.876Z"
   },
   {
    "duration": 7221,
    "start_time": "2022-03-12T18:45:33.603Z"
   },
   {
    "duration": 7285,
    "start_time": "2022-03-12T18:46:01.703Z"
   },
   {
    "duration": 7310,
    "start_time": "2022-03-12T18:46:16.044Z"
   },
   {
    "duration": 6284,
    "start_time": "2022-03-12T18:46:24.993Z"
   },
   {
    "duration": 6847,
    "start_time": "2022-03-12T18:46:39.327Z"
   },
   {
    "duration": 6321,
    "start_time": "2022-03-12T18:47:15.604Z"
   },
   {
    "duration": 57381,
    "start_time": "2022-03-12T18:47:41.640Z"
   },
   {
    "duration": 7319,
    "start_time": "2022-03-12T18:49:25.962Z"
   },
   {
    "duration": 99936,
    "start_time": "2022-03-12T20:34:29.786Z"
   },
   {
    "duration": 373379,
    "start_time": "2022-03-12T20:37:40.134Z"
   },
   {
    "duration": 212541,
    "start_time": "2022-03-12T20:44:01.973Z"
   },
   {
    "duration": 3,
    "start_time": "2022-03-12T20:50:13.278Z"
   },
   {
    "duration": 4,
    "start_time": "2022-03-12T20:50:29.175Z"
   },
   {
    "duration": 63,
    "start_time": "2022-03-12T20:50:42.469Z"
   },
   {
    "duration": 5,
    "start_time": "2022-03-12T20:50:48.873Z"
   },
   {
    "duration": 4,
    "start_time": "2022-03-12T20:50:52.001Z"
   },
   {
    "duration": 7778,
    "start_time": "2022-03-12T20:53:14.239Z"
   },
   {
    "duration": 135995,
    "start_time": "2022-03-12T20:53:34.091Z"
   },
   {
    "duration": 188,
    "start_time": "2022-03-12T20:55:59.108Z"
   },
   {
    "duration": 191,
    "start_time": "2022-03-12T20:56:14.758Z"
   },
   {
    "duration": 200,
    "start_time": "2022-03-12T20:56:29.210Z"
   },
   {
    "duration": 4,
    "start_time": "2022-03-12T20:56:43.291Z"
   },
   {
    "duration": 3,
    "start_time": "2022-03-12T20:56:48.574Z"
   },
   {
    "duration": 3,
    "start_time": "2022-03-12T20:56:51.951Z"
   },
   {
    "duration": 3,
    "start_time": "2022-03-12T20:56:58.193Z"
   },
   {
    "duration": 4,
    "start_time": "2022-03-12T20:57:02.922Z"
   },
   {
    "duration": 4,
    "start_time": "2022-03-12T20:57:10.084Z"
   },
   {
    "duration": 12,
    "start_time": "2022-03-12T21:00:07.205Z"
   },
   {
    "duration": 75,
    "start_time": "2022-03-12T21:00:41.439Z"
   },
   {
    "duration": 16,
    "start_time": "2022-03-12T21:00:50.077Z"
   },
   {
    "duration": 12,
    "start_time": "2022-03-12T21:00:52.800Z"
   },
   {
    "duration": 4,
    "start_time": "2022-03-12T21:01:37.115Z"
   },
   {
    "duration": 7,
    "start_time": "2022-03-12T21:01:38.844Z"
   },
   {
    "duration": 6,
    "start_time": "2022-03-12T21:01:40.613Z"
   },
   {
    "duration": 6,
    "start_time": "2022-03-12T21:01:41.662Z"
   },
   {
    "duration": 6,
    "start_time": "2022-03-12T21:01:44.318Z"
   },
   {
    "duration": 12,
    "start_time": "2022-03-12T21:01:52.776Z"
   },
   {
    "duration": 16,
    "start_time": "2022-03-12T21:01:57.425Z"
   },
   {
    "duration": 11,
    "start_time": "2022-03-12T21:02:01.242Z"
   },
   {
    "duration": 5,
    "start_time": "2022-03-12T21:02:16.307Z"
   },
   {
    "duration": 23,
    "start_time": "2022-03-12T21:02:57.607Z"
   },
   {
    "duration": 12,
    "start_time": "2022-03-12T21:03:17.136Z"
   },
   {
    "duration": 27,
    "start_time": "2022-03-12T21:04:12.070Z"
   },
   {
    "duration": 56,
    "start_time": "2022-03-12T21:04:15.805Z"
   },
   {
    "duration": 415,
    "start_time": "2022-03-12T21:04:30.645Z"
   },
   {
    "duration": 12,
    "start_time": "2022-03-12T21:06:32.905Z"
   },
   {
    "duration": 8,
    "start_time": "2022-03-12T21:07:30.251Z"
   },
   {
    "duration": 27,
    "start_time": "2022-03-12T21:08:31.578Z"
   },
   {
    "duration": 1099,
    "start_time": "2022-03-12T21:08:59.406Z"
   },
   {
    "duration": 5,
    "start_time": "2022-03-12T21:09:32.545Z"
   },
   {
    "duration": 5,
    "start_time": "2022-03-12T21:09:43.508Z"
   },
   {
    "duration": 237,
    "start_time": "2022-03-12T21:12:43.914Z"
   },
   {
    "duration": 12,
    "start_time": "2022-03-12T21:13:01.511Z"
   },
   {
    "duration": 5,
    "start_time": "2022-03-12T21:13:30.046Z"
   },
   {
    "duration": 11,
    "start_time": "2022-03-12T21:13:34.650Z"
   },
   {
    "duration": 12,
    "start_time": "2022-03-12T21:13:37.893Z"
   },
   {
    "duration": 8,
    "start_time": "2022-03-12T21:13:41.608Z"
   },
   {
    "duration": 13,
    "start_time": "2022-03-12T21:13:42.211Z"
   },
   {
    "duration": 551,
    "start_time": "2022-03-12T21:13:42.717Z"
   },
   {
    "duration": 11,
    "start_time": "2022-03-12T21:13:49.655Z"
   },
   {
    "duration": 154,
    "start_time": "2022-03-12T21:15:09.818Z"
   },
   {
    "duration": 154,
    "start_time": "2022-03-12T21:15:37.148Z"
   },
   {
    "duration": 10,
    "start_time": "2022-03-12T21:16:37.716Z"
   },
   {
    "duration": 11,
    "start_time": "2022-03-12T21:16:41.064Z"
   },
   {
    "duration": 6,
    "start_time": "2022-03-12T21:16:42.980Z"
   },
   {
    "duration": 13,
    "start_time": "2022-03-12T21:16:45.671Z"
   },
   {
    "duration": 568,
    "start_time": "2022-03-12T21:16:46.297Z"
   },
   {
    "duration": 17,
    "start_time": "2022-03-12T21:16:58.185Z"
   },
   {
    "duration": 1027,
    "start_time": "2022-03-12T21:16:58.747Z"
   },
   {
    "duration": 29,
    "start_time": "2022-03-12T21:17:03.967Z"
   },
   {
    "duration": 1315,
    "start_time": "2022-03-12T21:17:04.579Z"
   },
   {
    "duration": 47,
    "start_time": "2022-03-12T21:17:08.790Z"
   },
   {
    "duration": 2023,
    "start_time": "2022-03-12T21:17:09.337Z"
   },
   {
    "duration": 17,
    "start_time": "2022-03-12T21:17:13.604Z"
   },
   {
    "duration": 1052,
    "start_time": "2022-03-12T21:17:14.710Z"
   },
   {
    "duration": 11,
    "start_time": "2022-03-12T21:19:22.863Z"
   },
   {
    "duration": 12,
    "start_time": "2022-03-12T21:19:35.381Z"
   },
   {
    "duration": 1051,
    "start_time": "2022-03-12T21:19:50.016Z"
   },
   {
    "duration": 1062,
    "start_time": "2022-03-12T21:19:59.654Z"
   },
   {
    "duration": 6,
    "start_time": "2022-03-12T21:50:59.552Z"
   },
   {
    "duration": 12,
    "start_time": "2022-03-12T21:51:05.052Z"
   },
   {
    "duration": 5,
    "start_time": "2022-03-12T21:51:15.534Z"
   },
   {
    "duration": 6,
    "start_time": "2022-03-12T21:51:26.581Z"
   },
   {
    "duration": 259,
    "start_time": "2022-03-12T21:55:32.632Z"
   },
   {
    "duration": 5,
    "start_time": "2022-03-12T21:55:42.097Z"
   },
   {
    "duration": 4,
    "start_time": "2022-03-12T21:56:14.748Z"
   },
   {
    "duration": 4,
    "start_time": "2022-03-12T21:56:43.714Z"
   },
   {
    "duration": 1777,
    "start_time": "2022-03-12T22:15:45.391Z"
   },
   {
    "duration": 1039,
    "start_time": "2022-03-12T22:15:52.958Z"
   },
   {
    "duration": 7,
    "start_time": "2022-03-12T22:24:56.339Z"
   },
   {
    "duration": 6,
    "start_time": "2022-03-12T22:25:39.389Z"
   },
   {
    "duration": 2,
    "start_time": "2022-03-12T22:31:39.129Z"
   },
   {
    "duration": 8,
    "start_time": "2022-03-12T22:31:39.661Z"
   },
   {
    "duration": 8,
    "start_time": "2022-03-12T22:31:39.949Z"
   },
   {
    "duration": 9,
    "start_time": "2022-03-12T22:31:40.160Z"
   },
   {
    "duration": 9,
    "start_time": "2022-03-12T22:31:40.339Z"
   },
   {
    "duration": 13,
    "start_time": "2022-03-12T22:31:40.619Z"
   },
   {
    "duration": 43,
    "start_time": "2022-03-12T22:31:40.764Z"
   },
   {
    "duration": 39,
    "start_time": "2022-03-12T22:31:48.346Z"
   },
   {
    "duration": 41,
    "start_time": "2022-03-12T22:31:52.122Z"
   },
   {
    "duration": 39,
    "start_time": "2022-03-12T22:31:54.617Z"
   },
   {
    "duration": 42,
    "start_time": "2022-03-12T22:31:58.698Z"
   },
   {
    "duration": 41,
    "start_time": "2022-03-12T22:32:02.283Z"
   },
   {
    "duration": 41,
    "start_time": "2022-03-12T22:32:14.222Z"
   },
   {
    "duration": 43,
    "start_time": "2022-03-12T22:32:23.003Z"
   },
   {
    "duration": 43,
    "start_time": "2022-03-12T22:32:25.979Z"
   },
   {
    "duration": 41,
    "start_time": "2022-03-12T22:32:28.977Z"
   },
   {
    "duration": 43,
    "start_time": "2022-03-12T22:32:36.426Z"
   },
   {
    "duration": 12,
    "start_time": "2022-03-12T22:32:38.733Z"
   },
   {
    "duration": 40,
    "start_time": "2022-03-12T22:32:39.199Z"
   },
   {
    "duration": 1019,
    "start_time": "2022-03-12T22:32:49.191Z"
   },
   {
    "duration": 849,
    "start_time": "2022-03-12T22:32:56.770Z"
   },
   {
    "duration": 901,
    "start_time": "2022-03-12T22:33:00.373Z"
   },
   {
    "duration": 788,
    "start_time": "2022-03-12T22:33:05.874Z"
   },
   {
    "duration": 870,
    "start_time": "2022-03-12T22:33:10.420Z"
   },
   {
    "duration": 859,
    "start_time": "2022-03-12T22:33:19.320Z"
   },
   {
    "duration": 992,
    "start_time": "2022-03-12T22:33:23.090Z"
   },
   {
    "duration": 1055,
    "start_time": "2022-03-12T22:33:30.706Z"
   },
   {
    "duration": 936,
    "start_time": "2022-03-12T22:33:34.322Z"
   },
   {
    "duration": 871,
    "start_time": "2022-03-12T22:33:37.849Z"
   },
   {
    "duration": 906,
    "start_time": "2022-03-12T22:33:40.954Z"
   },
   {
    "duration": 1022,
    "start_time": "2022-03-12T22:33:45.939Z"
   },
   {
    "duration": 6,
    "start_time": "2022-03-12T22:36:42.219Z"
   },
   {
    "duration": 6,
    "start_time": "2022-03-12T22:37:55.197Z"
   },
   {
    "duration": 6,
    "start_time": "2022-03-12T22:48:31.130Z"
   },
   {
    "duration": 206,
    "start_time": "2022-03-12T22:49:43.607Z"
   },
   {
    "duration": 26,
    "start_time": "2022-03-12T22:49:50.113Z"
   },
   {
    "duration": 26,
    "start_time": "2022-03-12T22:50:43.595Z"
   },
   {
    "duration": 27,
    "start_time": "2022-03-12T22:50:47.150Z"
   },
   {
    "duration": 27,
    "start_time": "2022-03-12T22:50:50.289Z"
   },
   {
    "duration": 26,
    "start_time": "2022-03-12T22:50:54.786Z"
   },
   {
    "duration": 31,
    "start_time": "2022-03-12T22:50:58.194Z"
   },
   {
    "duration": 28,
    "start_time": "2022-03-12T22:51:02.786Z"
   },
   {
    "duration": 194,
    "start_time": "2022-03-12T22:51:13.537Z"
   },
   {
    "duration": 28,
    "start_time": "2022-03-12T22:51:17.937Z"
   },
   {
    "duration": 30,
    "start_time": "2022-03-12T22:51:23.688Z"
   },
   {
    "duration": 30,
    "start_time": "2022-03-12T22:51:26.907Z"
   },
   {
    "duration": 35,
    "start_time": "2022-03-12T22:51:30.594Z"
   },
   {
    "duration": 38,
    "start_time": "2022-03-12T22:51:33.862Z"
   },
   {
    "duration": 31,
    "start_time": "2022-03-12T22:51:37.352Z"
   },
   {
    "duration": 44,
    "start_time": "2022-03-12T22:52:23.177Z"
   },
   {
    "duration": 43,
    "start_time": "2022-03-12T22:52:27.690Z"
   },
   {
    "duration": 48,
    "start_time": "2022-03-12T22:52:32.794Z"
   },
   {
    "duration": 48,
    "start_time": "2022-03-12T22:52:35.450Z"
   },
   {
    "duration": 42,
    "start_time": "2022-03-12T22:52:39.282Z"
   },
   {
    "duration": 39,
    "start_time": "2022-03-12T22:52:42.443Z"
   },
   {
    "duration": 41,
    "start_time": "2022-03-12T22:52:45.481Z"
   },
   {
    "duration": 1726,
    "start_time": "2022-03-12T23:00:33.534Z"
   },
   {
    "duration": 8,
    "start_time": "2022-03-12T23:01:05.728Z"
   },
   {
    "duration": 43,
    "start_time": "2022-03-12T23:01:06.507Z"
   },
   {
    "duration": 2068,
    "start_time": "2022-03-12T23:01:07.130Z"
   },
   {
    "duration": 18,
    "start_time": "2022-03-12T23:01:16.880Z"
   },
   {
    "duration": 1072,
    "start_time": "2022-03-12T23:01:17.887Z"
   },
   {
    "duration": 13,
    "start_time": "2022-03-12T23:01:22.443Z"
   },
   {
    "duration": 562,
    "start_time": "2022-03-12T23:01:23.128Z"
   },
   {
    "duration": 19,
    "start_time": "2022-03-12T23:01:27.960Z"
   },
   {
    "duration": 1049,
    "start_time": "2022-03-12T23:01:29.321Z"
   },
   {
    "duration": 1277,
    "start_time": "2022-03-12T23:02:03.588Z"
   },
   {
    "duration": 2209,
    "start_time": "2022-03-12T23:02:09.751Z"
   },
   {
    "duration": 1233,
    "start_time": "2022-03-12T23:02:22.766Z"
   },
   {
    "duration": 6,
    "start_time": "2022-03-12T23:02:47.721Z"
   },
   {
    "duration": 6,
    "start_time": "2022-03-12T23:02:48.584Z"
   },
   {
    "duration": 8,
    "start_time": "2022-03-12T23:02:50.056Z"
   },
   {
    "duration": 7,
    "start_time": "2022-03-12T23:02:51.187Z"
   },
   {
    "duration": 1250,
    "start_time": "2022-03-12T23:02:52.746Z"
   },
   {
    "duration": 7,
    "start_time": "2022-03-12T23:03:33.422Z"
   },
   {
    "duration": 314,
    "start_time": "2022-03-12T23:06:02.100Z"
   },
   {
    "duration": 3144,
    "start_time": "2022-03-12T23:06:56.338Z"
   },
   {
    "duration": 3204,
    "start_time": "2022-03-12T23:07:11.690Z"
   },
   {
    "duration": 6966,
    "start_time": "2022-03-12T23:07:18.023Z"
   },
   {
    "duration": 3208,
    "start_time": "2022-03-12T23:07:33.683Z"
   },
   {
    "duration": 3111,
    "start_time": "2022-03-12T23:08:04.271Z"
   },
   {
    "duration": 6799,
    "start_time": "2022-03-12T23:08:28.364Z"
   },
   {
    "duration": 3087,
    "start_time": "2022-03-12T23:08:47.900Z"
   },
   {
    "duration": 6,
    "start_time": "2022-03-12T23:10:00.306Z"
   },
   {
    "duration": 4,
    "start_time": "2022-03-12T23:10:05.059Z"
   },
   {
    "duration": 7,
    "start_time": "2022-03-12T23:10:44.003Z"
   },
   {
    "duration": 6,
    "start_time": "2022-03-12T23:10:53.233Z"
   },
   {
    "duration": 7,
    "start_time": "2022-03-12T23:10:54.687Z"
   },
   {
    "duration": 1224,
    "start_time": "2022-03-12T23:11:42.242Z"
   },
   {
    "duration": 1212,
    "start_time": "2022-03-12T23:12:49.444Z"
   },
   {
    "duration": 1153,
    "start_time": "2022-03-12T23:13:25.495Z"
   },
   {
    "duration": 14,
    "start_time": "2022-03-12T23:13:26.650Z"
   },
   {
    "duration": 19,
    "start_time": "2022-03-12T23:13:26.666Z"
   },
   {
    "duration": 9,
    "start_time": "2022-03-12T23:13:26.687Z"
   },
   {
    "duration": 17,
    "start_time": "2022-03-12T23:13:26.697Z"
   },
   {
    "duration": 20,
    "start_time": "2022-03-12T23:13:26.716Z"
   },
   {
    "duration": 4,
    "start_time": "2022-03-12T23:13:26.738Z"
   },
   {
    "duration": 18,
    "start_time": "2022-03-12T23:13:26.744Z"
   },
   {
    "duration": 14,
    "start_time": "2022-03-12T23:13:26.764Z"
   },
   {
    "duration": 12,
    "start_time": "2022-03-12T23:13:26.780Z"
   },
   {
    "duration": 19,
    "start_time": "2022-03-12T23:13:26.794Z"
   },
   {
    "duration": 10,
    "start_time": "2022-03-12T23:13:26.815Z"
   },
   {
    "duration": 19,
    "start_time": "2022-03-12T23:13:26.827Z"
   },
   {
    "duration": 17,
    "start_time": "2022-03-12T23:13:26.847Z"
   },
   {
    "duration": 46,
    "start_time": "2022-03-12T23:13:26.866Z"
   },
   {
    "duration": 6,
    "start_time": "2022-03-12T23:13:26.914Z"
   },
   {
    "duration": 24,
    "start_time": "2022-03-12T23:13:26.922Z"
   },
   {
    "duration": 19,
    "start_time": "2022-03-12T23:13:26.947Z"
   },
   {
    "duration": 8,
    "start_time": "2022-03-12T23:13:34.700Z"
   },
   {
    "duration": 275,
    "start_time": "2022-03-12T23:13:38.582Z"
   },
   {
    "duration": 262,
    "start_time": "2022-03-12T23:13:59.560Z"
   },
   {
    "duration": 3331,
    "start_time": "2022-03-12T23:14:10.732Z"
   },
   {
    "duration": 7456,
    "start_time": "2022-03-12T23:14:20.103Z"
   },
   {
    "duration": 16095,
    "start_time": "2022-03-12T23:16:52.770Z"
   },
   {
    "duration": 3234,
    "start_time": "2022-03-12T23:20:00.326Z"
   },
   {
    "duration": 4,
    "start_time": "2022-03-12T23:20:14.927Z"
   },
   {
    "duration": 3104,
    "start_time": "2022-03-12T23:20:46.196Z"
   },
   {
    "duration": 7151,
    "start_time": "2022-03-12T23:20:56.231Z"
   },
   {
    "duration": 7,
    "start_time": "2022-03-12T23:21:16.722Z"
   },
   {
    "duration": 6,
    "start_time": "2022-03-12T23:21:17.463Z"
   },
   {
    "duration": 228,
    "start_time": "2022-03-12T23:21:18.033Z"
   },
   {
    "duration": 19,
    "start_time": "2022-03-12T23:21:22.204Z"
   },
   {
    "duration": 1090,
    "start_time": "2022-03-12T23:21:23.370Z"
   },
   {
    "duration": 6,
    "start_time": "2022-03-12T23:21:26.938Z"
   },
   {
    "duration": 196,
    "start_time": "2022-03-12T23:21:27.500Z"
   },
   {
    "duration": 4,
    "start_time": "2022-03-12T23:22:40.390Z"
   },
   {
    "duration": 42,
    "start_time": "2022-03-12T23:22:43.925Z"
   },
   {
    "duration": 6,
    "start_time": "2022-03-12T23:25:12.320Z"
   },
   {
    "duration": 186,
    "start_time": "2022-03-12T23:25:21.261Z"
   },
   {
    "duration": 88,
    "start_time": "2022-03-12T23:25:30.375Z"
   },
   {
    "duration": 140,
    "start_time": "2022-03-12T23:25:45.621Z"
   },
   {
    "duration": 105,
    "start_time": "2022-03-12T23:25:52.677Z"
   },
   {
    "duration": 135,
    "start_time": "2022-03-12T23:25:54.925Z"
   },
   {
    "duration": 101,
    "start_time": "2022-03-12T23:25:57.989Z"
   },
   {
    "duration": 140,
    "start_time": "2022-03-12T23:26:00.021Z"
   },
   {
    "duration": 136,
    "start_time": "2022-03-12T23:26:08.727Z"
   },
   {
    "duration": 135,
    "start_time": "2022-03-12T23:26:11.251Z"
   },
   {
    "duration": 196,
    "start_time": "2022-03-12T23:26:14.268Z"
   },
   {
    "duration": 203,
    "start_time": "2022-03-12T23:26:16.995Z"
   },
   {
    "duration": 205,
    "start_time": "2022-03-12T23:26:19.461Z"
   },
   {
    "duration": 192,
    "start_time": "2022-03-12T23:26:22.572Z"
   },
   {
    "duration": 93,
    "start_time": "2022-03-12T23:26:26.302Z"
   },
   {
    "duration": 104,
    "start_time": "2022-03-12T23:26:28.877Z"
   },
   {
    "duration": 137,
    "start_time": "2022-03-12T23:26:32.670Z"
   },
   {
    "duration": 161,
    "start_time": "2022-03-12T23:26:35.822Z"
   },
   {
    "duration": 152,
    "start_time": "2022-03-12T23:26:40.141Z"
   },
   {
    "duration": 198,
    "start_time": "2022-03-12T23:26:44.661Z"
   },
   {
    "duration": 183,
    "start_time": "2022-03-12T23:26:48.016Z"
   },
   {
    "duration": 188,
    "start_time": "2022-03-12T23:26:53.678Z"
   },
   {
    "duration": 10,
    "start_time": "2022-03-12T23:27:13.308Z"
   },
   {
    "duration": 46,
    "start_time": "2022-03-12T23:27:43.701Z"
   },
   {
    "duration": 7,
    "start_time": "2022-03-12T23:29:22.547Z"
   },
   {
    "duration": 63531,
    "start_time": "2022-03-12T23:29:28.071Z"
   },
   {
    "duration": 210042,
    "start_time": "2022-03-12T23:31:12.498Z"
   },
   {
    "duration": 255593,
    "start_time": "2022-03-12T23:34:43.767Z"
   },
   {
    "duration": 7006,
    "start_time": "2022-03-12T23:41:41.929Z"
   },
   {
    "duration": 216,
    "start_time": "2022-03-12T23:47:18.762Z"
   },
   {
    "duration": 13,
    "start_time": "2022-03-12T23:47:37.349Z"
   },
   {
    "duration": 5,
    "start_time": "2022-03-12T23:47:43.630Z"
   },
   {
    "duration": 8289,
    "start_time": "2022-03-12T23:48:16.536Z"
   },
   {
    "duration": 136140,
    "start_time": "2022-03-12T23:51:16.804Z"
   },
   {
    "duration": 7,
    "start_time": "2022-03-12T23:55:41.491Z"
   },
   {
    "duration": 7,
    "start_time": "2022-03-12T23:55:42.102Z"
   },
   {
    "duration": 204,
    "start_time": "2022-03-12T23:55:42.612Z"
   },
   {
    "duration": 151,
    "start_time": "2022-03-12T23:55:50.635Z"
   },
   {
    "duration": 11,
    "start_time": "2022-03-12T23:55:54.263Z"
   },
   {
    "duration": 152,
    "start_time": "2022-03-12T23:55:56.426Z"
   },
   {
    "duration": 7,
    "start_time": "2022-03-12T23:57:01.561Z"
   },
   {
    "duration": 185,
    "start_time": "2022-03-12T23:58:54.206Z"
   },
   {
    "duration": 153,
    "start_time": "2022-03-12T23:59:00.607Z"
   },
   {
    "duration": 206,
    "start_time": "2022-03-12T23:59:06.155Z"
   },
   {
    "duration": 8,
    "start_time": "2022-03-13T00:00:23.308Z"
   },
   {
    "duration": 7,
    "start_time": "2022-03-13T00:00:23.807Z"
   },
   {
    "duration": 272,
    "start_time": "2022-03-13T00:00:24.287Z"
   },
   {
    "duration": 12,
    "start_time": "2022-03-13T00:00:27.227Z"
   },
   {
    "duration": 162,
    "start_time": "2022-03-13T00:00:28.471Z"
   },
   {
    "duration": 223,
    "start_time": "2022-03-13T00:00:50.836Z"
   },
   {
    "duration": 11,
    "start_time": "2022-03-13T00:00:52.455Z"
   },
   {
    "duration": 146,
    "start_time": "2022-03-13T00:00:53.702Z"
   },
   {
    "duration": 6,
    "start_time": "2022-03-13T00:06:03.314Z"
   },
   {
    "duration": 9,
    "start_time": "2022-03-13T00:19:33.618Z"
   },
   {
    "duration": 15,
    "start_time": "2022-03-13T00:19:35.646Z"
   },
   {
    "duration": 45,
    "start_time": "2022-03-13T00:19:37.851Z"
   },
   {
    "duration": 1162,
    "start_time": "2022-03-13T00:22:53.757Z"
   },
   {
    "duration": 13,
    "start_time": "2022-03-13T00:22:54.921Z"
   },
   {
    "duration": 13,
    "start_time": "2022-03-13T00:22:54.936Z"
   },
   {
    "duration": 11,
    "start_time": "2022-03-13T00:22:54.951Z"
   },
   {
    "duration": 5,
    "start_time": "2022-03-13T00:22:54.964Z"
   },
   {
    "duration": 7,
    "start_time": "2022-03-13T00:22:54.970Z"
   },
   {
    "duration": 4,
    "start_time": "2022-03-13T00:22:54.978Z"
   },
   {
    "duration": 7,
    "start_time": "2022-03-13T00:22:54.985Z"
   },
   {
    "duration": 5,
    "start_time": "2022-03-13T00:22:54.994Z"
   },
   {
    "duration": 14,
    "start_time": "2022-03-13T00:22:55.000Z"
   },
   {
    "duration": 50,
    "start_time": "2022-03-13T00:22:55.016Z"
   },
   {
    "duration": 43,
    "start_time": "2022-03-13T00:22:55.068Z"
   },
   {
    "duration": 6,
    "start_time": "2022-03-13T00:22:55.113Z"
   },
   {
    "duration": 5,
    "start_time": "2022-03-13T00:22:55.120Z"
   },
   {
    "duration": 33,
    "start_time": "2022-03-13T00:22:55.127Z"
   },
   {
    "duration": 7,
    "start_time": "2022-03-13T00:22:55.162Z"
   },
   {
    "duration": 7289,
    "start_time": "2022-03-13T00:22:55.170Z"
   },
   {
    "duration": 8446,
    "start_time": "2022-03-13T00:23:02.463Z"
   },
   {
    "duration": -102,
    "start_time": "2022-03-13T00:23:11.013Z"
   },
   {
    "duration": -127,
    "start_time": "2022-03-13T00:23:11.039Z"
   },
   {
    "duration": -137,
    "start_time": "2022-03-13T00:23:11.050Z"
   },
   {
    "duration": -149,
    "start_time": "2022-03-13T00:23:11.063Z"
   },
   {
    "duration": -159,
    "start_time": "2022-03-13T00:23:11.074Z"
   },
   {
    "duration": -170,
    "start_time": "2022-03-13T00:23:11.086Z"
   },
   {
    "duration": -197,
    "start_time": "2022-03-13T00:23:11.113Z"
   },
   {
    "duration": 1209,
    "start_time": "2022-03-13T00:24:12.620Z"
   },
   {
    "duration": 15,
    "start_time": "2022-03-13T00:24:13.831Z"
   },
   {
    "duration": 18,
    "start_time": "2022-03-13T00:24:13.848Z"
   },
   {
    "duration": 7,
    "start_time": "2022-03-13T00:24:13.868Z"
   },
   {
    "duration": 10,
    "start_time": "2022-03-13T00:24:13.877Z"
   },
   {
    "duration": 9,
    "start_time": "2022-03-13T00:24:13.888Z"
   },
   {
    "duration": 6,
    "start_time": "2022-03-13T00:24:13.899Z"
   },
   {
    "duration": 13,
    "start_time": "2022-03-13T00:24:13.908Z"
   },
   {
    "duration": 35,
    "start_time": "2022-03-13T00:24:13.924Z"
   },
   {
    "duration": 12,
    "start_time": "2022-03-13T00:24:13.961Z"
   },
   {
    "duration": 15,
    "start_time": "2022-03-13T00:24:13.975Z"
   },
   {
    "duration": 71,
    "start_time": "2022-03-13T00:24:13.991Z"
   },
   {
    "duration": 7,
    "start_time": "2022-03-13T00:24:14.063Z"
   },
   {
    "duration": 5,
    "start_time": "2022-03-13T00:24:14.071Z"
   },
   {
    "duration": 11,
    "start_time": "2022-03-13T00:24:14.078Z"
   },
   {
    "duration": 6,
    "start_time": "2022-03-13T00:24:14.091Z"
   },
   {
    "duration": 7460,
    "start_time": "2022-03-13T00:24:14.099Z"
   },
   {
    "duration": 8240,
    "start_time": "2022-03-13T00:24:21.562Z"
   },
   {
    "duration": 133146,
    "start_time": "2022-03-13T00:24:29.804Z"
   },
   {
    "duration": 11,
    "start_time": "2022-03-13T00:26:42.952Z"
   },
   {
    "duration": 8,
    "start_time": "2022-03-13T00:26:42.964Z"
   },
   {
    "duration": 186,
    "start_time": "2022-03-13T00:26:42.974Z"
   },
   {
    "duration": 194,
    "start_time": "2022-03-13T00:26:43.166Z"
   },
   {
    "duration": 162,
    "start_time": "2022-03-13T00:26:43.362Z"
   },
   {
    "duration": 5,
    "start_time": "2022-03-13T00:26:43.525Z"
   },
   {
    "duration": 1173,
    "start_time": "2022-03-13T00:31:50.864Z"
   },
   {
    "duration": 14,
    "start_time": "2022-03-13T00:31:52.039Z"
   },
   {
    "duration": 18,
    "start_time": "2022-03-13T00:31:52.055Z"
   },
   {
    "duration": 31,
    "start_time": "2022-03-13T00:31:52.075Z"
   },
   {
    "duration": 24,
    "start_time": "2022-03-13T00:31:52.107Z"
   },
   {
    "duration": 15,
    "start_time": "2022-03-13T00:31:52.132Z"
   },
   {
    "duration": 24,
    "start_time": "2022-03-13T00:31:52.148Z"
   },
   {
    "duration": 33,
    "start_time": "2022-03-13T00:31:52.174Z"
   },
   {
    "duration": 8,
    "start_time": "2022-03-13T00:31:52.210Z"
   },
   {
    "duration": 14,
    "start_time": "2022-03-13T00:31:52.219Z"
   },
   {
    "duration": 15,
    "start_time": "2022-03-13T00:31:52.235Z"
   },
   {
    "duration": 52,
    "start_time": "2022-03-13T00:31:52.252Z"
   },
   {
    "duration": 6,
    "start_time": "2022-03-13T00:31:52.306Z"
   },
   {
    "duration": 26,
    "start_time": "2022-03-13T00:31:52.314Z"
   },
   {
    "duration": 25,
    "start_time": "2022-03-13T00:31:52.342Z"
   },
   {
    "duration": 30,
    "start_time": "2022-03-13T00:31:52.368Z"
   },
   {
    "duration": 6965,
    "start_time": "2022-03-13T00:31:52.399Z"
   },
   {
    "duration": 8122,
    "start_time": "2022-03-13T00:31:59.367Z"
   },
   {
    "duration": 132413,
    "start_time": "2022-03-13T00:32:07.491Z"
   },
   {
    "duration": 6,
    "start_time": "2022-03-13T00:34:19.906Z"
   },
   {
    "duration": 6,
    "start_time": "2022-03-13T00:34:19.914Z"
   },
   {
    "duration": 240,
    "start_time": "2022-03-13T00:34:19.921Z"
   },
   {
    "duration": 102,
    "start_time": "2022-03-13T00:34:20.166Z"
   },
   {
    "duration": 171,
    "start_time": "2022-03-13T00:34:20.270Z"
   },
   {
    "duration": 6,
    "start_time": "2022-03-13T00:34:20.443Z"
   },
   {
    "duration": 1168,
    "start_time": "2022-05-13T08:10:53.602Z"
   },
   {
    "duration": 19,
    "start_time": "2022-05-13T08:10:54.772Z"
   },
   {
    "duration": 23,
    "start_time": "2022-05-13T08:10:54.792Z"
   },
   {
    "duration": 13,
    "start_time": "2022-05-13T08:10:54.818Z"
   },
   {
    "duration": 8,
    "start_time": "2022-05-13T08:10:54.833Z"
   },
   {
    "duration": 9,
    "start_time": "2022-05-13T08:10:54.843Z"
   },
   {
    "duration": 4,
    "start_time": "2022-05-13T08:10:54.854Z"
   },
   {
    "duration": 7,
    "start_time": "2022-05-13T08:10:54.908Z"
   },
   {
    "duration": 8,
    "start_time": "2022-05-13T08:10:54.916Z"
   },
   {
    "duration": 35,
    "start_time": "2022-05-13T08:10:54.927Z"
   },
   {
    "duration": 45,
    "start_time": "2022-05-13T08:10:54.964Z"
   },
   {
    "duration": 414,
    "start_time": "2022-05-13T08:10:55.010Z"
   },
   {
    "duration": 10,
    "start_time": "2022-05-13T08:10:55.425Z"
   },
   {
    "duration": 8,
    "start_time": "2022-05-13T08:10:55.437Z"
   },
   {
    "duration": 12,
    "start_time": "2022-05-13T08:10:55.446Z"
   },
   {
    "duration": 51,
    "start_time": "2022-05-13T08:10:55.460Z"
   },
   {
    "duration": 12301,
    "start_time": "2022-05-13T08:10:55.512Z"
   },
   {
    "duration": 10793,
    "start_time": "2022-05-13T08:11:07.816Z"
   },
   {
    "duration": 150550,
    "start_time": "2022-05-13T08:11:18.611Z"
   },
   {
    "duration": 10,
    "start_time": "2022-05-13T08:13:49.163Z"
   },
   {
    "duration": 5,
    "start_time": "2022-05-13T08:13:49.175Z"
   },
   {
    "duration": 734,
    "start_time": "2022-05-13T08:13:49.182Z"
   },
   {
    "duration": 109,
    "start_time": "2022-05-13T08:13:50.009Z"
   },
   {
    "duration": 206,
    "start_time": "2022-05-13T08:13:50.120Z"
   },
   {
    "duration": 6,
    "start_time": "2022-05-13T08:13:50.327Z"
   }
  ],
  "kernelspec": {
   "display_name": "Python 3 (ipykernel)",
   "language": "python",
   "name": "python3"
  },
  "language_info": {
   "codemirror_mode": {
    "name": "ipython",
    "version": 3
   },
   "file_extension": ".py",
   "mimetype": "text/x-python",
   "name": "python",
   "nbconvert_exporter": "python",
   "pygments_lexer": "ipython3",
   "version": "3.9.5"
  },
  "toc": {
   "base_numbering": 1,
   "nav_menu": {
    "height": "360px",
    "width": "442px"
   },
   "number_sections": true,
   "sideBar": true,
   "skip_h1_title": true,
   "title_cell": "Table of Contents",
   "title_sidebar": "Contents",
   "toc_cell": false,
   "toc_position": {},
   "toc_section_display": true,
   "toc_window_display": false
  }
 },
 "nbformat": 4,
 "nbformat_minor": 2
}

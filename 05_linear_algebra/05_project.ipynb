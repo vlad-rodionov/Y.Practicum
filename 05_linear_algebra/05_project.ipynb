{
 "cells": [
  {
   "cell_type": "markdown",
   "metadata": {
    "toc": true
   },
   "source": [
    "<h1>Содержание<span class=\"tocSkip\"></span></h1>\n",
    "<div class=\"toc\"><ul class=\"toc-item\"><li><span><a href=\"#Загрузка-данных\" data-toc-modified-id=\"Загрузка-данных-1\"><span class=\"toc-item-num\">1&nbsp;&nbsp;</span>Загрузка данных</a></span></li><li><span><a href=\"#Умножение-матриц\" data-toc-modified-id=\"Умножение-матриц-2\"><span class=\"toc-item-num\">2&nbsp;&nbsp;</span>Умножение матриц</a></span></li><li><span><a href=\"#Алгоритм-преобразования\" data-toc-modified-id=\"Алгоритм-преобразования-3\"><span class=\"toc-item-num\">3&nbsp;&nbsp;</span>Алгоритм преобразования</a></span></li><li><span><a href=\"#Проверка-алгоритма\" data-toc-modified-id=\"Проверка-алгоритма-4\"><span class=\"toc-item-num\">4&nbsp;&nbsp;</span>Проверка алгоритма</a></span><ul class=\"toc-item\"><li><span><a href=\"#Обучение-модели\" data-toc-modified-id=\"Обучение-модели-4.1\"><span class=\"toc-item-num\">4.1&nbsp;&nbsp;</span>Обучение модели</a></span><ul class=\"toc-item\"><li><span><a href=\"#Обучение-на-исходных-данных\" data-toc-modified-id=\"Обучение-на-исходных-данных-4.1.1\"><span class=\"toc-item-num\">4.1.1&nbsp;&nbsp;</span>Обучение на исходных данных</a></span></li><li><span><a href=\"#Обучение-на-зашифрованных-данных\" data-toc-modified-id=\"Обучение-на-зашифрованных-данных-4.1.2\"><span class=\"toc-item-num\">4.1.2&nbsp;&nbsp;</span>Обучение на зашифрованных данных</a></span></li></ul></li></ul></li><li><span><a href=\"#Вывод\" data-toc-modified-id=\"Вывод-5\"><span class=\"toc-item-num\">5&nbsp;&nbsp;</span>Вывод</a></span></li></ul></div>"
   ]
  },
  {
   "cell_type": "markdown",
   "metadata": {},
   "source": [
    "# Защита персональных данных клиентов"
   ]
  },
  {
   "cell_type": "markdown",
   "metadata": {},
   "source": [
    "Разработать такой метод преобразования данных, чтобы по ним было сложно восстановить персональную информацию. Обоснуйте корректность его работы.\n",
    "\n",
    "Нужно защитить данные, чтобы при преобразовании качество моделей машинного обучения не ухудшилось.\n",
    "\n",
    "**Цель проекта** - предложить алгоритм по шифрованию персональных данных клиентов.\n",
    "\n",
    "**Ход проекта**\n",
    "\n",
    "Структура проекта будет состоять из следующих этапов:\n",
    "1. Загрузка и осмотр данных;\n",
    "2. Теоретическое обоснование предложенного метода шифрования;\n",
    "3. Проверка алгоритма на данных;\n",
    "4. Вывод."
   ]
  },
  {
   "cell_type": "markdown",
   "metadata": {},
   "source": [
    "## Загрузка данных"
   ]
  },
  {
   "cell_type": "code",
   "execution_count": 1,
   "metadata": {},
   "outputs": [],
   "source": [
    "import pandas as pd\n",
    "import numpy as np\n",
    "\n",
    "import matplotlib.pyplot as plt\n",
    "import seaborn as sns\n",
    "\n",
    "%matplotlib inline\n",
    "\n",
    "from sklearn.linear_model import LinearRegression\n",
    "from sklearn.model_selection import train_test_split\n",
    "from sklearn.datasets import make_spd_matrix\n",
    "from sklearn.metrics import r2_score"
   ]
  },
  {
   "cell_type": "markdown",
   "metadata": {},
   "source": [
    "Загрузим данные."
   ]
  },
  {
   "cell_type": "code",
   "execution_count": 2,
   "metadata": {},
   "outputs": [],
   "source": [
    "data = pd.read_csv('/datasets/insurance.csv')"
   ]
  },
  {
   "cell_type": "markdown",
   "metadata": {},
   "source": [
    "Посмотрим на 10 случайных наблюдений из датасета."
   ]
  },
  {
   "cell_type": "code",
   "execution_count": 3,
   "metadata": {},
   "outputs": [
    {
     "data": {
      "text/html": [
       "<div>\n",
       "<style scoped>\n",
       "    .dataframe tbody tr th:only-of-type {\n",
       "        vertical-align: middle;\n",
       "    }\n",
       "\n",
       "    .dataframe tbody tr th {\n",
       "        vertical-align: top;\n",
       "    }\n",
       "\n",
       "    .dataframe thead th {\n",
       "        text-align: right;\n",
       "    }\n",
       "</style>\n",
       "<table border=\"1\" class=\"dataframe\">\n",
       "  <thead>\n",
       "    <tr style=\"text-align: right;\">\n",
       "      <th></th>\n",
       "      <th>Пол</th>\n",
       "      <th>Возраст</th>\n",
       "      <th>Зарплата</th>\n",
       "      <th>Члены семьи</th>\n",
       "      <th>Страховые выплаты</th>\n",
       "    </tr>\n",
       "  </thead>\n",
       "  <tbody>\n",
       "    <tr>\n",
       "      <th>3888</th>\n",
       "      <td>1</td>\n",
       "      <td>25.0</td>\n",
       "      <td>48900.0</td>\n",
       "      <td>0</td>\n",
       "      <td>0</td>\n",
       "    </tr>\n",
       "    <tr>\n",
       "      <th>4148</th>\n",
       "      <td>0</td>\n",
       "      <td>39.0</td>\n",
       "      <td>19300.0</td>\n",
       "      <td>0</td>\n",
       "      <td>0</td>\n",
       "    </tr>\n",
       "    <tr>\n",
       "      <th>728</th>\n",
       "      <td>0</td>\n",
       "      <td>40.0</td>\n",
       "      <td>32500.0</td>\n",
       "      <td>1</td>\n",
       "      <td>0</td>\n",
       "    </tr>\n",
       "    <tr>\n",
       "      <th>4266</th>\n",
       "      <td>0</td>\n",
       "      <td>32.0</td>\n",
       "      <td>50400.0</td>\n",
       "      <td>1</td>\n",
       "      <td>0</td>\n",
       "    </tr>\n",
       "    <tr>\n",
       "      <th>3966</th>\n",
       "      <td>1</td>\n",
       "      <td>23.0</td>\n",
       "      <td>40200.0</td>\n",
       "      <td>2</td>\n",
       "      <td>0</td>\n",
       "    </tr>\n",
       "    <tr>\n",
       "      <th>2699</th>\n",
       "      <td>0</td>\n",
       "      <td>40.0</td>\n",
       "      <td>39400.0</td>\n",
       "      <td>3</td>\n",
       "      <td>0</td>\n",
       "    </tr>\n",
       "    <tr>\n",
       "      <th>1600</th>\n",
       "      <td>1</td>\n",
       "      <td>27.0</td>\n",
       "      <td>40700.0</td>\n",
       "      <td>0</td>\n",
       "      <td>0</td>\n",
       "    </tr>\n",
       "    <tr>\n",
       "      <th>1586</th>\n",
       "      <td>1</td>\n",
       "      <td>23.0</td>\n",
       "      <td>18700.0</td>\n",
       "      <td>1</td>\n",
       "      <td>0</td>\n",
       "    </tr>\n",
       "    <tr>\n",
       "      <th>3723</th>\n",
       "      <td>0</td>\n",
       "      <td>37.0</td>\n",
       "      <td>41500.0</td>\n",
       "      <td>3</td>\n",
       "      <td>0</td>\n",
       "    </tr>\n",
       "    <tr>\n",
       "      <th>4558</th>\n",
       "      <td>0</td>\n",
       "      <td>37.0</td>\n",
       "      <td>33200.0</td>\n",
       "      <td>1</td>\n",
       "      <td>0</td>\n",
       "    </tr>\n",
       "  </tbody>\n",
       "</table>\n",
       "</div>"
      ],
      "text/plain": [
       "      Пол  Возраст  Зарплата  Члены семьи  Страховые выплаты\n",
       "3888    1     25.0   48900.0            0                  0\n",
       "4148    0     39.0   19300.0            0                  0\n",
       "728     0     40.0   32500.0            1                  0\n",
       "4266    0     32.0   50400.0            1                  0\n",
       "3966    1     23.0   40200.0            2                  0\n",
       "2699    0     40.0   39400.0            3                  0\n",
       "1600    1     27.0   40700.0            0                  0\n",
       "1586    1     23.0   18700.0            1                  0\n",
       "3723    0     37.0   41500.0            3                  0\n",
       "4558    0     37.0   33200.0            1                  0"
      ]
     },
     "execution_count": 3,
     "metadata": {},
     "output_type": "execute_result"
    }
   ],
   "source": [
    "data.sample(10)"
   ]
  },
  {
   "cell_type": "markdown",
   "metadata": {},
   "source": [
    "Посмотрим на типы данных, а так же проверим наличие пропусков."
   ]
  },
  {
   "cell_type": "code",
   "execution_count": 4,
   "metadata": {
    "scrolled": true
   },
   "outputs": [
    {
     "name": "stdout",
     "output_type": "stream",
     "text": [
      "<class 'pandas.core.frame.DataFrame'>\n",
      "RangeIndex: 5000 entries, 0 to 4999\n",
      "Data columns (total 5 columns):\n",
      " #   Column             Non-Null Count  Dtype  \n",
      "---  ------             --------------  -----  \n",
      " 0   Пол                5000 non-null   int64  \n",
      " 1   Возраст            5000 non-null   float64\n",
      " 2   Зарплата           5000 non-null   float64\n",
      " 3   Члены семьи        5000 non-null   int64  \n",
      " 4   Страховые выплаты  5000 non-null   int64  \n",
      "dtypes: float64(2), int64(3)\n",
      "memory usage: 195.4 KB\n"
     ]
    }
   ],
   "source": [
    "data.info()"
   ]
  },
  {
   "cell_type": "markdown",
   "metadata": {},
   "source": [
    "Проверим наличие дубликатов."
   ]
  },
  {
   "cell_type": "code",
   "execution_count": 5,
   "metadata": {},
   "outputs": [
    {
     "data": {
      "text/plain": [
       "153"
      ]
     },
     "execution_count": 5,
     "metadata": {},
     "output_type": "execute_result"
    }
   ],
   "source": [
    "data.duplicated().sum()"
   ]
  },
  {
   "cell_type": "code",
   "execution_count": 6,
   "metadata": {},
   "outputs": [],
   "source": [
    "data = data.drop_duplicates().reset_index(drop=True)"
   ]
  },
  {
   "cell_type": "markdown",
   "metadata": {},
   "source": [
    "Переименуем столбцы в соотстветствии с правилами наименования."
   ]
  },
  {
   "cell_type": "code",
   "execution_count": 7,
   "metadata": {},
   "outputs": [],
   "source": [
    "data.columns = ['sex', 'age', 'salary', 'family_size', 'insurance_payment']"
   ]
  },
  {
   "cell_type": "markdown",
   "metadata": {},
   "source": [
    "Посмотрим на распределения в датасете."
   ]
  },
  {
   "cell_type": "code",
   "execution_count": 8,
   "metadata": {},
   "outputs": [
    {
     "data": {
      "text/html": [
       "<div>\n",
       "<style scoped>\n",
       "    .dataframe tbody tr th:only-of-type {\n",
       "        vertical-align: middle;\n",
       "    }\n",
       "\n",
       "    .dataframe tbody tr th {\n",
       "        vertical-align: top;\n",
       "    }\n",
       "\n",
       "    .dataframe thead th {\n",
       "        text-align: right;\n",
       "    }\n",
       "</style>\n",
       "<table border=\"1\" class=\"dataframe\">\n",
       "  <thead>\n",
       "    <tr style=\"text-align: right;\">\n",
       "      <th></th>\n",
       "      <th>sex</th>\n",
       "      <th>age</th>\n",
       "      <th>salary</th>\n",
       "      <th>family_size</th>\n",
       "      <th>insurance_payment</th>\n",
       "    </tr>\n",
       "  </thead>\n",
       "  <tbody>\n",
       "    <tr>\n",
       "      <th>count</th>\n",
       "      <td>4847.000000</td>\n",
       "      <td>4847.000000</td>\n",
       "      <td>4847.000000</td>\n",
       "      <td>4847.000000</td>\n",
       "      <td>4847.000000</td>\n",
       "    </tr>\n",
       "    <tr>\n",
       "      <th>mean</th>\n",
       "      <td>0.498453</td>\n",
       "      <td>31.023932</td>\n",
       "      <td>39895.811842</td>\n",
       "      <td>1.203425</td>\n",
       "      <td>0.152259</td>\n",
       "    </tr>\n",
       "    <tr>\n",
       "      <th>std</th>\n",
       "      <td>0.500049</td>\n",
       "      <td>8.487995</td>\n",
       "      <td>9972.953985</td>\n",
       "      <td>1.098664</td>\n",
       "      <td>0.468934</td>\n",
       "    </tr>\n",
       "    <tr>\n",
       "      <th>min</th>\n",
       "      <td>0.000000</td>\n",
       "      <td>18.000000</td>\n",
       "      <td>5300.000000</td>\n",
       "      <td>0.000000</td>\n",
       "      <td>0.000000</td>\n",
       "    </tr>\n",
       "    <tr>\n",
       "      <th>25%</th>\n",
       "      <td>0.000000</td>\n",
       "      <td>24.000000</td>\n",
       "      <td>33200.000000</td>\n",
       "      <td>0.000000</td>\n",
       "      <td>0.000000</td>\n",
       "    </tr>\n",
       "    <tr>\n",
       "      <th>50%</th>\n",
       "      <td>0.000000</td>\n",
       "      <td>30.000000</td>\n",
       "      <td>40200.000000</td>\n",
       "      <td>1.000000</td>\n",
       "      <td>0.000000</td>\n",
       "    </tr>\n",
       "    <tr>\n",
       "      <th>75%</th>\n",
       "      <td>1.000000</td>\n",
       "      <td>37.000000</td>\n",
       "      <td>46600.000000</td>\n",
       "      <td>2.000000</td>\n",
       "      <td>0.000000</td>\n",
       "    </tr>\n",
       "    <tr>\n",
       "      <th>max</th>\n",
       "      <td>1.000000</td>\n",
       "      <td>65.000000</td>\n",
       "      <td>79000.000000</td>\n",
       "      <td>6.000000</td>\n",
       "      <td>5.000000</td>\n",
       "    </tr>\n",
       "  </tbody>\n",
       "</table>\n",
       "</div>"
      ],
      "text/plain": [
       "               sex          age        salary  family_size  insurance_payment\n",
       "count  4847.000000  4847.000000   4847.000000  4847.000000        4847.000000\n",
       "mean      0.498453    31.023932  39895.811842     1.203425           0.152259\n",
       "std       0.500049     8.487995   9972.953985     1.098664           0.468934\n",
       "min       0.000000    18.000000   5300.000000     0.000000           0.000000\n",
       "25%       0.000000    24.000000  33200.000000     0.000000           0.000000\n",
       "50%       0.000000    30.000000  40200.000000     1.000000           0.000000\n",
       "75%       1.000000    37.000000  46600.000000     2.000000           0.000000\n",
       "max       1.000000    65.000000  79000.000000     6.000000           5.000000"
      ]
     },
     "execution_count": 8,
     "metadata": {},
     "output_type": "execute_result"
    }
   ],
   "source": [
    "data.describe()"
   ]
  },
  {
   "cell_type": "markdown",
   "metadata": {},
   "source": [
    "А так же посмотрим на визуальные распределения признаков в данных."
   ]
  },
  {
   "cell_type": "code",
   "execution_count": 9,
   "metadata": {},
   "outputs": [
    {
     "data": {
      "image/png": "[encoded data removed]",
      "text/plain": [
       "<Figure size 900x900 with 30 Axes>"
      ]
     },
     "metadata": {
      "needs_background": "light"
     },
     "output_type": "display_data"
    }
   ],
   "source": [
    "sns.pairplot(data);"
   ]
  },
  {
   "cell_type": "code",
   "execution_count": 10,
   "metadata": {},
   "outputs": [
    {
     "data": {
      "image/png": "[encoded data removed]",
      "text/plain": [
       "<Figure size 432x432 with 2 Axes>"
      ]
     },
     "metadata": {
      "needs_background": "light"
     },
     "output_type": "display_data"
    }
   ],
   "source": [
    "plt.figure(figsize = (6,6))\n",
    "plt.title('Корреляция между признаками', size=14)\n",
    "sns.heatmap(data.corr(), annot = True, square=True);"
   ]
  },
  {
   "cell_type": "markdown",
   "metadata": {},
   "source": [
    "**Вывод**:\n",
    "\n",
    "1. В данных отсутствовали пропуски;\n",
    "2. Столбцы в датасете были переименованы;\n",
    "3. В данных присутствовали дубликаты, которые были удалены;\n",
    "4. В данных присутствует только один категориальный признак - Пол (Sex), остальные - количественные;\n",
    "5. Признак age имеет значительную корреляюцию с целевым признаком insurance_payment."
   ]
  },
  {
   "cell_type": "markdown",
   "metadata": {},
   "source": [
    "## Умножение матриц"
   ]
  },
  {
   "cell_type": "markdown",
   "metadata": {},
   "source": [
    "Для обеспечения сохранности персональной информации необходимо разработать такой метод преобразования данных, чтобы по данным было сложно восстановить информацию.\n",
    "Метод преобразования будет заключатся в матричном умножении матрицы объект-признак на случайно-сгенерированную обратимую матрицу.\n",
    "\n",
    "Докажем корректность данного метода."
   ]
  },
  {
   "cell_type": "markdown",
   "metadata": {},
   "source": [
    "Обозначения:\n",
    "\n",
    "- $X$ — матрица признаков (нулевой столбец состоит из единиц)\n",
    "\n",
    "- $y$ — вектор целевого признака\n",
    "\n",
    "- $P$ — матрица, на которую умножаются признаки\n",
    "\n",
    "- $w$ — вектор весов линейной регрессии (нулевой элемент равен сдвигу)"
   ]
  },
  {
   "cell_type": "markdown",
   "metadata": {},
   "source": [
    "Предсказания:\n",
    "\n",
    "$$\n",
    "a = Xw\n",
    "$$\n",
    "\n",
    "Задача обучения:\n",
    "\n",
    "$$\n",
    "w = \\arg\\min_w MSE(Xw, y)\n",
    "$$\n",
    "\n",
    "Формула обучения:\n",
    "\n",
    "$$\n",
    "w = (X^T X)^{-1} X^T y\n",
    "$$"
   ]
  },
  {
   "cell_type": "markdown",
   "metadata": {},
   "source": [
    "Обозначим новую матрицу объект-признак:\n",
    "$$\n",
    "X' = XP\n",
    "$$\n",
    "\n",
    "Тогда новый вектор весов будет рассчитываться:\n",
    "$$\n",
    "w' = (X'^T X')^{-1} X'^T y\n",
    "$$\n",
    "\n",
    "Произведем замену:\n",
    "$$\n",
    "w' = ((XP)^T XP)^{-1} (XP)^T y\n",
    "$$\n",
    "\n",
    "Воспользуемся свойствами матриц, а именно:\n",
    "1. Свойство ассоциативности произведения матриц $ A(BC) = (AB)C $\n",
    "2. Свойство транспонирования произведения матрицы $ (A B)^T = B^T A^T $\n",
    "3. Свойство обратной матрицы $ (A B)^{-1} = B^{-1} A^{-1} $\n",
    "4. Произведение матрицы на ее обратную матрицу даст единичную матрицу $ A A^{-1} = E $\n",
    "\n",
    "Перепишем равенство:\n",
    "$$\n",
    "w' = (P^T X^T X P)^{-1} P^T X^T y\n",
    "$$\n",
    "\n",
    "Раскрыв скобки получим:\n",
    "$$\n",
    "w' = P^{-1} (X^T X)^{-1} (P^T)^{-1} P^T X^T y\n",
    "$$\n",
    "\n",
    "Таким образом:\n",
    "$$\n",
    "w' = P^{-1}w\n",
    "$$\n",
    "\n",
    "Тогда формула для предсказаний будет иметь вид:\n",
    "$$\n",
    "a' = X'w' = X P P^{-1}w = Xw\n",
    "$$\n",
    "\n",
    "Следовательно, умножение матрицы объект-признак на обратимую матрицу не приведет к изменению качества предсказания линейной регрессии."
   ]
  },
  {
   "cell_type": "markdown",
   "metadata": {},
   "source": [
    "## Алгоритм преобразования"
   ]
  },
  {
   "cell_type": "markdown",
   "metadata": {},
   "source": [
    "Доказав метод шифрования, приведенный выше, создадим алгоритм для шифрования данных.\n",
    "\n",
    "**Алгоритм**\n",
    "\n",
    "1. Методом `make_spd_matrix` создаем шифрующую матрицу A;\n",
    "2. Методом `np.linalg.inv()` проверяем шифрующую матрицу A на обратимость и получаем обратную матрицу, которая потребуется для дешифровки. Если матрица оказалась вырожденной, создаем новую матрицу;\n",
    "3. Умножаем матрицу объект-признак X на полученную матрицу A и получаем матрицу B с закодированными данными о клиентах\n",
    "$$\n",
    "B = X @ A\n",
    "$$"
   ]
  },
  {
   "cell_type": "markdown",
   "metadata": {},
   "source": [
    "**Обоснование**\n",
    "\n",
    "Данный алгоритм позволит защитить персональные данные клиентов, при этом не повлияв на качество модели."
   ]
  },
  {
   "cell_type": "markdown",
   "metadata": {},
   "source": [
    "## Проверка алгоритма"
   ]
  },
  {
   "cell_type": "markdown",
   "metadata": {},
   "source": [
    "Зафиксируем параметр seed"
   ]
  },
  {
   "cell_type": "code",
   "execution_count": 11,
   "metadata": {},
   "outputs": [],
   "source": [
    "SEED = 17"
   ]
  },
  {
   "cell_type": "markdown",
   "metadata": {},
   "source": [
    "Выделим признаки и целевой признак из данных"
   ]
  },
  {
   "cell_type": "code",
   "execution_count": 12,
   "metadata": {},
   "outputs": [],
   "source": [
    "features, target = data.drop(columns=['insurance_payment']), data['insurance_payment']"
   ]
  },
  {
   "cell_type": "markdown",
   "metadata": {},
   "source": [
    "Посмотрим на размерность данных"
   ]
  },
  {
   "cell_type": "code",
   "execution_count": 13,
   "metadata": {},
   "outputs": [
    {
     "name": "stdout",
     "output_type": "stream",
     "text": [
      "Размерность пространства признаков: (4847, 4)\n",
      "Размерность целевого признака: (4847,)\n"
     ]
    }
   ],
   "source": [
    "print('Размерность пространства признаков:', features.shape)\n",
    "print('Размерность целевого признака:', target.shape)"
   ]
  },
  {
   "cell_type": "markdown",
   "metadata": {},
   "source": [
    "Создадим матрицы"
   ]
  },
  {
   "cell_type": "code",
   "execution_count": 14,
   "metadata": {},
   "outputs": [],
   "source": [
    "features_matrix = features.values\n",
    "target_matrix = target.values"
   ]
  },
  {
   "cell_type": "markdown",
   "metadata": {},
   "source": [
    "Создадим шифрующую матрицу"
   ]
  },
  {
   "cell_type": "code",
   "execution_count": 15,
   "metadata": {},
   "outputs": [],
   "source": [
    "encryption_matrix = make_spd_matrix(n_dim=4, random_state=SEED)"
   ]
  },
  {
   "cell_type": "markdown",
   "metadata": {},
   "source": [
    "Проверим шифрующую матрицу на обратимость."
   ]
  },
  {
   "cell_type": "code",
   "execution_count": 16,
   "metadata": {},
   "outputs": [
    {
     "data": {
      "text/plain": [
       "array([[ 1.45811097,  0.15074934, -0.83419224, -0.47418602],\n",
       "       [ 0.15074934,  1.84914271,  0.35039822,  0.03842006],\n",
       "       [-0.83419224,  0.35039822,  0.9200942 ,  0.22967318],\n",
       "       [-0.47418602,  0.03842006,  0.22967318,  2.59540419]])"
      ]
     },
     "execution_count": 16,
     "metadata": {},
     "output_type": "execute_result"
    }
   ],
   "source": [
    "np.linalg.inv(encryption_matrix)"
   ]
  },
  {
   "cell_type": "markdown",
   "metadata": {},
   "source": [
    "Умножим матрицу объект-признак на шифрующую матрицу."
   ]
  },
  {
   "cell_type": "code",
   "execution_count": 17,
   "metadata": {},
   "outputs": [],
   "source": [
    "encoded_features = features_matrix @ encryption_matrix"
   ]
  },
  {
   "cell_type": "markdown",
   "metadata": {},
   "source": [
    "### Обучение модели\n",
    "\n",
    "Обучим 2 вида модели:\n",
    "1. На изначальных данных;\n",
    "2. На зашифрованных данных.\n",
    "\n",
    "Затем, сравнив результаты по метрике `r2_score` подтвердим/опровергнем работоспособность шифрующего алгоритма."
   ]
  },
  {
   "cell_type": "markdown",
   "metadata": {},
   "source": [
    "#### Обучение на исходных данных"
   ]
  },
  {
   "cell_type": "markdown",
   "metadata": {},
   "source": [
    "Разобьем данные на тестовую и валидационную выборки."
   ]
  },
  {
   "cell_type": "code",
   "execution_count": 18,
   "metadata": {},
   "outputs": [],
   "source": [
    "X_train, X_valid, y_train, y_valid = train_test_split(features, target, test_size=0.25,\n",
    "                                                      random_state=SEED)"
   ]
  },
  {
   "cell_type": "code",
   "execution_count": 19,
   "metadata": {},
   "outputs": [
    {
     "data": {
      "text/plain": [
       "True"
      ]
     },
     "execution_count": 19,
     "metadata": {},
     "output_type": "execute_result"
    }
   ],
   "source": [
    "len(features) == len(X_train) + len(X_valid)"
   ]
  },
  {
   "cell_type": "markdown",
   "metadata": {},
   "source": [
    "Обучим модель и посчитаем `r2_score`"
   ]
  },
  {
   "cell_type": "code",
   "execution_count": 20,
   "metadata": {},
   "outputs": [
    {
     "name": "stdout",
     "output_type": "stream",
     "text": [
      "Метрика R2 на исходных данных 0.4247967914840529\n"
     ]
    }
   ],
   "source": [
    "lr = LinearRegression()\n",
    "lr.fit(X_train, y_train)\n",
    "\n",
    "predict = lr.predict(X_valid)\n",
    "r2 = r2_score(y_valid, predict)\n",
    "print('Метрика R2 на исходных данных', r2)"
   ]
  },
  {
   "cell_type": "markdown",
   "metadata": {},
   "source": [
    "#### Обучение на зашифрованных данных"
   ]
  },
  {
   "cell_type": "code",
   "execution_count": 21,
   "metadata": {},
   "outputs": [],
   "source": [
    "X_train_enc, X_valid_enc, y_train_enc, y_valid_enc = train_test_split(encoded_features,\n",
    "                                                                      target, \n",
    "                                                                      test_size=0.25,\n",
    "                                                                      random_state=SEED)"
   ]
  },
  {
   "cell_type": "code",
   "execution_count": 22,
   "metadata": {},
   "outputs": [
    {
     "data": {
      "text/plain": [
       "True"
      ]
     },
     "execution_count": 22,
     "metadata": {},
     "output_type": "execute_result"
    }
   ],
   "source": [
    "len(encoded_features) == len(X_train_enc) + len(X_valid_enc)"
   ]
  },
  {
   "cell_type": "code",
   "execution_count": 23,
   "metadata": {},
   "outputs": [
    {
     "name": "stdout",
     "output_type": "stream",
     "text": [
      "Метрика R2 на зашифрованных данных 0.42479679148539995\n"
     ]
    }
   ],
   "source": [
    "lr_enc = LinearRegression()\n",
    "lr_enc.fit(X_train_enc, y_train_enc)\n",
    "\n",
    "predict_enc = lr_enc.predict(X_valid_enc)\n",
    "r2_score_enc = r2_score(y_valid_enc, predict_enc)\n",
    "print('Метрика R2 на зашифрованных данных', r2_score_enc)"
   ]
  },
  {
   "cell_type": "markdown",
   "metadata": {},
   "source": [
    "Сравним результаты метрики R2 до и после преобразования данных."
   ]
  },
  {
   "cell_type": "code",
   "execution_count": 24,
   "metadata": {},
   "outputs": [
    {
     "name": "stdout",
     "output_type": "stream",
     "text": [
      "R2 на исходных данных: 0.4247967914840529\n",
      "R2 на зашифрованных данных: 0.42479679148539995\n"
     ]
    }
   ],
   "source": [
    "print('R2 на исходных данных:', r2)\n",
    "print('R2 на зашифрованных данных:', r2_score_enc)"
   ]
  },
  {
   "cell_type": "markdown",
   "metadata": {},
   "source": [
    "Метрики практически не изменились. Значит, предложенный метод шифрования данных работает и не ухудшает качество линейной регрессии.\n",
    "Так же стоит ответить, что показатель R2 вменяем (находится в диапазоне от 0 до 1), но достаточно низкий."
   ]
  },
  {
   "cell_type": "markdown",
   "metadata": {},
   "source": [
    "## Вывод"
   ]
  },
  {
   "cell_type": "markdown",
   "metadata": {},
   "source": [
    "Целью данного проекта была разработка алгоритма шифромания данных для защиты персональных данных клиентов.\n",
    "\n",
    "В ходе осмотра в данных выявились дубликаты, которые были удалены. Пропуски отсутствовали. Так же были переименованы столбцы.\n",
    "\n",
    "Был предложен метод шифрования данных - умножение матрицы объект-признак на матрицу, которая имеет обратную. Теоретически было доказано, что данное преобразование не ухудшит результат предсказания.\n",
    "\n",
    "Затем этот метод был эксперементально подтвержден, сравнение производилось по метрике R2. Значительных изменений в метрике не обнаружилось."
   ]
  }
 ],
 "metadata": {
  "ExecuteTimeLog": [
   {
    "duration": 440,
    "start_time": "2022-05-10T14:18:08.327Z"
   },
   {
    "duration": 20,
    "start_time": "2022-05-10T14:18:29.221Z"
   },
   {
    "duration": 34,
    "start_time": "2022-05-10T14:18:31.489Z"
   },
   {
    "duration": 13,
    "start_time": "2022-05-10T14:18:37.683Z"
   },
   {
    "duration": 3,
    "start_time": "2022-05-10T14:18:43.718Z"
   },
   {
    "duration": 11,
    "start_time": "2022-05-10T14:19:09.225Z"
   },
   {
    "duration": 27,
    "start_time": "2022-05-10T14:19:24.349Z"
   },
   {
    "duration": 5,
    "start_time": "2022-05-10T14:19:58.289Z"
   },
   {
    "duration": 3,
    "start_time": "2022-05-10T14:21:18.937Z"
   },
   {
    "duration": 24,
    "start_time": "2022-05-10T14:21:23.155Z"
   },
   {
    "duration": 1019,
    "start_time": "2022-05-10T14:22:35.411Z"
   },
   {
    "duration": 823,
    "start_time": "2022-05-10T14:23:00.873Z"
   },
   {
    "duration": 43,
    "start_time": "2022-05-10T14:23:16.242Z"
   },
   {
    "duration": 2472,
    "start_time": "2022-05-11T10:51:55.932Z"
   },
   {
    "duration": 20,
    "start_time": "2022-05-11T10:51:58.407Z"
   },
   {
    "duration": 20,
    "start_time": "2022-05-11T10:51:58.430Z"
   },
   {
    "duration": 38,
    "start_time": "2022-05-11T10:51:58.453Z"
   },
   {
    "duration": 38,
    "start_time": "2022-05-11T10:51:58.495Z"
   },
   {
    "duration": 5,
    "start_time": "2022-05-11T10:51:58.535Z"
   },
   {
    "duration": 52,
    "start_time": "2022-05-11T10:51:58.542Z"
   },
   {
    "duration": 8,
    "start_time": "2022-05-11T11:02:11.711Z"
   },
   {
    "duration": 5,
    "start_time": "2022-05-11T11:02:26.411Z"
   },
   {
    "duration": 5,
    "start_time": "2022-05-11T11:03:31.059Z"
   },
   {
    "duration": 8,
    "start_time": "2022-05-11T11:03:56.724Z"
   },
   {
    "duration": 8,
    "start_time": "2022-05-11T11:05:26.115Z"
   },
   {
    "duration": 14,
    "start_time": "2022-05-11T11:05:46.644Z"
   },
   {
    "duration": 6,
    "start_time": "2022-05-11T11:06:20.401Z"
   },
   {
    "duration": 5,
    "start_time": "2022-05-11T11:06:53.176Z"
   },
   {
    "duration": 8,
    "start_time": "2022-05-11T11:13:20.796Z"
   },
   {
    "duration": 1502,
    "start_time": "2022-05-11T11:13:29.675Z"
   },
   {
    "duration": 840,
    "start_time": "2022-05-11T11:13:38.397Z"
   },
   {
    "duration": 5,
    "start_time": "2022-05-11T11:13:41.834Z"
   },
   {
    "duration": 5,
    "start_time": "2022-05-11T11:14:36.821Z"
   },
   {
    "duration": 4,
    "start_time": "2022-05-11T11:15:16.315Z"
   },
   {
    "duration": 17,
    "start_time": "2022-05-11T11:15:19.995Z"
   },
   {
    "duration": 4,
    "start_time": "2022-05-11T11:15:33.374Z"
   },
   {
    "duration": 17,
    "start_time": "2022-05-11T11:15:36.113Z"
   },
   {
    "duration": 13,
    "start_time": "2022-05-11T11:16:19.585Z"
   },
   {
    "duration": 5,
    "start_time": "2022-05-11T11:17:15.291Z"
   },
   {
    "duration": 12,
    "start_time": "2022-05-11T11:17:19.619Z"
   },
   {
    "duration": 4,
    "start_time": "2022-05-11T11:17:42.363Z"
   },
   {
    "duration": 6,
    "start_time": "2022-05-11T11:17:42.993Z"
   },
   {
    "duration": 13,
    "start_time": "2022-05-11T11:17:43.368Z"
   },
   {
    "duration": 5,
    "start_time": "2022-05-11T11:17:48.882Z"
   },
   {
    "duration": 4,
    "start_time": "2022-05-11T11:17:51.811Z"
   },
   {
    "duration": 5,
    "start_time": "2022-05-11T11:17:52.298Z"
   },
   {
    "duration": 4,
    "start_time": "2022-05-11T11:17:53.993Z"
   },
   {
    "duration": 14,
    "start_time": "2022-05-11T11:17:54.314Z"
   },
   {
    "duration": 4,
    "start_time": "2022-05-11T11:17:58.374Z"
   },
   {
    "duration": 5,
    "start_time": "2022-05-11T11:17:58.662Z"
   },
   {
    "duration": 4,
    "start_time": "2022-05-11T11:17:58.920Z"
   },
   {
    "duration": 17,
    "start_time": "2022-05-11T11:17:59.423Z"
   },
   {
    "duration": 4,
    "start_time": "2022-05-11T11:18:03.780Z"
   },
   {
    "duration": 6,
    "start_time": "2022-05-11T11:18:04.274Z"
   },
   {
    "duration": 6,
    "start_time": "2022-05-11T11:18:04.995Z"
   },
   {
    "duration": 12,
    "start_time": "2022-05-11T11:18:05.318Z"
   },
   {
    "duration": 1734,
    "start_time": "2022-05-11T14:55:05.853Z"
   },
   {
    "duration": 18,
    "start_time": "2022-05-11T14:55:07.589Z"
   },
   {
    "duration": 14,
    "start_time": "2022-05-11T14:55:07.609Z"
   },
   {
    "duration": 24,
    "start_time": "2022-05-11T14:55:07.626Z"
   },
   {
    "duration": 23,
    "start_time": "2022-05-11T14:55:07.651Z"
   },
   {
    "duration": 3,
    "start_time": "2022-05-11T14:55:07.675Z"
   },
   {
    "duration": 23,
    "start_time": "2022-05-11T14:55:07.679Z"
   },
   {
    "duration": 3,
    "start_time": "2022-05-11T14:55:07.704Z"
   },
   {
    "duration": 6,
    "start_time": "2022-05-11T14:55:07.709Z"
   },
   {
    "duration": 36,
    "start_time": "2022-05-11T14:55:07.718Z"
   },
   {
    "duration": 4,
    "start_time": "2022-05-11T14:55:07.756Z"
   },
   {
    "duration": 5,
    "start_time": "2022-05-11T14:55:07.761Z"
   },
   {
    "duration": 7,
    "start_time": "2022-05-11T14:55:07.768Z"
   },
   {
    "duration": 5,
    "start_time": "2022-05-11T14:55:07.776Z"
   },
   {
    "duration": 12,
    "start_time": "2022-05-11T14:55:07.783Z"
   },
   {
    "duration": 12,
    "start_time": "2022-05-11T14:55:49.351Z"
   },
   {
    "duration": 19,
    "start_time": "2022-05-11T14:56:06.076Z"
   },
   {
    "duration": 126,
    "start_time": "2022-05-12T12:51:23.270Z"
   },
   {
    "duration": 2708,
    "start_time": "2022-05-12T12:51:30.646Z"
   },
   {
    "duration": 30,
    "start_time": "2022-05-12T12:51:33.992Z"
   },
   {
    "duration": 35,
    "start_time": "2022-05-12T12:51:34.410Z"
   },
   {
    "duration": 23,
    "start_time": "2022-05-12T12:51:34.797Z"
   },
   {
    "duration": 6,
    "start_time": "2022-05-12T12:51:35.328Z"
   },
   {
    "duration": 36,
    "start_time": "2022-05-12T12:51:35.860Z"
   },
   {
    "duration": 8440,
    "start_time": "2022-05-12T12:51:37.323Z"
   },
   {
    "duration": 1143,
    "start_time": "2022-05-12T12:53:08.387Z"
   },
   {
    "duration": 786,
    "start_time": "2022-05-12T12:53:13.132Z"
   },
   {
    "duration": 758,
    "start_time": "2022-05-12T12:53:33.729Z"
   },
   {
    "duration": 769,
    "start_time": "2022-05-12T12:54:58.106Z"
   },
   {
    "duration": 872,
    "start_time": "2022-05-12T12:55:10.646Z"
   },
   {
    "duration": 1093,
    "start_time": "2022-05-12T12:55:25.392Z"
   },
   {
    "duration": 770,
    "start_time": "2022-05-12T12:55:30.798Z"
   },
   {
    "duration": 1071,
    "start_time": "2022-05-12T12:56:06.385Z"
   },
   {
    "duration": 746,
    "start_time": "2022-05-12T12:56:09.969Z"
   },
   {
    "duration": 67,
    "start_time": "2022-05-12T12:56:17.364Z"
   },
   {
    "duration": 1052,
    "start_time": "2022-05-12T12:56:23.697Z"
   },
   {
    "duration": 7461,
    "start_time": "2022-05-12T12:56:27.908Z"
   },
   {
    "duration": 13,
    "start_time": "2022-05-12T12:58:55.045Z"
   },
   {
    "duration": 10,
    "start_time": "2022-05-12T12:58:59.967Z"
   },
   {
    "duration": 18,
    "start_time": "2022-05-12T12:59:31.176Z"
   },
   {
    "duration": 14,
    "start_time": "2022-05-12T12:59:36.649Z"
   },
   {
    "duration": 28,
    "start_time": "2022-05-12T13:00:16.512Z"
   },
   {
    "duration": 34,
    "start_time": "2022-05-12T13:00:32.005Z"
   },
   {
    "duration": 34,
    "start_time": "2022-05-12T13:00:36.913Z"
   },
   {
    "duration": 30,
    "start_time": "2022-05-12T13:00:39.674Z"
   },
   {
    "duration": 8,
    "start_time": "2022-05-12T13:00:49.418Z"
   },
   {
    "duration": 6504,
    "start_time": "2022-05-12T13:04:11.431Z"
   },
   {
    "duration": 462,
    "start_time": "2022-05-12T13:08:14.912Z"
   },
   {
    "duration": 486,
    "start_time": "2022-05-12T13:08:18.774Z"
   },
   {
    "duration": 649,
    "start_time": "2022-05-12T13:15:05.848Z"
   },
   {
    "duration": 674,
    "start_time": "2022-05-12T13:15:11.697Z"
   },
   {
    "duration": 82,
    "start_time": "2022-05-12T14:21:49.747Z"
   },
   {
    "duration": 5,
    "start_time": "2022-05-12T14:30:56.028Z"
   },
   {
    "duration": 7,
    "start_time": "2022-05-12T14:31:57.917Z"
   },
   {
    "duration": 7,
    "start_time": "2022-05-12T14:33:14.674Z"
   },
   {
    "duration": 7,
    "start_time": "2022-05-12T14:33:43.015Z"
   },
   {
    "duration": 5,
    "start_time": "2022-05-12T14:35:31.994Z"
   },
   {
    "duration": 23,
    "start_time": "2022-05-12T14:37:05.803Z"
   },
   {
    "duration": 6,
    "start_time": "2022-05-12T14:37:13.661Z"
   },
   {
    "duration": 6,
    "start_time": "2022-05-12T14:37:16.931Z"
   },
   {
    "duration": 12,
    "start_time": "2022-05-12T14:38:04.444Z"
   },
   {
    "duration": 4,
    "start_time": "2022-05-12T14:39:46.844Z"
   },
   {
    "duration": 8,
    "start_time": "2022-05-12T14:39:52.624Z"
   },
   {
    "duration": 8,
    "start_time": "2022-05-12T14:43:07.723Z"
   },
   {
    "duration": 7,
    "start_time": "2022-05-12T14:43:28.323Z"
   },
   {
    "duration": 13,
    "start_time": "2022-05-12T14:48:52.107Z"
   },
   {
    "duration": 15,
    "start_time": "2022-05-12T14:50:01.605Z"
   },
   {
    "duration": 7,
    "start_time": "2022-05-12T14:51:27.657Z"
   },
   {
    "duration": 13,
    "start_time": "2022-05-12T14:51:44.074Z"
   },
   {
    "duration": 18,
    "start_time": "2022-05-12T14:52:26.810Z"
   },
   {
    "duration": 6,
    "start_time": "2022-05-12T14:52:47.952Z"
   },
   {
    "duration": 7,
    "start_time": "2022-05-12T14:52:48.552Z"
   },
   {
    "duration": 15,
    "start_time": "2022-05-12T14:52:49.261Z"
   },
   {
    "duration": 13,
    "start_time": "2022-05-12T14:53:36.593Z"
   },
   {
    "duration": 10,
    "start_time": "2022-05-12T14:53:43.007Z"
   },
   {
    "duration": 9,
    "start_time": "2022-05-12T14:53:48.957Z"
   },
   {
    "duration": 8,
    "start_time": "2022-05-12T14:54:39.874Z"
   },
   {
    "duration": 14,
    "start_time": "2022-05-12T14:54:46.715Z"
   },
   {
    "duration": 9,
    "start_time": "2022-05-12T14:54:58.662Z"
   },
   {
    "duration": 12,
    "start_time": "2022-05-12T14:55:04.754Z"
   },
   {
    "duration": 14,
    "start_time": "2022-05-12T14:55:26.225Z"
   },
   {
    "duration": 15,
    "start_time": "2022-05-12T14:55:33.026Z"
   },
   {
    "duration": 6,
    "start_time": "2022-05-12T14:56:12.501Z"
   },
   {
    "duration": 5,
    "start_time": "2022-05-12T14:56:12.858Z"
   },
   {
    "duration": 18,
    "start_time": "2022-05-12T14:56:13.520Z"
   },
   {
    "duration": 12,
    "start_time": "2022-05-12T14:56:34.795Z"
   },
   {
    "duration": 16,
    "start_time": "2022-05-12T14:56:45.463Z"
   },
   {
    "duration": 2067,
    "start_time": "2022-05-12T14:57:18.375Z"
   },
   {
    "duration": 15,
    "start_time": "2022-05-12T14:57:20.445Z"
   },
   {
    "duration": 30,
    "start_time": "2022-05-12T14:57:20.462Z"
   },
   {
    "duration": 16,
    "start_time": "2022-05-12T14:57:20.496Z"
   },
   {
    "duration": 10,
    "start_time": "2022-05-12T14:57:20.515Z"
   },
   {
    "duration": 11,
    "start_time": "2022-05-12T14:57:20.528Z"
   },
   {
    "duration": 45,
    "start_time": "2022-05-12T14:57:20.542Z"
   },
   {
    "duration": 45,
    "start_time": "2022-05-12T14:57:20.590Z"
   },
   {
    "duration": 6036,
    "start_time": "2022-05-12T14:57:20.638Z"
   },
   {
    "duration": 534,
    "start_time": "2022-05-12T14:57:26.679Z"
   },
   {
    "duration": 4,
    "start_time": "2022-05-12T14:57:27.215Z"
   },
   {
    "duration": 8,
    "start_time": "2022-05-12T14:57:27.221Z"
   },
   {
    "duration": 7,
    "start_time": "2022-05-12T14:57:27.232Z"
   },
   {
    "duration": 11,
    "start_time": "2022-05-12T14:57:27.241Z"
   },
   {
    "duration": 38,
    "start_time": "2022-05-12T14:57:27.255Z"
   },
   {
    "duration": 26,
    "start_time": "2022-05-12T14:57:27.296Z"
   },
   {
    "duration": 87,
    "start_time": "2022-05-12T14:57:27.326Z"
   },
   {
    "duration": 84,
    "start_time": "2022-05-12T14:57:27.417Z"
   },
   {
    "duration": 16,
    "start_time": "2022-05-12T14:57:27.504Z"
   },
   {
    "duration": 21,
    "start_time": "2022-05-12T14:57:27.522Z"
   },
   {
    "duration": 11,
    "start_time": "2022-05-12T14:57:27.545Z"
   },
   {
    "duration": 22,
    "start_time": "2022-05-12T14:57:27.558Z"
   },
   {
    "duration": 11,
    "start_time": "2022-05-12T14:57:27.592Z"
   },
   {
    "duration": 9,
    "start_time": "2022-05-12T14:58:02.053Z"
   },
   {
    "duration": 5,
    "start_time": "2022-05-12T15:00:40.764Z"
   },
   {
    "duration": 2828,
    "start_time": "2022-05-12T15:21:15.069Z"
   },
   {
    "duration": 22,
    "start_time": "2022-05-12T15:21:17.900Z"
   },
   {
    "duration": 23,
    "start_time": "2022-05-12T15:21:17.924Z"
   },
   {
    "duration": 37,
    "start_time": "2022-05-12T15:21:17.950Z"
   },
   {
    "duration": 24,
    "start_time": "2022-05-12T15:21:17.989Z"
   },
   {
    "duration": 10,
    "start_time": "2022-05-12T15:21:18.016Z"
   },
   {
    "duration": 5,
    "start_time": "2022-05-12T15:21:18.029Z"
   },
   {
    "duration": 71,
    "start_time": "2022-05-12T15:21:18.037Z"
   },
   {
    "duration": 7445,
    "start_time": "2022-05-12T15:21:18.111Z"
   },
   {
    "duration": 682,
    "start_time": "2022-05-12T15:21:25.560Z"
   },
   {
    "duration": 4,
    "start_time": "2022-05-12T15:21:26.245Z"
   },
   {
    "duration": 30,
    "start_time": "2022-05-12T15:21:26.252Z"
   },
   {
    "duration": 9,
    "start_time": "2022-05-12T15:21:26.287Z"
   },
   {
    "duration": 22,
    "start_time": "2022-05-12T15:21:26.299Z"
   },
   {
    "duration": 20,
    "start_time": "2022-05-12T15:21:26.324Z"
   },
   {
    "duration": 11,
    "start_time": "2022-05-12T15:21:26.347Z"
   },
   {
    "duration": 6,
    "start_time": "2022-05-12T15:21:26.388Z"
   },
   {
    "duration": 92,
    "start_time": "2022-05-12T15:21:26.396Z"
   },
   {
    "duration": 15,
    "start_time": "2022-05-12T15:21:26.491Z"
   },
   {
    "duration": 28,
    "start_time": "2022-05-12T15:21:26.510Z"
   },
   {
    "duration": 7,
    "start_time": "2022-05-12T15:21:26.541Z"
   },
   {
    "duration": 44,
    "start_time": "2022-05-12T15:21:26.551Z"
   },
   {
    "duration": 22,
    "start_time": "2022-05-12T15:21:26.598Z"
   },
   {
    "duration": 7,
    "start_time": "2022-05-12T15:21:26.622Z"
   },
   {
    "duration": 2380,
    "start_time": "2022-05-12T17:31:55.089Z"
   },
   {
    "duration": 17,
    "start_time": "2022-05-12T17:31:57.472Z"
   },
   {
    "duration": 21,
    "start_time": "2022-05-12T17:31:57.492Z"
   },
   {
    "duration": 16,
    "start_time": "2022-05-12T17:31:57.516Z"
   },
   {
    "duration": 10,
    "start_time": "2022-05-12T17:31:57.534Z"
   },
   {
    "duration": 36,
    "start_time": "2022-05-12T17:31:57.546Z"
   },
   {
    "duration": 6,
    "start_time": "2022-05-12T17:31:57.584Z"
   },
   {
    "duration": 41,
    "start_time": "2022-05-12T17:31:57.592Z"
   },
   {
    "duration": 6557,
    "start_time": "2022-05-12T17:31:57.636Z"
   },
   {
    "duration": 575,
    "start_time": "2022-05-12T17:32:04.197Z"
   },
   {
    "duration": 4,
    "start_time": "2022-05-12T17:32:04.774Z"
   },
   {
    "duration": 20,
    "start_time": "2022-05-12T17:32:04.780Z"
   },
   {
    "duration": 9,
    "start_time": "2022-05-12T17:32:04.802Z"
   },
   {
    "duration": 10,
    "start_time": "2022-05-12T17:32:04.813Z"
   },
   {
    "duration": 6,
    "start_time": "2022-05-12T17:32:04.825Z"
   },
   {
    "duration": 10,
    "start_time": "2022-05-12T17:32:04.833Z"
   },
   {
    "duration": 6,
    "start_time": "2022-05-12T17:32:04.891Z"
   },
   {
    "duration": 80,
    "start_time": "2022-05-12T17:32:04.903Z"
   },
   {
    "duration": 16,
    "start_time": "2022-05-12T17:32:04.990Z"
   },
   {
    "duration": 15,
    "start_time": "2022-05-12T17:32:05.008Z"
   },
   {
    "duration": 7,
    "start_time": "2022-05-12T17:32:05.025Z"
   },
   {
    "duration": 12,
    "start_time": "2022-05-12T17:32:05.034Z"
   },
   {
    "duration": 44,
    "start_time": "2022-05-12T17:32:05.048Z"
   },
   {
    "duration": 7,
    "start_time": "2022-05-12T17:32:05.095Z"
   },
   {
    "duration": 2454,
    "start_time": "2022-05-12T17:34:36.990Z"
   },
   {
    "duration": 16,
    "start_time": "2022-05-12T17:34:39.446Z"
   },
   {
    "duration": 26,
    "start_time": "2022-05-12T17:34:39.464Z"
   },
   {
    "duration": 21,
    "start_time": "2022-05-12T17:34:39.493Z"
   },
   {
    "duration": 24,
    "start_time": "2022-05-12T17:34:39.517Z"
   },
   {
    "duration": 8,
    "start_time": "2022-05-12T17:34:39.544Z"
   },
   {
    "duration": 32,
    "start_time": "2022-05-12T17:34:39.554Z"
   },
   {
    "duration": 46,
    "start_time": "2022-05-12T17:34:39.590Z"
   },
   {
    "duration": 7740,
    "start_time": "2022-05-12T17:34:39.639Z"
   },
   {
    "duration": 540,
    "start_time": "2022-05-12T17:34:47.383Z"
   },
   {
    "duration": 4,
    "start_time": "2022-05-12T17:34:47.926Z"
   },
   {
    "duration": 31,
    "start_time": "2022-05-12T17:34:47.933Z"
   },
   {
    "duration": 39,
    "start_time": "2022-05-12T17:34:47.966Z"
   },
   {
    "duration": 17,
    "start_time": "2022-05-12T17:34:48.008Z"
   },
   {
    "duration": 13,
    "start_time": "2022-05-12T17:34:48.027Z"
   },
   {
    "duration": 24,
    "start_time": "2022-05-12T17:34:48.043Z"
   },
   {
    "duration": 44,
    "start_time": "2022-05-12T17:34:48.070Z"
   },
   {
    "duration": 79,
    "start_time": "2022-05-12T17:34:48.117Z"
   },
   {
    "duration": 15,
    "start_time": "2022-05-12T17:34:48.199Z"
   },
   {
    "duration": 14,
    "start_time": "2022-05-12T17:34:48.216Z"
   },
   {
    "duration": 7,
    "start_time": "2022-05-12T17:34:48.232Z"
   },
   {
    "duration": 46,
    "start_time": "2022-05-12T17:34:48.242Z"
   },
   {
    "duration": 21,
    "start_time": "2022-05-12T17:34:48.291Z"
   },
   {
    "duration": 8,
    "start_time": "2022-05-12T17:34:48.315Z"
   }
  ],
  "kernelspec": {
   "display_name": "Python 3",
   "language": "python",
   "name": "python3"
  },
  "language_info": {
   "codemirror_mode": {
    "name": "ipython",
    "version": 3
   },
   "file_extension": ".py",
   "mimetype": "text/x-python",
   "name": "python",
   "nbconvert_exporter": "python",
   "pygments_lexer": "ipython3",
   "version": "3.7.4"
  },
  "toc": {
   "base_numbering": 1,
   "nav_menu": {},
   "number_sections": true,
   "sideBar": true,
   "skip_h1_title": true,
   "title_cell": "Содержание",
   "title_sidebar": "Contents",
   "toc_cell": true,
   "toc_position": {},
   "toc_section_display": true,
   "toc_window_display": false
  }
 },
 "nbformat": 4,
 "nbformat_minor": 2
}
